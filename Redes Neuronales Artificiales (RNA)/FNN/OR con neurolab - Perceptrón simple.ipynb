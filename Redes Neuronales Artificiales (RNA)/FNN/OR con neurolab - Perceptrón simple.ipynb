{
 "cells": [
  {
   "cell_type": "code",
   "execution_count": 2,
   "id": "3a97661d",
   "metadata": {},
   "outputs": [
    {
     "name": "stdout",
     "output_type": "stream",
     "text": [
      "Requirement already satisfied: neurolab in c:\\users\\amigo\\anaconda3\\lib\\site-packages (0.3.5)\n"
     ]
    }
   ],
   "source": [
    "!pip install neurolab"
   ]
  },
  {
   "cell_type": "code",
   "execution_count": 3,
   "id": "c56ea016",
   "metadata": {},
   "outputs": [],
   "source": [
    "import numpy as np\n",
    "import matplotlib.pyplot as plt\n",
    "import neurolab as nl"
   ]
  },
  {
   "cell_type": "code",
   "execution_count": 4,
   "id": "6c6723a2",
   "metadata": {},
   "outputs": [
    {
     "name": "stdout",
     "output_type": "stream",
     "text": [
      "[[1 1 1]\n",
      " [1 0 1]\n",
      " [0 1 1]\n",
      " [0 0 0]]\n"
     ]
    }
   ],
   "source": [
    "data = np.array([[1,1,1],\n",
    "                [1,0,1],\n",
    "                [0,1,1],\n",
    "                [0,0,0]])\n",
    "\n",
    "print(data)"
   ]
  },
  {
   "cell_type": "code",
   "execution_count": 5,
   "id": "fe5509d6",
   "metadata": {},
   "outputs": [
    {
     "data": {
      "text/plain": [
       "numpy.ndarray"
      ]
     },
     "execution_count": 5,
     "metadata": {},
     "output_type": "execute_result"
    }
   ],
   "source": [
    "type(data)"
   ]
  },
  {
   "cell_type": "code",
   "execution_count": 6,
   "id": "c5a89e91",
   "metadata": {},
   "outputs": [
    {
     "data": {
      "text/plain": [
       "(4, 3)"
      ]
     },
     "execution_count": 6,
     "metadata": {},
     "output_type": "execute_result"
    }
   ],
   "source": [
    "data.shape"
   ]
  },
  {
   "cell_type": "code",
   "execution_count": 7,
   "id": "5fd57190",
   "metadata": {},
   "outputs": [
    {
     "name": "stdout",
     "output_type": "stream",
     "text": [
      "4\n",
      "3\n"
     ]
    }
   ],
   "source": [
    "print(data.shape[0])\n",
    "print(data.shape[1])"
   ]
  },
  {
   "cell_type": "markdown",
   "id": "d9186fbd",
   "metadata": {},
   "source": [
    "**Separamos Entradas y Salidas**"
   ]
  },
  {
   "cell_type": "code",
   "execution_count": 8,
   "id": "838407e4",
   "metadata": {},
   "outputs": [
    {
     "name": "stdout",
     "output_type": "stream",
     "text": [
      "[[1 1]\n",
      " [1 0]\n",
      " [0 1]\n",
      " [0 0]]\n"
     ]
    }
   ],
   "source": [
    "#Entrada\n",
    "X = data[:,0:2]\n",
    "print(X)"
   ]
  },
  {
   "cell_type": "code",
   "execution_count": 9,
   "id": "b6a797c2",
   "metadata": {},
   "outputs": [
    {
     "name": "stdout",
     "output_type": "stream",
     "text": [
      "[[1]\n",
      " [1]\n",
      " [1]\n",
      " [0]]\n"
     ]
    }
   ],
   "source": [
    "#Salida\n",
    "#y = data[:,2].reshape(4,1)\n",
    "y = data[:,2].reshape(data.shape[0],1)\n",
    "print(y)"
   ]
  },
  {
   "cell_type": "code",
   "execution_count": 10,
   "id": "82505a4b",
   "metadata": {},
   "outputs": [
    {
     "data": {
      "text/plain": [
       "Text(0.5, 1.0, 'Datos de Entrada')"
      ]
     },
     "execution_count": 10,
     "metadata": {},
     "output_type": "execute_result"
    },
    {
     "data": {
      "image/png": "[encoded data removed]",
      "text/plain": [
       "<Figure size 432x288 with 1 Axes>"
      ]
     },
     "metadata": {
      "needs_background": "light"
     },
     "output_type": "display_data"
    }
   ],
   "source": [
    "#Gráficos de data\n",
    "plt.figure()\n",
    "plt.scatter(data[:,0],data[:,1])\n",
    "plt.xlabel('X1')\n",
    "plt.ylabel('X2')\n",
    "plt.title('Datos de Entrada')"
   ]
  },
  {
   "cell_type": "markdown",
   "id": "afb88ccc",
   "metadata": {},
   "source": [
    "### Definir el mínimo y máximo para cada entrada"
   ]
  },
  {
   "cell_type": "code",
   "execution_count": 11,
   "id": "5070599b",
   "metadata": {},
   "outputs": [],
   "source": [
    "x1_min, x1_max, x2_min, x2_max = 0, 1, 0, 1"
   ]
  },
  {
   "cell_type": "markdown",
   "id": "3282f062",
   "metadata": {},
   "source": [
    "### Numero de neuronas en la capa de salida"
   ]
  },
  {
   "cell_type": "code",
   "execution_count": 12,
   "id": "109abd17",
   "metadata": {},
   "outputs": [
    {
     "name": "stdout",
     "output_type": "stream",
     "text": [
      "1\n"
     ]
    }
   ],
   "source": [
    "num_salidas = y.shape[1]\n",
    "print(num_salidas)"
   ]
  },
  {
   "cell_type": "markdown",
   "id": "0b125e71",
   "metadata": {},
   "source": [
    "### Definir un perceptron con 2 neuronas de entrada y 1 de salida"
   ]
  },
  {
   "cell_type": "code",
   "execution_count": 13,
   "id": "c1d8f711",
   "metadata": {},
   "outputs": [],
   "source": [
    "x1 = [x1_min,x1_max]\n",
    "x2 = [x2_min,x2_max]\n",
    "perceptron = nl.net.newp([x1,x2],num_salidas)\n",
    "# Forma equivalente\n",
    "# perceptron = nl.net.newp([[0,1],[0,1]],num_salidas)"
   ]
  },
  {
   "cell_type": "markdown",
   "id": "5f191533",
   "metadata": {},
   "source": [
    "## Entrenar el perceptron usando la data"
   ]
  },
  {
   "cell_type": "code",
   "execution_count": 14,
   "id": "1960636e",
   "metadata": {},
   "outputs": [
    {
     "name": "stdout",
     "output_type": "stream",
     "text": [
      "The goal of learning is reached\n"
     ]
    }
   ],
   "source": [
    "progreso_error = perceptron.train(X,y,epochs=100,show=20,lr=0.03)"
   ]
  },
  {
   "cell_type": "markdown",
   "id": "4f705522",
   "metadata": {},
   "source": [
    "### Gráfico del progreso de entrenamiento"
   ]
  },
  {
   "cell_type": "code",
   "execution_count": 15,
   "id": "a1181b01",
   "metadata": {},
   "outputs": [
    {
     "data": {
      "image/png": "[encoded data removed]",
      "text/plain": [
       "<Figure size 432x288 with 1 Axes>"
      ]
     },
     "metadata": {
      "needs_background": "light"
     },
     "output_type": "display_data"
    }
   ],
   "source": [
    "plt.figure()\n",
    "plt.plot(progreso_error)\n",
    "plt.xlabel('Número de épocas')\n",
    "plt.ylabel('Error de entrenamiento')\n",
    "plt.title('Progreso de error de entrenamiento')\n",
    "plt.grid()"
   ]
  },
  {
   "cell_type": "code",
   "execution_count": 16,
   "id": "bd0ebc8a",
   "metadata": {},
   "outputs": [
    {
     "name": "stdout",
     "output_type": "stream",
     "text": [
      "\n",
      "Resultados de Prueba:\n",
      "[0, 0] ---> [[0.]]\n",
      "[1, 0] ---> [[1.]]\n"
     ]
    }
   ],
   "source": [
    "print('\\nResultados de Prueba:')\n",
    "datos_prueba = [[0,0],[1,0]]\n",
    "for item in datos_prueba:\n",
    "  print(item, '--->',perceptron.sim([item]))"
   ]
  },
  {
   "cell_type": "code",
   "execution_count": null,
   "id": "1d457d3a",
   "metadata": {},
   "outputs": [],
   "source": []
  }
 ],
 "metadata": {
  "kernelspec": {
   "display_name": "Python 3 (ipykernel)",
   "language": "python",
   "name": "python3"
  },
  "language_info": {
   "codemirror_mode": {
    "name": "ipython",
    "version": 3
   },
   "file_extension": ".py",
   "mimetype": "text/x-python",
   "name": "python",
   "nbconvert_exporter": "python",
   "pygments_lexer": "ipython3",
   "version": "3.9.12"
  }
 },
 "nbformat": 4,
 "nbformat_minor": 5
}
