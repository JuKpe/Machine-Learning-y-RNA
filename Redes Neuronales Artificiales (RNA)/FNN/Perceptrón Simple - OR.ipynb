{
 "cells": [
  {
   "cell_type": "code",
   "execution_count": 1,
   "id": "8a3a7365",
   "metadata": {},
   "outputs": [],
   "source": [
    "def fpaso(x):\n",
    "    if x>0:\n",
    "        return 1\n",
    "    else:\n",
    "        return 0"
   ]
  },
  {
   "cell_type": "code",
   "execution_count": 2,
   "id": "13fd71a2",
   "metadata": {},
   "outputs": [],
   "source": [
    "n = 0.7 #tasa de aprendizaje"
   ]
  },
  {
   "cell_type": "code",
   "execution_count": 3,
   "id": "47d9c6e4",
   "metadata": {},
   "outputs": [
    {
     "name": "stdout",
     "output_type": "stream",
     "text": [
      "w1 =  0.909769237923872\n",
      "w2 =  0.2940790407586785\n",
      "sesgo =  0.4594338793312195\n"
     ]
    }
   ],
   "source": [
    "import random\n",
    "random.seed(70)\n",
    "w1 = random.random()\n",
    "w2 = random.random()\n",
    "s = random.random()\n",
    "print(\"w1 = \", w1)\n",
    "print(\"w2 = \", w2)\n",
    "print(\"sesgo = \", s)"
   ]
  },
  {
   "cell_type": "markdown",
   "id": "b89ecf94",
   "metadata": {},
   "source": [
    "**Época 1**"
   ]
  },
  {
   "cell_type": "code",
   "execution_count": 6,
   "id": "905467e0",
   "metadata": {},
   "outputs": [
    {
     "name": "stdout",
     "output_type": "stream",
     "text": [
      "suma ponderada: 0.7444143993513311\n",
      "valor predicho: y = 1\n"
     ]
    }
   ],
   "source": [
    "x1 = 1\n",
    "x2 = 1\n",
    "z = 1\n",
    "print(\"suma ponderada:\", x1*w1 + x2*w2 - 1*s)\n",
    "y = fpaso(x1*w1 + x2*w2 - 1*s) # valor predicho.\n",
    "print(\"valor predicho: y =\", y)"
   ]
  },
  {
   "cell_type": "code",
   "execution_count": 7,
   "id": "72c1b13e",
   "metadata": {},
   "outputs": [
    {
     "name": "stdout",
     "output_type": "stream",
     "text": [
      "w1 =  0.909769237923872\n",
      "w2 =  0.2940790407586785\n",
      "sesgo =  0.4594338793312195\n"
     ]
    }
   ],
   "source": [
    "w1 = w1 + n*(z-y)*x1\n",
    "w2 = w2 + n*(z-y)*x2\n",
    "s = s + n*(z-y)*(-1)\n",
    "print(\"w1 = \", w1)\n",
    "print(\"w2 = \",w2)\n",
    "print(\"sesgo = \",s)"
   ]
  },
  {
   "cell_type": "code",
   "execution_count": 8,
   "id": "11429754",
   "metadata": {},
   "outputs": [
    {
     "name": "stdout",
     "output_type": "stream",
     "text": [
      "suma ponderada: 0.4503353585926525\n",
      "valor predicho: y = 1\n"
     ]
    }
   ],
   "source": [
    "x1 = 1\n",
    "x2 = 0\n",
    "z = 1\n",
    "print(\"suma ponderada:\", x1*w1 + x2*w2 - 1*s)\n",
    "y = fpaso(x1*w1 + x2*w2 - 1*s) # valor predicho.\n",
    "print(\"valor predicho: y =\", y)"
   ]
  },
  {
   "cell_type": "code",
   "execution_count": 9,
   "id": "6f3900c4",
   "metadata": {},
   "outputs": [
    {
     "name": "stdout",
     "output_type": "stream",
     "text": [
      "w1 =  0.909769237923872\n",
      "w2 =  0.2940790407586785\n",
      "sesgo =  0.4594338793312195\n"
     ]
    }
   ],
   "source": [
    "w1 = w1 + n*(z-y)*x1\n",
    "w2 = w2 + n*(z-y)*x2\n",
    "s = s + n*(z-y)*(-1)\n",
    "print(\"w1 = \", w1)\n",
    "print(\"w2 = \",w2)\n",
    "print(\"sesgo = \",s)"
   ]
  },
  {
   "cell_type": "code",
   "execution_count": 10,
   "id": "a09820d2",
   "metadata": {},
   "outputs": [
    {
     "name": "stdout",
     "output_type": "stream",
     "text": [
      "suma ponderada: -0.16535483857254096\n",
      "valor predicho: y = 0\n"
     ]
    }
   ],
   "source": [
    "x1 = 0\n",
    "x2 = 1\n",
    "z = 1\n",
    "print(\"suma ponderada:\", x1*w1 + x2*w2 - 1*s)\n",
    "y = fpaso(x1*w1 + x2*w2 - 1*s) # valor predicho.\n",
    "print(\"valor predicho: y =\", y)"
   ]
  },
  {
   "cell_type": "code",
   "execution_count": 11,
   "id": "19e1bb4f",
   "metadata": {},
   "outputs": [
    {
     "name": "stdout",
     "output_type": "stream",
     "text": [
      "w1 =  0.909769237923872\n",
      "w2 =  0.9940790407586785\n",
      "sesgo =  -0.24056612066878047\n"
     ]
    }
   ],
   "source": [
    "w1 = w1 + n*(z-y)*x1\n",
    "w2 = w2 + n*(z-y)*x2\n",
    "s = s + n*(z-y)*(-1)\n",
    "print(\"w1 = \", w1)\n",
    "print(\"w2 = \",w2)\n",
    "print(\"sesgo = \",s)"
   ]
  },
  {
   "cell_type": "code",
   "execution_count": 12,
   "id": "e75c893b",
   "metadata": {},
   "outputs": [
    {
     "name": "stdout",
     "output_type": "stream",
     "text": [
      "suma ponderada: 0.24056612066878047\n",
      "valor predicho: y = 1\n"
     ]
    }
   ],
   "source": [
    "x1 = 0\n",
    "x2 = 0\n",
    "z = 0\n",
    "print(\"suma ponderada:\", x1*w1 + x2*w2 - 1*s)\n",
    "y = fpaso(x1*w1 + x2*w2 - 1*s) # valor predicho.\n",
    "print(\"valor predicho: y =\", y)"
   ]
  },
  {
   "cell_type": "code",
   "execution_count": 13,
   "id": "3483ac41",
   "metadata": {},
   "outputs": [
    {
     "name": "stdout",
     "output_type": "stream",
     "text": [
      "w1 =  0.909769237923872\n",
      "w2 =  0.9940790407586785\n",
      "sesgo =  0.4594338793312195\n"
     ]
    }
   ],
   "source": [
    "w1 = w1 + n*(z-y)*x1\n",
    "w2 = w2 + n*(z-y)*x2\n",
    "s = s + n*(z-y)*(-1)\n",
    "print(\"w1 = \", w1)\n",
    "print(\"w2 = \",w2)\n",
    "print(\"sesgo = \",s)"
   ]
  },
  {
   "cell_type": "markdown",
   "id": "bbd9628b",
   "metadata": {},
   "source": [
    "### Época 2"
   ]
  },
  {
   "cell_type": "code",
   "execution_count": 14,
   "id": "fa6bf8f1",
   "metadata": {},
   "outputs": [
    {
     "name": "stdout",
     "output_type": "stream",
     "text": [
      "suma ponderada: 1.4444143993513308\n",
      "valor predicho: y = 1\n"
     ]
    }
   ],
   "source": [
    "x1 = 1\n",
    "x2 = 1\n",
    "z = 1\n",
    "print(\"suma ponderada:\", x1*w1 + x2*w2 - 1*s)\n",
    "y = fpaso(x1*w1 + x2*w2 - 1*s) # valor predicho.\n",
    "print(\"valor predicho: y =\", y)"
   ]
  },
  {
   "cell_type": "code",
   "execution_count": 15,
   "id": "4f99bf88",
   "metadata": {},
   "outputs": [
    {
     "name": "stdout",
     "output_type": "stream",
     "text": [
      "w1 =  0.909769237923872\n",
      "w2 =  0.9940790407586785\n",
      "sesgo =  0.4594338793312195\n"
     ]
    }
   ],
   "source": [
    "w1 = w1 + n*(z-y)*x1\n",
    "w2 = w2 + n*(z-y)*x2\n",
    "s = s + n*(z-y)*(-1)\n",
    "print(\"w1 = \", w1)\n",
    "print(\"w2 = \",w2)\n",
    "print(\"sesgo = \",s)"
   ]
  },
  {
   "cell_type": "code",
   "execution_count": 16,
   "id": "4d477938",
   "metadata": {},
   "outputs": [
    {
     "name": "stdout",
     "output_type": "stream",
     "text": [
      "suma ponderada: 0.4503353585926525\n",
      "valor predicho: y = 1\n"
     ]
    }
   ],
   "source": [
    "x1 = 1\n",
    "x2 = 0\n",
    "z = 1\n",
    "print(\"suma ponderada:\", x1*w1 + x2*w2 - 1*s)\n",
    "y = fpaso(x1*w1 + x2*w2 - 1*s) # valor predicho.\n",
    "print(\"valor predicho: y =\", y)"
   ]
  },
  {
   "cell_type": "code",
   "execution_count": 17,
   "id": "a84d0d6b",
   "metadata": {},
   "outputs": [
    {
     "name": "stdout",
     "output_type": "stream",
     "text": [
      "w1 =  0.909769237923872\n",
      "w2 =  0.9940790407586785\n",
      "sesgo =  0.4594338793312195\n"
     ]
    }
   ],
   "source": [
    "w1 = w1 + n*(z-y)*x1\n",
    "w2 = w2 + n*(z-y)*x2\n",
    "s = s + n*(z-y)*(-1)\n",
    "print(\"w1 = \", w1)\n",
    "print(\"w2 = \",w2)\n",
    "print(\"sesgo = \",s)"
   ]
  },
  {
   "cell_type": "code",
   "execution_count": 18,
   "id": "ae8f0448",
   "metadata": {},
   "outputs": [
    {
     "name": "stdout",
     "output_type": "stream",
     "text": [
      "suma ponderada: 0.534645161427459\n",
      "valor predicho: y = 1\n"
     ]
    }
   ],
   "source": [
    "x1 = 0\n",
    "x2 = 1\n",
    "z = 1\n",
    "print(\"suma ponderada:\", x1*w1 + x2*w2 - 1*s)\n",
    "y = fpaso(x1*w1 + x2*w2 - 1*s) # valor predicho.\n",
    "print(\"valor predicho: y =\", y)"
   ]
  },
  {
   "cell_type": "code",
   "execution_count": 19,
   "id": "9cfb67f1",
   "metadata": {},
   "outputs": [
    {
     "name": "stdout",
     "output_type": "stream",
     "text": [
      "w1 =  0.909769237923872\n",
      "w2 =  0.9940790407586785\n",
      "sesgo =  0.4594338793312195\n"
     ]
    }
   ],
   "source": [
    "w1 = w1 + n*(z-y)*x1\n",
    "w2 = w2 + n*(z-y)*x2\n",
    "s = s + n*(z-y)*(-1)\n",
    "print(\"w1 = \", w1)\n",
    "print(\"w2 = \",w2)\n",
    "print(\"sesgo = \",s)"
   ]
  },
  {
   "cell_type": "code",
   "execution_count": 20,
   "id": "3cb5bdb2",
   "metadata": {},
   "outputs": [
    {
     "name": "stdout",
     "output_type": "stream",
     "text": [
      "suma ponderada: -0.4594338793312195\n",
      "valor predicho: y = 0\n"
     ]
    }
   ],
   "source": [
    "x1 = 0\n",
    "x2 = 0\n",
    "z = 0\n",
    "print(\"suma ponderada:\", x1*w1 + x2*w2 - 1*s)\n",
    "y = fpaso(x1*w1 + x2*w2 - 1*s) # valor predicho.\n",
    "print(\"valor predicho: y =\", y)"
   ]
  },
  {
   "cell_type": "code",
   "execution_count": 21,
   "id": "935a1314",
   "metadata": {},
   "outputs": [
    {
     "name": "stdout",
     "output_type": "stream",
     "text": [
      "w1 =  0.909769237923872\n",
      "w2 =  0.9940790407586785\n",
      "sesgo =  0.4594338793312195\n"
     ]
    }
   ],
   "source": [
    "w1 = w1 + n*(z-y)*x1\n",
    "w2 = w2 + n*(z-y)*x2\n",
    "s = s + n*(z-y)*(-1)\n",
    "print(\"w1 = \", w1)\n",
    "print(\"w2 = \",w2)\n",
    "print(\"sesgo = \",s)"
   ]
  },
  {
   "cell_type": "markdown",
   "id": "47fc6a77",
   "metadata": {},
   "source": [
    "**Ya no hay más cambios. No es necesario probar con el resto de entradas de la época porque ya han sido probados satisfactoriamente con los mismos PESOS**"
   ]
  },
  {
   "cell_type": "code",
   "execution_count": 22,
   "id": "697a860e",
   "metadata": {},
   "outputs": [],
   "source": [
    "def funcionOr(x1 , x2):\n",
    "  y = fpaso(x1*w1 + x2*w2 - 1*(s))\n",
    "  if y == 1:\n",
    "    return \"V\"\n",
    "  else:\n",
    "    return \"F\""
   ]
  },
  {
   "cell_type": "code",
   "execution_count": 24,
   "id": "16446bd7",
   "metadata": {},
   "outputs": [
    {
     "name": "stdout",
     "output_type": "stream",
     "text": [
      "V and V:  V\n",
      "V and F:  V\n",
      "F and V:  V\n",
      "F and F:  F\n"
     ]
    }
   ],
   "source": [
    "#Prueba\n",
    "print(\"V and V: \",funcionOr(1,1))\n",
    "print(\"V and F: \",funcionOr(1,0))\n",
    "print(\"F and V: \",funcionOr(0,1))\n",
    "print(\"F and F: \",funcionOr(0,0))"
   ]
  },
  {
   "cell_type": "code",
   "execution_count": null,
   "id": "aa104c9f",
   "metadata": {},
   "outputs": [],
   "source": []
  }
 ],
 "metadata": {
  "kernelspec": {
   "display_name": "Python 3 (ipykernel)",
   "language": "python",
   "name": "python3"
  },
  "language_info": {
   "codemirror_mode": {
    "name": "ipython",
    "version": 3
   },
   "file_extension": ".py",
   "mimetype": "text/x-python",
   "name": "python",
   "nbconvert_exporter": "python",
   "pygments_lexer": "ipython3",
   "version": "3.9.12"
  }
 },
 "nbformat": 4,
 "nbformat_minor": 5
}
