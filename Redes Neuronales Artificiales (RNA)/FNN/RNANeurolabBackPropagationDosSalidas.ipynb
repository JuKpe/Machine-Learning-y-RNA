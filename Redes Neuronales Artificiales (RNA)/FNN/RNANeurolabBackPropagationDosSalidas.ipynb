{
 "cells": [
  {
   "cell_type": "markdown",
   "metadata": {
    "id": "WMhjvtPrwypP"
   },
   "source": [
    "## Cargar librerias"
   ]
  },
  {
   "cell_type": "code",
   "execution_count": 1,
   "metadata": {
    "colab": {
     "base_uri": "https://localhost:8080/"
    },
    "id": "PRMjTwCOuOXv",
    "outputId": "ee405ae8-7984-4525-d022-2eb8bb50374e"
   },
   "outputs": [
    {
     "name": "stdout",
     "output_type": "stream",
     "text": [
      "Collecting neurolab\n",
      "  Downloading neurolab-0.3.5.tar.gz (645 kB)\n",
      "\u001b[2K     \u001b[90m━━━━━━━━━━━━━━━━━━━━━━━━━━━━━━━━━━━━━━\u001b[0m \u001b[32m645.3/645.3 kB\u001b[0m \u001b[31m12.4 MB/s\u001b[0m eta \u001b[36m0:00:00\u001b[0m\n",
      "\u001b[?25h  Preparing metadata (setup.py) ... \u001b[?25l\u001b[?25hdone\n",
      "Building wheels for collected packages: neurolab\n",
      "  Building wheel for neurolab (setup.py) ... \u001b[?25l\u001b[?25hdone\n",
      "  Created wheel for neurolab: filename=neurolab-0.3.5-py3-none-any.whl size=22181 sha256=7fe04dabf2d7b16ae57e752be4c78fe0139b18d5fb682519947b51b173b4b0d9\n",
      "  Stored in directory: /root/.cache/pip/wheels/1d/c0/44/7142fa43c89473c5e63a750a00224e5f9ec9ca80613de1f97d\n",
      "Successfully built neurolab\n",
      "Installing collected packages: neurolab\n",
      "Successfully installed neurolab-0.3.5\n"
     ]
    }
   ],
   "source": [
    "!pip install neurolab"
   ]
  },
  {
   "cell_type": "code",
   "execution_count": 2,
   "metadata": {
    "id": "vJN9eHRFrJGV"
   },
   "outputs": [],
   "source": [
    "import numpy as np\n",
    "import matplotlib.pyplot as plt\n",
    "import neurolab as nl"
   ]
  },
  {
   "cell_type": "markdown",
   "metadata": {
    "id": "aB2cGkV4wjxt"
   },
   "source": [
    "\n",
    "## Cargar los datos\n",
    "\n"
   ]
  },
  {
   "cell_type": "code",
   "execution_count": 3,
   "metadata": {
    "colab": {
     "base_uri": "https://localhost:8080/"
    },
    "id": "MAQJWslhuiPm",
    "outputId": "1fd94ca8-f769-48cd-d725-c633c2967d7f"
   },
   "outputs": [
    {
     "name": "stdout",
     "output_type": "stream",
     "text": [
      "[[1.  4.  0.  0. ]\n",
      " [1.1 3.9 0.  0. ]\n",
      " [1.2 4.1 0.  0. ]\n",
      " [0.9 3.7 0.  0. ]\n",
      " [7.  4.  0.  1. ]\n",
      " [7.2 4.1 0.  1. ]\n",
      " [6.9 3.9 0.  1. ]\n",
      " [7.1 4.2 0.  1. ]\n",
      " [4.  1.  1.  0. ]\n",
      " [4.1 0.9 1.  0. ]\n",
      " [4.2 1.1 1.  0. ]\n",
      " [3.9 0.8 1.  0. ]\n",
      " [4.  7.  1.  1. ]\n",
      " [4.2 7.2 1.  1. ]\n",
      " [3.9 7.1 1.  1. ]\n",
      " [4.1 6.8 1.  1. ]]\n"
     ]
    }
   ],
   "source": [
    "data = np.loadtxt('data_simple_nn.txt')\n",
    "print(data)"
   ]
  },
  {
   "cell_type": "code",
   "execution_count": 4,
   "metadata": {
    "colab": {
     "base_uri": "https://localhost:8080/"
    },
    "id": "LiPkU7fUyeuX",
    "outputId": "f7cd1963-0991-4560-b48f-029c37b22718"
   },
   "outputs": [
    {
     "data": {
      "text/plain": [
       "(16, 4)"
      ]
     },
     "execution_count": 4,
     "metadata": {},
     "output_type": "execute_result"
    }
   ],
   "source": [
    "data.shape"
   ]
  },
  {
   "cell_type": "markdown",
   "metadata": {
    "id": "iOTEBoH9x7Wn"
   },
   "source": [
    "Separamos entradas y salidas"
   ]
  },
  {
   "cell_type": "code",
   "execution_count": 5,
   "metadata": {
    "colab": {
     "base_uri": "https://localhost:8080/"
    },
    "id": "b2ZKPbVQxCQO",
    "outputId": "1a1f7ff8-6421-4717-a0ea-d4da54abe21c"
   },
   "outputs": [
    {
     "name": "stdout",
     "output_type": "stream",
     "text": [
      "[[1.  4. ]\n",
      " [1.1 3.9]\n",
      " [1.2 4.1]\n",
      " [0.9 3.7]\n",
      " [7.  4. ]\n",
      " [7.2 4.1]\n",
      " [6.9 3.9]\n",
      " [7.1 4.2]\n",
      " [4.  1. ]\n",
      " [4.1 0.9]\n",
      " [4.2 1.1]\n",
      " [3.9 0.8]\n",
      " [4.  7. ]\n",
      " [4.2 7.2]\n",
      " [3.9 7.1]\n",
      " [4.1 6.8]]\n"
     ]
    }
   ],
   "source": [
    "#Entrada\n",
    "X = data[:,0:2]\n",
    "print(X)"
   ]
  },
  {
   "cell_type": "code",
   "execution_count": 6,
   "metadata": {
    "colab": {
     "base_uri": "https://localhost:8080/"
    },
    "id": "4C-6CveEzH3g",
    "outputId": "e8fc20a0-99c0-4fa4-9956-608ffdfbe8e1"
   },
   "outputs": [
    {
     "name": "stdout",
     "output_type": "stream",
     "text": [
      "[[0. 0.]\n",
      " [0. 0.]\n",
      " [0. 0.]\n",
      " [0. 0.]\n",
      " [0. 1.]\n",
      " [0. 1.]\n",
      " [0. 1.]\n",
      " [0. 1.]\n",
      " [1. 0.]\n",
      " [1. 0.]\n",
      " [1. 0.]\n",
      " [1. 0.]\n",
      " [1. 1.]\n",
      " [1. 1.]\n",
      " [1. 1.]\n",
      " [1. 1.]]\n"
     ]
    }
   ],
   "source": [
    "#Salida\n",
    "y = data[:,2:]\n",
    "print(y)"
   ]
  },
  {
   "cell_type": "code",
   "execution_count": 9,
   "metadata": {
    "colab": {
     "base_uri": "https://localhost:8080/",
     "height": 490
    },
    "id": "nsp-LkJ00JGh",
    "outputId": "aa686961-8da3-4ce7-b327-2766e414ee01"
   },
   "outputs": [
    {
     "data": {
      "text/plain": [
       "Text(0.5, 1.0, 'Datos de Entrada')"
      ]
     },
     "execution_count": 9,
     "metadata": {},
     "output_type": "execute_result"
    },
    {
     "data": {
      "image/png": "[encoded data removed]",
      "text/plain": [
       "<Figure size 640x480 with 1 Axes>"
      ]
     },
     "metadata": {},
     "output_type": "display_data"
    }
   ],
   "source": [
    "#Gráficos de data\n",
    "plt.figure()\n",
    "plt.scatter(data[:,0],data[:,1])\n",
    "plt.xlabel('X1')\n",
    "plt.ylabel('X2')\n",
    "plt.title('Datos de Entrada')"
   ]
  },
  {
   "cell_type": "code",
   "execution_count": 10,
   "metadata": {
    "colab": {
     "base_uri": "https://localhost:8080/",
     "height": 490
    },
    "id": "UgOdT3rLhXcw",
    "outputId": "530afc5a-bac4-4ead-c0e4-aa4b4b975de8"
   },
   "outputs": [
    {
     "data": {
      "text/plain": [
       "Text(0.5, 1.0, 'Datos de Entrada')"
      ]
     },
     "execution_count": 10,
     "metadata": {},
     "output_type": "execute_result"
    },
    {
     "data": {
      "image/png": "[encoded data removed]",
      "text/plain": [
       "<Figure size 640x480 with 1 Axes>"
      ]
     },
     "metadata": {},
     "output_type": "display_data"
    }
   ],
   "source": [
    "#Gráficos de data\n",
    "plt.figure()\n",
    "plt.scatter(data[:,0],data[:,1])\n",
    "plt.xlabel('X1')\n",
    "plt.ylabel('X2')\n",
    "plt.title('Datos de Entrada')"
   ]
  },
  {
   "cell_type": "markdown",
   "metadata": {
    "id": "a7dJWJTt1kbu"
   },
   "source": [
    "###Definir el mínimo y máximo para cada entrada"
   ]
  },
  {
   "cell_type": "code",
   "execution_count": 11,
   "metadata": {
    "id": "yoju9rHD1hH6"
   },
   "outputs": [],
   "source": [
    "x1_min, x1_max = data[:,0].min(), data[:,0].max()"
   ]
  },
  {
   "cell_type": "code",
   "execution_count": 12,
   "metadata": {
    "id": "mIZAq93PKFCV"
   },
   "outputs": [],
   "source": [
    "x2_min, x2_max = data[:,1].min(), data[:,1].max()"
   ]
  },
  {
   "cell_type": "code",
   "execution_count": 13,
   "metadata": {
    "colab": {
     "base_uri": "https://localhost:8080/"
    },
    "id": "mP2jDuJKKzm3",
    "outputId": "b8459dc0-60d3-4533-ccc0-d99c818a9880"
   },
   "outputs": [
    {
     "name": "stdout",
     "output_type": "stream",
     "text": [
      "0.9 7.2 0.8 7.2\n"
     ]
    }
   ],
   "source": [
    "print(x1_min,x1_max,x2_min,x2_max)"
   ]
  },
  {
   "cell_type": "markdown",
   "metadata": {
    "id": "fbJZ-3YP2YEF"
   },
   "source": [
    "## Numero de neuronas en la capa de salida"
   ]
  },
  {
   "cell_type": "code",
   "execution_count": 14,
   "metadata": {
    "colab": {
     "base_uri": "https://localhost:8080/"
    },
    "id": "FuZ_EPUg2MTq",
    "outputId": "c2c0eb62-6603-451b-960f-4f5add77baff"
   },
   "outputs": [
    {
     "name": "stdout",
     "output_type": "stream",
     "text": [
      "2\n"
     ]
    }
   ],
   "source": [
    "num_salidas = y.shape[1]\n",
    "print(num_salidas)"
   ]
  },
  {
   "cell_type": "markdown",
   "metadata": {
    "id": "3x6xaOVe22No"
   },
   "source": [
    "## Definir un perceptron con 2 neuronas de entrada y 2 de salida"
   ]
  },
  {
   "cell_type": "code",
   "execution_count": null,
   "metadata": {
    "id": "xDIXn8tnq33A"
   },
   "outputs": [],
   "source": []
  },
  {
   "cell_type": "code",
   "execution_count": 15,
   "metadata": {
    "id": "3YtxgfV_3Cw7"
   },
   "outputs": [],
   "source": [
    "x1 = [x1_min,x1_max]\n",
    "x2 = [x2_min,x2_max]\n",
    "#perceptron = nl.net.newp([x1,x2],num_salidas)"
   ]
  },
  {
   "cell_type": "code",
   "execution_count": 28,
   "metadata": {
    "id": "k_oKdn7erInG"
   },
   "outputs": [],
   "source": [
    "net = nl.net.newff([x1, x2], [3,5,4,2])"
   ]
  },
  {
   "cell_type": "markdown",
   "metadata": {
    "id": "QrtSPbd94Haa"
   },
   "source": [
    "##Entrenar el perceptron usando la data"
   ]
  },
  {
   "cell_type": "code",
   "execution_count": 29,
   "metadata": {
    "colab": {
     "base_uri": "https://localhost:8080/"
    },
    "id": "XcaGFkJ24O2n",
    "outputId": "a573b9ba-b949-4880-a95a-eac22d130c79"
   },
   "outputs": [
    {
     "name": "stdout",
     "output_type": "stream",
     "text": [
      "Epoch: 20; Error: 2.664339821912603;\n",
      "Epoch: 40; Error: 2.094082362302355;\n",
      "Epoch: 60; Error: 1.2435933933352121;\n",
      "Epoch: 80; Error: 0.03874453551830794;\n",
      "The goal of learning is reached\n"
     ]
    }
   ],
   "source": [
    "progreso_error = net.train(X,y,epochs=1000,show=20)"
   ]
  },
  {
   "cell_type": "markdown",
   "metadata": {
    "id": "RCVqgB9K5Qin"
   },
   "source": [
    "###Gráfico del progreso de entrenamiento"
   ]
  },
  {
   "cell_type": "code",
   "execution_count": 30,
   "metadata": {
    "colab": {
     "base_uri": "https://localhost:8080/",
     "height": 472
    },
    "id": "K5fRB_cO5NoP",
    "outputId": "667a1ffb-9768-4bf7-b477-feb7d2d82ca1"
   },
   "outputs": [
    {
     "data": {
      "image/png": "[encoded data removed]",
      "text/plain": [
       "<Figure size 640x480 with 1 Axes>"
      ]
     },
     "metadata": {},
     "output_type": "display_data"
    }
   ],
   "source": [
    "plt.figure()\n",
    "plt.plot(progreso_error)\n",
    "plt.xlabel('Número de épocas')\n",
    "plt.ylabel('Error de entrenamiento')\n",
    "plt.title('Progreso de error de entrenamiento')\n",
    "plt.grid()"
   ]
  },
  {
   "cell_type": "code",
   "execution_count": 31,
   "metadata": {
    "colab": {
     "base_uri": "https://localhost:8080/"
    },
    "id": "b13vvQujAS7T",
    "outputId": "1988d6db-9e77-4a1d-e9fd-cb9ebc06b994"
   },
   "outputs": [
    {
     "name": "stdout",
     "output_type": "stream",
     "text": [
      "\n",
      "Resultados de Prueba:\n",
      "[1, 4] ---> [[-0.00041187 -0.01297433]]\n",
      "[4, 7] ---> [[0.95826233 0.99999987]]\n"
     ]
    }
   ],
   "source": [
    "print('\\nResultados de Prueba:')\n",
    "datos_prueba = [[1,4],[4,7]]\n",
    "for item in datos_prueba:\n",
    "  print(item, '--->',net.sim([item]))"
   ]
  },
  {
   "cell_type": "markdown",
   "metadata": {
    "id": "M_XD_ms1D5eu"
   },
   "source": [
    "## Guardar y cargar una red neuronal entrenada"
   ]
  },
  {
   "cell_type": "code",
   "execution_count": 23,
   "metadata": {
    "id": "MB17dBQMDwbE"
   },
   "outputs": [],
   "source": [
    "# Save network in file\n",
    "net.save('net.net')\n",
    "# Load network\n",
    "# net = nl.load('test.net')"
   ]
  }
 ],
 "metadata": {
  "colab": {
   "provenance": []
  },
  "kernelspec": {
   "display_name": "Python 3 (ipykernel)",
   "language": "python",
   "name": "python3"
  },
  "language_info": {
   "codemirror_mode": {
    "name": "ipython",
    "version": 3
   },
   "file_extension": ".py",
   "mimetype": "text/x-python",
   "name": "python",
   "nbconvert_exporter": "python",
   "pygments_lexer": "ipython3",
   "version": "3.9.12"
  }
 },
 "nbformat": 4,
 "nbformat_minor": 1
}
