{
 "cells": [
  {
   "cell_type": "code",
   "execution_count": 1,
   "id": "7711a0cb",
   "metadata": {},
   "outputs": [],
   "source": [
    "from perceptron import Perceptron"
   ]
  },
  {
   "cell_type": "code",
   "execution_count": 2,
   "id": "1befdaad",
   "metadata": {},
   "outputs": [],
   "source": [
    "import numpy as np"
   ]
  },
  {
   "cell_type": "markdown",
   "id": "0b75ffda",
   "metadata": {},
   "source": [
    "**Conjunto de Datos AND**"
   ]
  },
  {
   "cell_type": "code",
   "execution_count": 3,
   "id": "c0375154",
   "metadata": {},
   "outputs": [
    {
     "data": {
      "text/plain": [
       "array([[1, 1, 1],\n",
       "       [1, 1, 0],\n",
       "       [1, 0, 1],\n",
       "       [1, 0, 0],\n",
       "       [0, 1, 1],\n",
       "       [0, 1, 0],\n",
       "       [0, 0, 1],\n",
       "       [0, 0, 0]])"
      ]
     },
     "execution_count": 3,
     "metadata": {},
     "output_type": "execute_result"
    }
   ],
   "source": [
    "X = np.array([[1,1,1],[1,1,0],[1,0,1],[1,0,0],[0,1,1],[0,1,0],[0,0,1],[0,0,0]])\n",
    "X"
   ]
  },
  {
   "cell_type": "code",
   "execution_count": 4,
   "id": "596ab578",
   "metadata": {},
   "outputs": [
    {
     "data": {
      "text/plain": [
       "(8, 3)"
      ]
     },
     "execution_count": 4,
     "metadata": {},
     "output_type": "execute_result"
    }
   ],
   "source": [
    "X.shape"
   ]
  },
  {
   "cell_type": "code",
   "execution_count": 5,
   "id": "c4a32839",
   "metadata": {},
   "outputs": [
    {
     "data": {
      "text/plain": [
       "array([[1],\n",
       "       [0],\n",
       "       [0],\n",
       "       [0],\n",
       "       [0],\n",
       "       [0],\n",
       "       [0],\n",
       "       [0]])"
      ]
     },
     "execution_count": 5,
     "metadata": {},
     "output_type": "execute_result"
    }
   ],
   "source": [
    "y = np.array([[1],[0],[0],[0],[0],[0],[0],[0]])\n",
    "y"
   ]
  },
  {
   "cell_type": "markdown",
   "id": "df5adfda",
   "metadata": {},
   "source": [
    "**Definición del perceptrón y entrenamiento**"
   ]
  },
  {
   "cell_type": "code",
   "execution_count": 9,
   "id": "070db892",
   "metadata": {},
   "outputs": [],
   "source": [
    "p = Perceptron(X.shape[1],alpha=0.1)"
   ]
  },
  {
   "cell_type": "code",
   "execution_count": 10,
   "id": "a1059f91",
   "metadata": {},
   "outputs": [],
   "source": [
    "p.fit(X,y,epochs=20)"
   ]
  },
  {
   "cell_type": "markdown",
   "id": "9055d164",
   "metadata": {},
   "source": [
    "**Iteramos sobre el conjunto de datos y hacemos las predicciones**"
   ]
  },
  {
   "cell_type": "code",
   "execution_count": 11,
   "id": "f083c166",
   "metadata": {},
   "outputs": [
    {
     "name": "stdout",
     "output_type": "stream",
     "text": [
      "entradas=[1 1 1], salida-deseada=1, prediccion=1\n",
      "entradas=[1 1 0], salida-deseada=0, prediccion=0\n",
      "entradas=[1 0 1], salida-deseada=0, prediccion=0\n",
      "entradas=[1 0 0], salida-deseada=0, prediccion=0\n",
      "entradas=[0 1 1], salida-deseada=0, prediccion=0\n",
      "entradas=[0 1 0], salida-deseada=0, prediccion=0\n",
      "entradas=[0 0 1], salida-deseada=0, prediccion=0\n",
      "entradas=[0 0 0], salida-deseada=0, prediccion=0\n"
     ]
    }
   ],
   "source": [
    "for (x,salida) in zip(X,y):\n",
    "    prediccion = p.predict(x)\n",
    "    print(\"entradas={}, salida-deseada={}, prediccion={}\".format(\n",
    "    x,salida[0],prediccion))"
   ]
  },
  {
   "cell_type": "code",
   "execution_count": 12,
   "id": "8b4d9f56",
   "metadata": {},
   "outputs": [
    {
     "name": "stdout",
     "output_type": "stream",
     "text": [
      "[ 0.11279114  0.20869189  0.26428391 -0.56769635]\n"
     ]
    }
   ],
   "source": [
    "p.pesos()"
   ]
  },
  {
   "cell_type": "code",
   "execution_count": 13,
   "id": "6725f0e6",
   "metadata": {},
   "outputs": [],
   "source": [
    "def andEntrenado(x1,x2,x3):\n",
    "    y = x1*0.11202201+x2*0.20394316+x3*0.26428391+1*(-0.56769635)\n",
    "    if y>0: \n",
    "        return 1\n",
    "    else:\n",
    "        return 0"
   ]
  },
  {
   "cell_type": "code",
   "execution_count": 14,
   "id": "a5dc7cc6",
   "metadata": {},
   "outputs": [
    {
     "data": {
      "text/plain": [
       "1"
      ]
     },
     "execution_count": 14,
     "metadata": {},
     "output_type": "execute_result"
    }
   ],
   "source": [
    "andEntrenado(1,1,1)"
   ]
  },
  {
   "cell_type": "code",
   "execution_count": 15,
   "id": "454191b0",
   "metadata": {},
   "outputs": [
    {
     "data": {
      "text/plain": [
       "0"
      ]
     },
     "execution_count": 15,
     "metadata": {},
     "output_type": "execute_result"
    }
   ],
   "source": [
    "andEntrenado(0,1,1)"
   ]
  },
  {
   "cell_type": "code",
   "execution_count": 16,
   "id": "6eee7b97",
   "metadata": {},
   "outputs": [
    {
     "data": {
      "text/plain": [
       "0"
      ]
     },
     "execution_count": 16,
     "metadata": {},
     "output_type": "execute_result"
    }
   ],
   "source": [
    "andEntrenado(0,0,0)"
   ]
  },
  {
   "cell_type": "code",
   "execution_count": null,
   "id": "d28603ea",
   "metadata": {},
   "outputs": [],
   "source": []
  }
 ],
 "metadata": {
  "kernelspec": {
   "display_name": "Python 3 (ipykernel)",
   "language": "python",
   "name": "python3"
  },
  "language_info": {
   "codemirror_mode": {
    "name": "ipython",
    "version": 3
   },
   "file_extension": ".py",
   "mimetype": "text/x-python",
   "name": "python",
   "nbconvert_exporter": "python",
   "pygments_lexer": "ipython3",
   "version": "3.9.12"
  }
 },
 "nbformat": 4,
 "nbformat_minor": 5
}
