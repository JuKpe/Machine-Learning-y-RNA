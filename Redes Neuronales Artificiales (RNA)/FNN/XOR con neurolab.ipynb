{
 "cells": [
  {
   "cell_type": "code",
   "execution_count": 1,
   "id": "a346f0ba",
   "metadata": {},
   "outputs": [],
   "source": [
    "import numpy as np\n",
    "import matplotlib.pyplot as plt\n",
    "import neurolab as nl"
   ]
  },
  {
   "cell_type": "markdown",
   "id": "23632387",
   "metadata": {},
   "source": [
    "### Datos"
   ]
  },
  {
   "cell_type": "code",
   "execution_count": 2,
   "id": "5d4a9dc4",
   "metadata": {},
   "outputs": [
    {
     "name": "stdout",
     "output_type": "stream",
     "text": [
      "[[1 1 0]\n",
      " [1 0 1]\n",
      " [0 1 1]\n",
      " [0 0 0]]\n"
     ]
    }
   ],
   "source": [
    "data = np.array([[1,1,0],\n",
    "                [1,0,1],\n",
    "                [0,1,1],\n",
    "                [0,0,0]])\n",
    "\n",
    "print(data)"
   ]
  },
  {
   "cell_type": "code",
   "execution_count": 3,
   "id": "df31a45e",
   "metadata": {},
   "outputs": [
    {
     "data": {
      "text/plain": [
       "(4, 3)"
      ]
     },
     "execution_count": 3,
     "metadata": {},
     "output_type": "execute_result"
    }
   ],
   "source": [
    "data.shape"
   ]
  },
  {
   "cell_type": "markdown",
   "id": "2af4890f",
   "metadata": {},
   "source": [
    "### Separamos entradas y salidas"
   ]
  },
  {
   "cell_type": "code",
   "execution_count": 4,
   "id": "f4c64998",
   "metadata": {},
   "outputs": [
    {
     "name": "stdout",
     "output_type": "stream",
     "text": [
      "[[1 1]\n",
      " [1 0]\n",
      " [0 1]\n",
      " [0 0]]\n"
     ]
    }
   ],
   "source": [
    "#Entrada\n",
    "X = data[:,0:2]\n",
    "print(X)"
   ]
  },
  {
   "cell_type": "code",
   "execution_count": 7,
   "id": "e5edc671",
   "metadata": {},
   "outputs": [
    {
     "name": "stdout",
     "output_type": "stream",
     "text": [
      "[[0]\n",
      " [1]\n",
      " [1]\n",
      " [0]]\n"
     ]
    }
   ],
   "source": [
    "#Salida\n",
    "y = data[:,2].reshape(data.shape[0],1)\n",
    "print(y)"
   ]
  },
  {
   "cell_type": "code",
   "execution_count": 8,
   "id": "52a8a715",
   "metadata": {},
   "outputs": [
    {
     "data": {
      "text/plain": [
       "Text(0.5, 1.0, 'Datos de Entrada')"
      ]
     },
     "execution_count": 8,
     "metadata": {},
     "output_type": "execute_result"
    },
    {
     "data": {
      "image/png": "[encoded data removed]",
      "text/plain": [
       "<Figure size 432x288 with 1 Axes>"
      ]
     },
     "metadata": {
      "needs_background": "light"
     },
     "output_type": "display_data"
    }
   ],
   "source": [
    "#Gráficos de data\n",
    "plt.figure()\n",
    "plt.scatter(data[:,0],data[:,1])\n",
    "plt.xlabel('X1')\n",
    "plt.ylabel('X2')\n",
    "plt.title('Datos de Entrada')"
   ]
  },
  {
   "cell_type": "markdown",
   "id": "51e550d4",
   "metadata": {},
   "source": [
    "### Definir el mínimo y máximo para cada entrada"
   ]
  },
  {
   "cell_type": "code",
   "execution_count": 9,
   "id": "5ab6a28f",
   "metadata": {},
   "outputs": [],
   "source": [
    "x1_min, x1_max = data[:,0].min(), data[:,0].max()"
   ]
  },
  {
   "cell_type": "code",
   "execution_count": 10,
   "id": "6db72b50",
   "metadata": {},
   "outputs": [],
   "source": [
    "x2_min, x2_max = data[:,1].min(), data[:,1].max()"
   ]
  },
  {
   "cell_type": "code",
   "execution_count": 11,
   "id": "b09e4466",
   "metadata": {},
   "outputs": [
    {
     "name": "stdout",
     "output_type": "stream",
     "text": [
      "0 1 0 1\n"
     ]
    }
   ],
   "source": [
    "print(x1_min,x1_max,x2_min,x2_max)"
   ]
  },
  {
   "cell_type": "markdown",
   "id": "88e864f9",
   "metadata": {},
   "source": [
    "### Numero de neuronas en la capa de salida"
   ]
  },
  {
   "cell_type": "code",
   "execution_count": 12,
   "id": "ed3405cc",
   "metadata": {},
   "outputs": [
    {
     "name": "stdout",
     "output_type": "stream",
     "text": [
      "1\n"
     ]
    }
   ],
   "source": [
    "num_salidas = y.shape[1]\n",
    "print(num_salidas)"
   ]
  },
  {
   "cell_type": "markdown",
   "id": "f9dae658",
   "metadata": {},
   "source": [
    "### Definir un perceptron con 2 neuronas de entrada y 1 de salida"
   ]
  },
  {
   "cell_type": "code",
   "execution_count": 13,
   "id": "489efb0c",
   "metadata": {},
   "outputs": [],
   "source": [
    "x1 = [x1_min,x1_max]\n",
    "x2 = [x2_min,x2_max]\n",
    "net = nl.net.newff([x1, x2], [3,5,1])"
   ]
  },
  {
   "cell_type": "markdown",
   "id": "459f7688",
   "metadata": {},
   "source": [
    "## Entrenar el Perceptrón Multicapa usando los datos"
   ]
  },
  {
   "cell_type": "code",
   "execution_count": 14,
   "id": "17bb59fb",
   "metadata": {},
   "outputs": [
    {
     "name": "stdout",
     "output_type": "stream",
     "text": [
      "The goal of learning is reached\n"
     ]
    }
   ],
   "source": [
    "progreso_error = net.train(X,y,epochs=1000,show=20)"
   ]
  },
  {
   "cell_type": "markdown",
   "id": "58a4821a",
   "metadata": {},
   "source": [
    "### Gráfico del progreso de entrenamiento"
   ]
  },
  {
   "cell_type": "code",
   "execution_count": 15,
   "id": "66d74924",
   "metadata": {},
   "outputs": [
    {
     "data": {
      "image/png": "[encoded data removed]",
      "text/plain": [
       "<Figure size 432x288 with 1 Axes>"
      ]
     },
     "metadata": {
      "needs_background": "light"
     },
     "output_type": "display_data"
    }
   ],
   "source": [
    "plt.figure()\n",
    "plt.plot(progreso_error)\n",
    "plt.xlabel('Número de épocas')\n",
    "plt.ylabel('Error de entrenamiento')\n",
    "plt.title('Progreso de error de entrenamiento')\n",
    "plt.grid()"
   ]
  },
  {
   "cell_type": "code",
   "execution_count": 16,
   "id": "482ba362",
   "metadata": {},
   "outputs": [
    {
     "name": "stdout",
     "output_type": "stream",
     "text": [
      "\n",
      "Resultados de Prueba:\n",
      "[1, 0] ---> [[0.87764891]]\n",
      "[1, 1] ---> [[-0.03837351]]\n"
     ]
    }
   ],
   "source": [
    "print('\\nResultados de Prueba:')\n",
    "datos_prueba = [[1,0],[1,1]]\n",
    "for item in datos_prueba:\n",
    "  print(item, '--->',net.sim([item]))"
   ]
  },
  {
   "cell_type": "code",
   "execution_count": null,
   "id": "cb843b60",
   "metadata": {},
   "outputs": [],
   "source": []
  }
 ],
 "metadata": {
  "kernelspec": {
   "display_name": "Python 3 (ipykernel)",
   "language": "python",
   "name": "python3"
  },
  "language_info": {
   "codemirror_mode": {
    "name": "ipython",
    "version": 3
   },
   "file_extension": ".py",
   "mimetype": "text/x-python",
   "name": "python",
   "nbconvert_exporter": "python",
   "pygments_lexer": "ipython3",
   "version": "3.9.12"
  }
 },
 "nbformat": 4,
 "nbformat_minor": 5
}
