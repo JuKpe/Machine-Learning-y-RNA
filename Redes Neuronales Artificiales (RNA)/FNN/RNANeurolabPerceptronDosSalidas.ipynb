{
 "cells": [
  {
   "cell_type": "markdown",
   "metadata": {
    "id": "WMhjvtPrwypP"
   },
   "source": [
    "## Cargar librerias"
   ]
  },
  {
   "cell_type": "code",
   "execution_count": 2,
   "metadata": {
    "colab": {
     "base_uri": "https://localhost:8080/"
    },
    "executionInfo": {
     "elapsed": 5675,
     "status": "ok",
     "timestamp": 1639068028593,
     "user": {
      "displayName": "JUAN GAMARRA MORENO",
      "photoUrl": "https://lh3.googleusercontent.com/a-/AOh14GgR58A-hKK6JT_gg01SCL4y2F4QEa-Yg7Z0c1IW2A=s64",
      "userId": "13463230091194637037"
     },
     "user_tz": 300
    },
    "id": "PRMjTwCOuOXv",
    "outputId": "134db4e5-220d-417f-a637-2866e01c68a4"
   },
   "outputs": [
    {
     "name": "stdout",
     "output_type": "stream",
     "text": [
      "Collecting neurolab\n",
      "  Downloading neurolab-0.3.5.tar.gz (645 kB)\n",
      "\u001b[K     |████████████████████████████████| 645 kB 2.2 MB/s \n",
      "\u001b[?25hBuilding wheels for collected packages: neurolab\n",
      "  Building wheel for neurolab (setup.py) ... \u001b[?25l\u001b[?25hdone\n",
      "  Created wheel for neurolab: filename=neurolab-0.3.5-py3-none-any.whl size=22179 sha256=a16ee9a69524ff873c625230fed498960e58f0362564588102777f576e617afc\n",
      "  Stored in directory: /root/.cache/pip/wheels/3e/07/63/e3d6e066089d7186465184a6f9a1884471485f38beef1edeaa\n",
      "Successfully built neurolab\n",
      "Installing collected packages: neurolab\n",
      "Successfully installed neurolab-0.3.5\n"
     ]
    }
   ],
   "source": [
    "!pip install neurolab"
   ]
  },
  {
   "cell_type": "code",
   "execution_count": 3,
   "metadata": {
    "executionInfo": {
     "elapsed": 264,
     "status": "ok",
     "timestamp": 1639068048001,
     "user": {
      "displayName": "JUAN GAMARRA MORENO",
      "photoUrl": "https://lh3.googleusercontent.com/a-/AOh14GgR58A-hKK6JT_gg01SCL4y2F4QEa-Yg7Z0c1IW2A=s64",
      "userId": "13463230091194637037"
     },
     "user_tz": 300
    },
    "id": "vJN9eHRFrJGV"
   },
   "outputs": [],
   "source": [
    "import numpy as np\n",
    "import matplotlib.pyplot as plt\n",
    "import neurolab as nl"
   ]
  },
  {
   "cell_type": "markdown",
   "metadata": {
    "id": "aB2cGkV4wjxt"
   },
   "source": [
    "\n",
    "## Cargar los datos\n",
    "\n"
   ]
  },
  {
   "cell_type": "code",
   "execution_count": 4,
   "metadata": {
    "colab": {
     "base_uri": "https://localhost:8080/"
    },
    "executionInfo": {
     "elapsed": 263,
     "status": "ok",
     "timestamp": 1639068117427,
     "user": {
      "displayName": "JUAN GAMARRA MORENO",
      "photoUrl": "https://lh3.googleusercontent.com/a-/AOh14GgR58A-hKK6JT_gg01SCL4y2F4QEa-Yg7Z0c1IW2A=s64",
      "userId": "13463230091194637037"
     },
     "user_tz": 300
    },
    "id": "MAQJWslhuiPm",
    "outputId": "a29ef0ce-9b2b-4418-ba8e-5db99b2014fe"
   },
   "outputs": [
    {
     "name": "stdout",
     "output_type": "stream",
     "text": [
      "[[1.  4.  0.  0. ]\n",
      " [1.1 3.9 0.  0. ]\n",
      " [1.2 4.1 0.  0. ]\n",
      " [0.9 3.7 0.  0. ]\n",
      " [7.  4.  0.  1. ]\n",
      " [7.2 4.1 0.  1. ]\n",
      " [6.9 3.9 0.  1. ]\n",
      " [7.1 4.2 0.  1. ]\n",
      " [4.  1.  1.  0. ]\n",
      " [4.1 0.9 1.  0. ]\n",
      " [4.2 1.1 1.  0. ]\n",
      " [3.9 0.8 1.  0. ]\n",
      " [4.  7.  1.  1. ]\n",
      " [4.2 7.2 1.  1. ]\n",
      " [3.9 7.1 1.  1. ]\n",
      " [4.1 6.8 1.  1. ]]\n"
     ]
    }
   ],
   "source": [
    "data = np.loadtxt('data_simple_nn.txt')\n",
    "print(data)"
   ]
  },
  {
   "cell_type": "code",
   "execution_count": 5,
   "metadata": {
    "colab": {
     "base_uri": "https://localhost:8080/"
    },
    "executionInfo": {
     "elapsed": 247,
     "status": "ok",
     "timestamp": 1639068133746,
     "user": {
      "displayName": "JUAN GAMARRA MORENO",
      "photoUrl": "https://lh3.googleusercontent.com/a-/AOh14GgR58A-hKK6JT_gg01SCL4y2F4QEa-Yg7Z0c1IW2A=s64",
      "userId": "13463230091194637037"
     },
     "user_tz": 300
    },
    "id": "LiPkU7fUyeuX",
    "outputId": "0313f523-f987-4a88-dac0-879b046ad09e"
   },
   "outputs": [
    {
     "data": {
      "text/plain": [
       "(16, 4)"
      ]
     },
     "execution_count": 5,
     "metadata": {},
     "output_type": "execute_result"
    }
   ],
   "source": [
    "data.shape"
   ]
  },
  {
   "cell_type": "markdown",
   "metadata": {
    "id": "iOTEBoH9x7Wn"
   },
   "source": [
    "Separamos entradas y salidas"
   ]
  },
  {
   "cell_type": "code",
   "execution_count": 6,
   "metadata": {
    "colab": {
     "base_uri": "https://localhost:8080/"
    },
    "executionInfo": {
     "elapsed": 251,
     "status": "ok",
     "timestamp": 1639068209285,
     "user": {
      "displayName": "JUAN GAMARRA MORENO",
      "photoUrl": "https://lh3.googleusercontent.com/a-/AOh14GgR58A-hKK6JT_gg01SCL4y2F4QEa-Yg7Z0c1IW2A=s64",
      "userId": "13463230091194637037"
     },
     "user_tz": 300
    },
    "id": "b2ZKPbVQxCQO",
    "outputId": "8629edef-f537-44bb-f3e4-45c683555c81"
   },
   "outputs": [
    {
     "name": "stdout",
     "output_type": "stream",
     "text": [
      "[[1.  4. ]\n",
      " [1.1 3.9]\n",
      " [1.2 4.1]\n",
      " [0.9 3.7]\n",
      " [7.  4. ]\n",
      " [7.2 4.1]\n",
      " [6.9 3.9]\n",
      " [7.1 4.2]\n",
      " [4.  1. ]\n",
      " [4.1 0.9]\n",
      " [4.2 1.1]\n",
      " [3.9 0.8]\n",
      " [4.  7. ]\n",
      " [4.2 7.2]\n",
      " [3.9 7.1]\n",
      " [4.1 6.8]]\n"
     ]
    }
   ],
   "source": [
    "#Entrada\n",
    "X = data[:,0:2]\n",
    "print(X)"
   ]
  },
  {
   "cell_type": "code",
   "execution_count": 7,
   "metadata": {
    "colab": {
     "base_uri": "https://localhost:8080/"
    },
    "executionInfo": {
     "elapsed": 267,
     "status": "ok",
     "timestamp": 1639068249296,
     "user": {
      "displayName": "JUAN GAMARRA MORENO",
      "photoUrl": "https://lh3.googleusercontent.com/a-/AOh14GgR58A-hKK6JT_gg01SCL4y2F4QEa-Yg7Z0c1IW2A=s64",
      "userId": "13463230091194637037"
     },
     "user_tz": 300
    },
    "id": "4C-6CveEzH3g",
    "outputId": "ff0cbef2-869e-48b5-d0aa-8d6bb00a31f9"
   },
   "outputs": [
    {
     "name": "stdout",
     "output_type": "stream",
     "text": [
      "[[0. 0.]\n",
      " [0. 0.]\n",
      " [0. 0.]\n",
      " [0. 0.]\n",
      " [0. 1.]\n",
      " [0. 1.]\n",
      " [0. 1.]\n",
      " [0. 1.]\n",
      " [1. 0.]\n",
      " [1. 0.]\n",
      " [1. 0.]\n",
      " [1. 0.]\n",
      " [1. 1.]\n",
      " [1. 1.]\n",
      " [1. 1.]\n",
      " [1. 1.]]\n"
     ]
    }
   ],
   "source": [
    "#Salida\n",
    "y = data[:,2:]\n",
    "print(y)"
   ]
  },
  {
   "cell_type": "code",
   "execution_count": 8,
   "metadata": {
    "colab": {
     "base_uri": "https://localhost:8080/",
     "height": 312
    },
    "executionInfo": {
     "elapsed": 339,
     "status": "ok",
     "timestamp": 1639068369168,
     "user": {
      "displayName": "JUAN GAMARRA MORENO",
      "photoUrl": "https://lh3.googleusercontent.com/a-/AOh14GgR58A-hKK6JT_gg01SCL4y2F4QEa-Yg7Z0c1IW2A=s64",
      "userId": "13463230091194637037"
     },
     "user_tz": 300
    },
    "id": "nsp-LkJ00JGh",
    "outputId": "44ff1327-cc38-4ba0-c01f-f5d630d94788"
   },
   "outputs": [
    {
     "data": {
      "text/plain": [
       "Text(0.5, 1.0, 'Datos de Entrada')"
      ]
     },
     "execution_count": 8,
     "metadata": {},
     "output_type": "execute_result"
    },
    {
     "data": {
      "image/png": "[encoded data removed]",
      "text/plain": [
       "<Figure size 432x288 with 1 Axes>"
      ]
     },
     "metadata": {
      "needs_background": "light"
     },
     "output_type": "display_data"
    }
   ],
   "source": [
    "#Gráficos de data\n",
    "plt.figure()\n",
    "plt.scatter(data[:,0],data[:,1])\n",
    "plt.xlabel('X1')\n",
    "plt.ylabel('X2')\n",
    "plt.title('Datos de Entrada')"
   ]
  },
  {
   "cell_type": "markdown",
   "metadata": {
    "id": "a7dJWJTt1kbu"
   },
   "source": [
    "###Definir el mínimo y máximo para cada entrada"
   ]
  },
  {
   "cell_type": "code",
   "execution_count": 9,
   "metadata": {
    "executionInfo": {
     "elapsed": 262,
     "status": "ok",
     "timestamp": 1639068426039,
     "user": {
      "displayName": "JUAN GAMARRA MORENO",
      "photoUrl": "https://lh3.googleusercontent.com/a-/AOh14GgR58A-hKK6JT_gg01SCL4y2F4QEa-Yg7Z0c1IW2A=s64",
      "userId": "13463230091194637037"
     },
     "user_tz": 300
    },
    "id": "yoju9rHD1hH6"
   },
   "outputs": [],
   "source": [
    "x1_min, x1_max = data[:,0].min(), data[:,0].max()"
   ]
  },
  {
   "cell_type": "code",
   "execution_count": 11,
   "metadata": {
    "executionInfo": {
     "elapsed": 261,
     "status": "ok",
     "timestamp": 1639068505870,
     "user": {
      "displayName": "JUAN GAMARRA MORENO",
      "photoUrl": "https://lh3.googleusercontent.com/a-/AOh14GgR58A-hKK6JT_gg01SCL4y2F4QEa-Yg7Z0c1IW2A=s64",
      "userId": "13463230091194637037"
     },
     "user_tz": 300
    },
    "id": "mIZAq93PKFCV"
   },
   "outputs": [],
   "source": [
    "x2_min, x2_max = data[:,1].min(), data[:,1].max()"
   ]
  },
  {
   "cell_type": "code",
   "execution_count": 12,
   "metadata": {
    "colab": {
     "base_uri": "https://localhost:8080/"
    },
    "executionInfo": {
     "elapsed": 244,
     "status": "ok",
     "timestamp": 1639068516219,
     "user": {
      "displayName": "JUAN GAMARRA MORENO",
      "photoUrl": "https://lh3.googleusercontent.com/a-/AOh14GgR58A-hKK6JT_gg01SCL4y2F4QEa-Yg7Z0c1IW2A=s64",
      "userId": "13463230091194637037"
     },
     "user_tz": 300
    },
    "id": "mP2jDuJKKzm3",
    "outputId": "90ded0f1-b2ee-4e67-d946-7512f6403da6"
   },
   "outputs": [
    {
     "name": "stdout",
     "output_type": "stream",
     "text": [
      "0.9 7.2 0.8 7.2\n"
     ]
    }
   ],
   "source": [
    "print(x1_min,x1_max,x2_min,x2_max)"
   ]
  },
  {
   "cell_type": "markdown",
   "metadata": {
    "id": "fbJZ-3YP2YEF"
   },
   "source": [
    "## Numero de neuronas en la capa de salida"
   ]
  },
  {
   "cell_type": "code",
   "execution_count": 13,
   "metadata": {
    "colab": {
     "base_uri": "https://localhost:8080/"
    },
    "executionInfo": {
     "elapsed": 1296,
     "status": "ok",
     "timestamp": 1639068603763,
     "user": {
      "displayName": "JUAN GAMARRA MORENO",
      "photoUrl": "https://lh3.googleusercontent.com/a-/AOh14GgR58A-hKK6JT_gg01SCL4y2F4QEa-Yg7Z0c1IW2A=s64",
      "userId": "13463230091194637037"
     },
     "user_tz": 300
    },
    "id": "FuZ_EPUg2MTq",
    "outputId": "b77a8020-b9d3-48b9-8a1c-57152eb13f0f"
   },
   "outputs": [
    {
     "name": "stdout",
     "output_type": "stream",
     "text": [
      "2\n"
     ]
    }
   ],
   "source": [
    "num_salidas = y.shape[1]\n",
    "print(num_salidas)"
   ]
  },
  {
   "cell_type": "markdown",
   "metadata": {
    "id": "3x6xaOVe22No"
   },
   "source": [
    "###Definir un perceptron con 2 neuronas de entrada y 2 de salida"
   ]
  },
  {
   "cell_type": "code",
   "execution_count": 14,
   "metadata": {
    "executionInfo": {
     "elapsed": 250,
     "status": "ok",
     "timestamp": 1639068769336,
     "user": {
      "displayName": "JUAN GAMARRA MORENO",
      "photoUrl": "https://lh3.googleusercontent.com/a-/AOh14GgR58A-hKK6JT_gg01SCL4y2F4QEa-Yg7Z0c1IW2A=s64",
      "userId": "13463230091194637037"
     },
     "user_tz": 300
    },
    "id": "3YtxgfV_3Cw7"
   },
   "outputs": [],
   "source": [
    "x1 = [x1_min,x1_max]\n",
    "x2 = [x2_min,x2_max]\n",
    "perceptron = nl.net.newp([x1,x2],num_salidas)"
   ]
  },
  {
   "cell_type": "markdown",
   "metadata": {
    "id": "QrtSPbd94Haa"
   },
   "source": [
    "## Entrenar el perceptron usando la data"
   ]
  },
  {
   "cell_type": "code",
   "execution_count": 17,
   "metadata": {
    "colab": {
     "base_uri": "https://localhost:8080/"
    },
    "executionInfo": {
     "elapsed": 1401,
     "status": "ok",
     "timestamp": 1639068893490,
     "user": {
      "displayName": "JUAN GAMARRA MORENO",
      "photoUrl": "https://lh3.googleusercontent.com/a-/AOh14GgR58A-hKK6JT_gg01SCL4y2F4QEa-Yg7Z0c1IW2A=s64",
      "userId": "13463230091194637037"
     },
     "user_tz": 300
    },
    "id": "XcaGFkJ24O2n",
    "outputId": "13741323-56c6-4f55-dc64-735eefd19471"
   },
   "outputs": [
    {
     "name": "stdout",
     "output_type": "stream",
     "text": [
      "Epoch: 20; Error: 4.0;\n",
      "Epoch: 40; Error: 4.0;\n",
      "Epoch: 60; Error: 4.0;\n",
      "Epoch: 80; Error: 4.0;\n",
      "Epoch: 100; Error: 4.0;\n",
      "Epoch: 120; Error: 4.0;\n",
      "Epoch: 140; Error: 4.0;\n",
      "Epoch: 160; Error: 4.0;\n",
      "Epoch: 180; Error: 4.0;\n",
      "Epoch: 200; Error: 4.0;\n",
      "Epoch: 220; Error: 4.0;\n",
      "Epoch: 240; Error: 4.0;\n",
      "Epoch: 260; Error: 4.0;\n",
      "Epoch: 280; Error: 4.0;\n",
      "Epoch: 300; Error: 4.0;\n",
      "Epoch: 320; Error: 4.0;\n",
      "Epoch: 340; Error: 4.0;\n",
      "Epoch: 360; Error: 4.0;\n",
      "Epoch: 380; Error: 4.0;\n",
      "Epoch: 400; Error: 4.0;\n",
      "Epoch: 420; Error: 4.0;\n",
      "Epoch: 440; Error: 4.0;\n",
      "Epoch: 460; Error: 4.0;\n",
      "Epoch: 480; Error: 4.0;\n",
      "Epoch: 500; Error: 4.0;\n",
      "Epoch: 520; Error: 4.0;\n",
      "Epoch: 540; Error: 4.0;\n",
      "Epoch: 560; Error: 4.0;\n",
      "Epoch: 580; Error: 4.0;\n",
      "Epoch: 600; Error: 4.0;\n",
      "Epoch: 620; Error: 4.0;\n",
      "Epoch: 640; Error: 4.0;\n",
      "Epoch: 660; Error: 4.0;\n",
      "Epoch: 680; Error: 4.0;\n",
      "Epoch: 700; Error: 4.0;\n",
      "Epoch: 720; Error: 4.0;\n",
      "Epoch: 740; Error: 4.0;\n",
      "Epoch: 760; Error: 4.0;\n",
      "Epoch: 780; Error: 4.0;\n",
      "Epoch: 800; Error: 4.0;\n",
      "Epoch: 820; Error: 4.0;\n",
      "Epoch: 840; Error: 4.0;\n",
      "Epoch: 860; Error: 4.0;\n",
      "Epoch: 880; Error: 4.0;\n",
      "Epoch: 900; Error: 4.0;\n",
      "Epoch: 920; Error: 4.0;\n",
      "Epoch: 940; Error: 4.0;\n",
      "Epoch: 960; Error: 4.0;\n",
      "Epoch: 980; Error: 4.0;\n",
      "Epoch: 1000; Error: 4.0;\n",
      "The maximum number of train epochs is reached\n"
     ]
    }
   ],
   "source": [
    "progreso_error = perceptron.train(X,y,epochs=1000,show=20,lr=0.03)"
   ]
  },
  {
   "cell_type": "markdown",
   "metadata": {
    "id": "RCVqgB9K5Qin"
   },
   "source": [
    "###Gráfico del progreso de entrenamiento "
   ]
  },
  {
   "cell_type": "code",
   "execution_count": 18,
   "metadata": {
    "colab": {
     "base_uri": "https://localhost:8080/",
     "height": 296
    },
    "executionInfo": {
     "elapsed": 771,
     "status": "ok",
     "timestamp": 1639068920436,
     "user": {
      "displayName": "JUAN GAMARRA MORENO",
      "photoUrl": "https://lh3.googleusercontent.com/a-/AOh14GgR58A-hKK6JT_gg01SCL4y2F4QEa-Yg7Z0c1IW2A=s64",
      "userId": "13463230091194637037"
     },
     "user_tz": 300
    },
    "id": "K5fRB_cO5NoP",
    "outputId": "c1bef198-f1f9-48d6-f3d7-27bf2a676c0e"
   },
   "outputs": [
    {
     "data": {
      "image/png": "[encoded data removed]",
      "text/plain": [
       "<Figure size 432x288 with 1 Axes>"
      ]
     },
     "metadata": {
      "needs_background": "light"
     },
     "output_type": "display_data"
    }
   ],
   "source": [
    "plt.figure()\n",
    "plt.plot(progreso_error)\n",
    "plt.xlabel('Número de épocas')\n",
    "plt.ylabel('Error de entrenamiento')\n",
    "plt.title('Progreso de error de entrenamiento')\n",
    "plt.grid()"
   ]
  },
  {
   "cell_type": "code",
   "execution_count": 19,
   "metadata": {
    "colab": {
     "base_uri": "https://localhost:8080/"
    },
    "executionInfo": {
     "elapsed": 245,
     "status": "ok",
     "timestamp": 1639068979925,
     "user": {
      "displayName": "JUAN GAMARRA MORENO",
      "photoUrl": "https://lh3.googleusercontent.com/a-/AOh14GgR58A-hKK6JT_gg01SCL4y2F4QEa-Yg7Z0c1IW2A=s64",
      "userId": "13463230091194637037"
     },
     "user_tz": 300
    },
    "id": "b13vvQujAS7T",
    "outputId": "74c777cd-42a8-41ed-e4ea-dd8babb11067"
   },
   "outputs": [
    {
     "name": "stdout",
     "output_type": "stream",
     "text": [
      "\n",
      "Resultados de Prueba:\n",
      "[1, 4] ---> [[1. 0.]]\n",
      "[4, 7] ---> [[1. 1.]]\n"
     ]
    }
   ],
   "source": [
    "print('\\nResultados de Prueba:')\n",
    "datos_prueba = [[1,4],[4,7]]\n",
    "for item in datos_prueba:\n",
    "  print(item, '--->',perceptron.sim([item]))"
   ]
  },
  {
   "cell_type": "markdown",
   "metadata": {
    "id": "M_XD_ms1D5eu"
   },
   "source": [
    "## Guardar y cargar una red neuronal entrenada"
   ]
  },
  {
   "cell_type": "code",
   "execution_count": 20,
   "metadata": {
    "executionInfo": {
     "elapsed": 254,
     "status": "ok",
     "timestamp": 1639069237857,
     "user": {
      "displayName": "JUAN GAMARRA MORENO",
      "photoUrl": "https://lh3.googleusercontent.com/a-/AOh14GgR58A-hKK6JT_gg01SCL4y2F4QEa-Yg7Z0c1IW2A=s64",
      "userId": "13463230091194637037"
     },
     "user_tz": 300
    },
    "id": "MB17dBQMDwbE"
   },
   "outputs": [],
   "source": [
    "# Save network in file\n",
    "perceptron.save('perceptron.net')\n",
    "# Load network\n",
    "# net = nl.load('test.net')"
   ]
  }
 ],
 "metadata": {
  "colab": {
   "name": "SI003_RNANeurolabPerceptronDosSalidas.ipynb",
   "provenance": []
  },
  "kernelspec": {
   "display_name": "Python 3 (ipykernel)",
   "language": "python",
   "name": "python3"
  },
  "language_info": {
   "codemirror_mode": {
    "name": "ipython",
    "version": 3
   },
   "file_extension": ".py",
   "mimetype": "text/x-python",
   "name": "python",
   "nbconvert_exporter": "python",
   "pygments_lexer": "ipython3",
   "version": "3.9.12"
  }
 },
 "nbformat": 4,
 "nbformat_minor": 1
}
