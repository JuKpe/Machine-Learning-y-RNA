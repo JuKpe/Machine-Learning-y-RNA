{
 "cells": [
  {
   "cell_type": "code",
   "execution_count": 1,
   "metadata": {},
   "outputs": [],
   "source": [
    "# %pip install numpy"
   ]
  },
  {
   "cell_type": "code",
   "execution_count": 2,
   "metadata": {},
   "outputs": [],
   "source": [
    "import numpy as np"
   ]
  },
  {
   "cell_type": "markdown",
   "metadata": {},
   "source": [
    "Tasa de aprendizaje"
   ]
  },
  {
   "cell_type": "code",
   "execution_count": 3,
   "metadata": {},
   "outputs": [],
   "source": [
    "n = 0.5"
   ]
  },
  {
   "cell_type": "markdown",
   "metadata": {},
   "source": [
    "Generación de pesos aleatorios"
   ]
  },
  {
   "cell_type": "code",
   "execution_count": 4,
   "metadata": {},
   "outputs": [],
   "source": [
    "np.random.seed(100)"
   ]
  },
  {
   "cell_type": "code",
   "execution_count": 5,
   "metadata": {},
   "outputs": [],
   "source": [
    "pesos=np.random.rand(9)"
   ]
  },
  {
   "cell_type": "code",
   "execution_count": 6,
   "metadata": {},
   "outputs": [
    {
     "name": "stdout",
     "output_type": "stream",
     "text": [
      "pesos generados aleatoriamente:\n",
      " [0.54340494 0.27836939 0.42451759 0.84477613 0.00471886 0.12156912\n",
      " 0.67074908 0.82585276 0.13670659]\n"
     ]
    }
   ],
   "source": [
    "print(\"pesos generados aleatoriamente:\\n\",pesos)"
   ]
  },
  {
   "cell_type": "code",
   "execution_count": 7,
   "metadata": {},
   "outputs": [],
   "source": [
    "WX11 = pesos[0]\n",
    "WX12 = pesos[1]\n",
    "WX21 = pesos[2]\n",
    "WX22 = pesos[3]\n",
    "Wb11 = pesos[4]\n",
    "Wb12 = pesos[5]\n",
    "W13 = pesos[6]\n",
    "W23 = pesos[7]\n",
    "Wb23 = pesos[8]"
   ]
  },
  {
   "cell_type": "code",
   "execution_count": 8,
   "metadata": {},
   "outputs": [
    {
     "name": "stdout",
     "output_type": "stream",
     "text": [
      "WX11= 0.5434049417909654\n",
      "WX12= 0.27836938509379616\n",
      "WX21= 0.4245175907491331\n",
      "WX22= 0.8447761323199037\n",
      "Wb11= 0.004718856190972565\n",
      "Wb12= 0.12156912078311422\n",
      "W13= 0.6707490847267786\n",
      "W23= 0.8258527551050476\n",
      "Wb23= 0.13670658968495297\n"
     ]
    }
   ],
   "source": [
    "print('WX11=',WX11)\n",
    "print('WX12=',WX12)\n",
    "print('WX21=',WX21)\n",
    "print('WX22=',WX22)\n",
    "print('Wb11=',Wb11)\n",
    "print('Wb12=',Wb12)\n",
    "print('W13=',W13)\n",
    "print('W23=',W23)\n",
    "print('Wb23=',Wb23)"
   ]
  },
  {
   "cell_type": "markdown",
   "metadata": {},
   "source": [
    "Función sigmoide"
   ]
  },
  {
   "cell_type": "code",
   "execution_count": 9,
   "metadata": {},
   "outputs": [],
   "source": [
    "import math"
   ]
  },
  {
   "cell_type": "code",
   "execution_count": 10,
   "metadata": {},
   "outputs": [],
   "source": [
    "def sigmoide(x):\n",
    "    return  1 / (1+math.exp(-x))\n"
   ]
  },
  {
   "cell_type": "code",
   "execution_count": 11,
   "metadata": {},
   "outputs": [],
   "source": [
    "# y es la salida de la sumatoria en un nodo\n",
    "# donde se aplica la funcion sigmoide\n",
    "def dsigmoide(y):\n",
    "    return y*(1-y)"
   ]
  },
  {
   "cell_type": "markdown",
   "metadata": {},
   "source": [
    "Entradas en XOR"
   ]
  },
  {
   "cell_type": "code",
   "execution_count": 12,
   "metadata": {},
   "outputs": [],
   "source": [
    "X1 = [1,1,0,0]\n",
    "X2 = [1,0,1,0]\n",
    "Z  = [0,1,1,0]"
   ]
  },
  {
   "cell_type": "markdown",
   "metadata": {},
   "source": [
    "Valores bias"
   ]
  },
  {
   "cell_type": "code",
   "execution_count": 13,
   "metadata": {},
   "outputs": [],
   "source": [
    "b1 = b2 = 1"
   ]
  },
  {
   "cell_type": "markdown",
   "metadata": {},
   "source": [
    "### Cálculo de los valores y con X1[0] = 1, X2[0]=1, Z[0]=0"
   ]
  },
  {
   "cell_type": "code",
   "execution_count": 14,
   "metadata": {},
   "outputs": [
    {
     "name": "stdout",
     "output_type": "stream",
     "text": [
      "y1 =  0.725645669409955\n"
     ]
    }
   ],
   "source": [
    "y1 = sigmoide(X1[0]*WX11+X2[0]*WX21+b1*Wb11)\n",
    "print(\"y1 = \",y1)"
   ]
  },
  {
   "cell_type": "code",
   "execution_count": 15,
   "metadata": {},
   "outputs": [
    {
     "name": "stdout",
     "output_type": "stream",
     "text": [
      "y2 =  0.7763835989771062\n"
     ]
    }
   ],
   "source": [
    "y2 = sigmoide(X1[0]*WX12+X2[0]*WX22+b1*Wb12)\n",
    "print(\"y2 = \",y2)"
   ]
  },
  {
   "cell_type": "code",
   "execution_count": 16,
   "metadata": {},
   "outputs": [
    {
     "name": "stdout",
     "output_type": "stream",
     "text": [
      "y=y3= 0.7798188946454635\n"
     ]
    }
   ],
   "source": [
    "y3 = sigmoide(y1*W13+y2*W23+b2*Wb23)\n",
    "y = y3\n",
    "print(\"y=y3=\",y)"
   ]
  },
  {
   "cell_type": "code",
   "execution_count": 17,
   "metadata": {},
   "outputs": [
    {
     "name": "stdout",
     "output_type": "stream",
     "text": [
      "y1 =  0.725645669409955\n",
      "y2 =  0.7763835989771062\n",
      "y=y3= 0.7798188946454635\n"
     ]
    }
   ],
   "source": [
    "print(\"y1 = \",y1)\n",
    "print(\"y2 = \",y2)\n",
    "print(\"y=y3=\",y)"
   ]
  },
  {
   "cell_type": "markdown",
   "metadata": {},
   "source": [
    "Cálculo de los deltas"
   ]
  },
  {
   "cell_type": "code",
   "execution_count": 18,
   "metadata": {},
   "outputs": [
    {
     "name": "stdout",
     "output_type": "stream",
     "text": [
      "delta= -0.7798188946454635\n"
     ]
    }
   ],
   "source": [
    "delta = Z[0] - y\n",
    "print(\"delta=\",delta)"
   ]
  },
  {
   "cell_type": "code",
   "execution_count": 19,
   "metadata": {},
   "outputs": [
    {
     "name": "stdout",
     "output_type": "stream",
     "text": [
      "delta1= -0.5230628098360929\n"
     ]
    }
   ],
   "source": [
    "delta1 = delta*W13\n",
    "print(\"delta1=\",delta1)"
   ]
  },
  {
   "cell_type": "code",
   "execution_count": 20,
   "metadata": {},
   "outputs": [
    {
     "name": "stdout",
     "output_type": "stream",
     "text": [
      "delta2= -0.644015582625929\n"
     ]
    }
   ],
   "source": [
    "delta2 = delta*W23\n",
    "print(\"delta2=\",delta2)"
   ]
  },
  {
   "cell_type": "markdown",
   "metadata": {},
   "source": [
    "Cálculo de los nuevos pesos"
   ]
  },
  {
   "cell_type": "code",
   "execution_count": 21,
   "metadata": {},
   "outputs": [],
   "source": [
    "# Pesos entre las conexiones de la capa de entrada\n",
    "# y la capa oculta\n",
    "WX11 = WX11 + n*delta1*dsigmoide(y1)*X1[0]\n",
    "WX12 = WX12 + n*delta2*dsigmoide(y2)*X1[0]\n",
    "WX21 = WX21 + n*delta1*dsigmoide(y1)*X2[0]\n",
    "WX22 = WX22 + n*delta2*dsigmoide(y2)*X2[0]\n",
    "Wb11 = Wb11 + n*delta1*dsigmoide(y1)*b1\n",
    "Wb12 = Wb12 + n*delta2*dsigmoide(y2)*b1\n",
    "# Pesos entre las conexiones de la capa oculta\n",
    "# y la capa de salida\n",
    "W13 = W13 + n*delta*dsigmoide(y)*y1\n",
    "W23 = W23 + n*delta*dsigmoide(y)*y2\n",
    "Wb23 = Wb23 + n*delta*dsigmoide(y)*b2"
   ]
  },
  {
   "cell_type": "code",
   "execution_count": 22,
   "metadata": {},
   "outputs": [
    {
     "name": "stdout",
     "output_type": "stream",
     "text": [
      "WX11= 0.49133821523754656\n",
      "WX12= 0.2224649342258414\n",
      "WX21= 0.3724508641957142\n",
      "WX22= 0.7888716814519489\n",
      "Wb11= -0.04734787036244633\n",
      "Wb12= 0.06566466991515946\n",
      "W13= 0.6221685638226757\n",
      "W23= 0.773875431667868\n",
      "Wb23= 0.06975859708740151\n"
     ]
    }
   ],
   "source": [
    "print('WX11=',WX11)\n",
    "print('WX12=',WX12)\n",
    "print('WX21=',WX21)\n",
    "print('WX22=',WX22)\n",
    "print('Wb11=',Wb11)\n",
    "print('Wb12=',Wb12)\n",
    "print('W13=',W13)\n",
    "print('W23=',W23)\n",
    "print('Wb23=',Wb23)"
   ]
  },
  {
   "cell_type": "markdown",
   "metadata": {},
   "source": [
    "### Cálculo de los valores y con X1[1] = 1, X2[1]=0, Z[1]=1"
   ]
  },
  {
   "cell_type": "code",
   "execution_count": 23,
   "metadata": {},
   "outputs": [
    {
     "name": "stdout",
     "output_type": "stream",
     "text": [
      "y1 =  0.6092094382241208\n"
     ]
    }
   ],
   "source": [
    "y1 = sigmoide(X1[1]*WX11+X2[1]*WX21+b1*Wb11)\n",
    "print(\"y1 = \",y1)"
   ]
  },
  {
   "cell_type": "code",
   "execution_count": 24,
   "metadata": {},
   "outputs": [
    {
     "name": "stdout",
     "output_type": "stream",
     "text": [
      "y2 =  0.5715381675206933\n"
     ]
    }
   ],
   "source": [
    "y2 = sigmoide(X1[1]*WX12+X2[1]*WX22+b1*Wb12)\n",
    "print(\"y2 = \",y2)"
   ]
  },
  {
   "cell_type": "code",
   "execution_count": 25,
   "metadata": {},
   "outputs": [
    {
     "name": "stdout",
     "output_type": "stream",
     "text": [
      "y=y3= 0.709114833093465\n"
     ]
    }
   ],
   "source": [
    "y3 = sigmoide(y1*W13+y2*W23+b2*Wb23)\n",
    "y = y3\n",
    "print(\"y=y3=\",y)"
   ]
  },
  {
   "cell_type": "code",
   "execution_count": 26,
   "metadata": {},
   "outputs": [
    {
     "name": "stdout",
     "output_type": "stream",
     "text": [
      "y1 =  0.6092094382241208\n",
      "y2 =  0.5715381675206933\n",
      "y=y3= 0.709114833093465\n"
     ]
    }
   ],
   "source": [
    "print(\"y1 = \",y1)\n",
    "print(\"y2 = \",y2)\n",
    "print(\"y=y3=\",y)"
   ]
  },
  {
   "cell_type": "markdown",
   "metadata": {},
   "source": [
    "Cálculo de los deltas"
   ]
  },
  {
   "cell_type": "code",
   "execution_count": 27,
   "metadata": {},
   "outputs": [
    {
     "name": "stdout",
     "output_type": "stream",
     "text": [
      "delta= 0.290885166906535\n",
      "delta1= 0.1809796065315582\n",
      "delta2= 0.22510888410557459\n"
     ]
    }
   ],
   "source": [
    "delta = Z[1] - y\n",
    "print(\"delta=\",delta)\n",
    "\n",
    "delta1 = delta*W13\n",
    "print(\"delta1=\",delta1)\n",
    "\n",
    "delta2 = delta*W23\n",
    "print(\"delta2=\",delta2)"
   ]
  },
  {
   "cell_type": "markdown",
   "metadata": {},
   "source": [
    "Cálculo de los nuevos pesos"
   ]
  },
  {
   "cell_type": "code",
   "execution_count": 28,
   "metadata": {},
   "outputs": [],
   "source": [
    "# Pesos entre las conexiones de la capa de entrada\n",
    "# y la capa oculta\n",
    "WX11 = WX11 + n*delta1*dsigmoide(y1)*X1[1]\n",
    "WX12 = WX12 + n*delta2*dsigmoide(y2)*X1[1]\n",
    "WX21 = WX21 + n*delta1*dsigmoide(y1)*X2[1]\n",
    "WX22 = WX22 + n*delta2*dsigmoide(y2)*X2[1]\n",
    "Wb11 = Wb11 + n*delta1*dsigmoide(y1)*b1\n",
    "Wb12 = Wb12 + n*delta2*dsigmoide(y2)*b1\n",
    "# Pesos entre las conexiones de la capa oculta\n",
    "# y la capa de salida\n",
    "W13 = W13 + n*delta*dsigmoide(y)*y1\n",
    "W23 = W23 + n*delta*dsigmoide(y)*y2\n",
    "Wb23 = Wb23 + n*delta*dsigmoide(y)*b2"
   ]
  },
  {
   "cell_type": "code",
   "execution_count": 29,
   "metadata": {},
   "outputs": [
    {
     "name": "stdout",
     "output_type": "stream",
     "text": [
      "WX11= 0.5128814211909465\n",
      "WX12= 0.25002752381155763\n",
      "WX21= 0.3724508641957142\n",
      "WX22= 0.7888716814519489\n",
      "Wb11= -0.025804664409046413\n",
      "Wb12= 0.0932272595008757\n",
      "W13= 0.6404452034663908\n",
      "W23= 0.7910219111460176\n",
      "Wb23= 0.09975918226709349\n"
     ]
    }
   ],
   "source": [
    "print('WX11=',WX11)\n",
    "print('WX12=',WX12)\n",
    "print('WX21=',WX21)\n",
    "print('WX22=',WX22)\n",
    "print('Wb11=',Wb11)\n",
    "print('Wb12=',Wb12)\n",
    "print('W13=',W13)\n",
    "print('W23=',W23)\n",
    "print('Wb23=',Wb23)"
   ]
  },
  {
   "cell_type": "markdown",
   "metadata": {},
   "source": [
    "## Tarea ##\n",
    "\n",
    "**Complete el cálculo de los pesos para:**\n",
    "- X1[2] = 0, X2[2] = 1, Z[2] = 1\n",
    "- X1[3] = 0, X2[3] = 0, Z[3] = 0"
   ]
  },
  {
   "cell_type": "markdown",
   "metadata": {},
   "source": [
    "### Cálculo de los valores y con X1[2] = 0, X2[2]=1, Z[2]=1"
   ]
  },
  {
   "cell_type": "code",
   "execution_count": 30,
   "metadata": {},
   "outputs": [
    {
     "name": "stdout",
     "output_type": "stream",
     "text": [
      "y1 =  0.5858040555377527\n"
     ]
    }
   ],
   "source": [
    "y1 = sigmoide(X1[2]*WX11+X2[2]*WX21+b1*Wb11)\n",
    "print(\"y1 = \",y1)"
   ]
  },
  {
   "cell_type": "code",
   "execution_count": 31,
   "metadata": {},
   "outputs": [
    {
     "name": "stdout",
     "output_type": "stream",
     "text": [
      "y2 =  0.7072569843339291\n"
     ]
    }
   ],
   "source": [
    "y2 = sigmoide(X1[2]*WX12+X2[2]*WX22+b1*Wb12)\n",
    "print(\"y2 = \",y2)"
   ]
  },
  {
   "cell_type": "code",
   "execution_count": 32,
   "metadata": {},
   "outputs": [
    {
     "name": "stdout",
     "output_type": "stream",
     "text": [
      "y=y3= 0.7377661712193627\n"
     ]
    }
   ],
   "source": [
    "y3 = sigmoide(y1*W13+y2*W23+b2*Wb23)\n",
    "y = y3\n",
    "print(\"y=y3=\",y)"
   ]
  },
  {
   "cell_type": "code",
   "execution_count": 33,
   "metadata": {},
   "outputs": [
    {
     "name": "stdout",
     "output_type": "stream",
     "text": [
      "y1 =  0.5858040555377527\n",
      "y2 =  0.7072569843339291\n",
      "y=y3= 0.7377661712193627\n"
     ]
    }
   ],
   "source": [
    "print(\"y1 = \",y1)\n",
    "print(\"y2 = \",y2)\n",
    "print(\"y=y3=\",y)"
   ]
  },
  {
   "cell_type": "markdown",
   "metadata": {},
   "source": [
    "Cálculo de los deltas"
   ]
  },
  {
   "cell_type": "code",
   "execution_count": 34,
   "metadata": {},
   "outputs": [
    {
     "name": "stdout",
     "output_type": "stream",
     "text": [
      "delta= 0.2622338287806373\n",
      "delta1= 0.1679463978291859\n",
      "delta2= 0.20743270440919725\n"
     ]
    }
   ],
   "source": [
    "delta = Z[2] - y\n",
    "print(\"delta=\",delta)\n",
    "\n",
    "delta1 = delta*W13\n",
    "print(\"delta1=\",delta1)\n",
    "\n",
    "delta2 = delta*W23\n",
    "print(\"delta2=\",delta2)"
   ]
  },
  {
   "cell_type": "markdown",
   "metadata": {},
   "source": [
    "Cálculo de los nuevos pesos"
   ]
  },
  {
   "cell_type": "code",
   "execution_count": 35,
   "metadata": {},
   "outputs": [],
   "source": [
    "# Pesos entre las conexiones de la capa de entrada\n",
    "# y la capa oculta\n",
    "WX11 = WX11 + n*delta1*dsigmoide(y1)*X1[2]\n",
    "WX12 = WX12 + n*delta2*dsigmoide(y2)*X1[2]\n",
    "WX21 = WX21 + n*delta1*dsigmoide(y1)*X2[2]\n",
    "WX22 = WX22 + n*delta2*dsigmoide(y2)*X2[2]\n",
    "Wb11 = Wb11 + n*delta1*dsigmoide(y1)*b1\n",
    "Wb12 = Wb12 + n*delta2*dsigmoide(y2)*b1\n",
    "# Pesos entre las conexiones de la capa oculta\n",
    "# y la capa de salida\n",
    "W13 = W13 + n*delta*dsigmoide(y)*y1\n",
    "W23 = W23 + n*delta*dsigmoide(y)*y2\n",
    "Wb23 = Wb23 + n*delta*dsigmoide(y)*b2"
   ]
  },
  {
   "cell_type": "code",
   "execution_count": 36,
   "metadata": {},
   "outputs": [
    {
     "name": "stdout",
     "output_type": "stream",
     "text": [
      "WX11= 0.5128814211909465\n",
      "WX12= 0.25002752381155763\n",
      "WX21= 0.392825925023432\n",
      "WX22= 0.8103455861381943\n",
      "Wb11= -0.005429603581328633\n",
      "Wb12= 0.1147011641871211\n",
      "W13= 0.6553051945189616\n",
      "W23= 0.8089627778227133\n",
      "Wb23= 0.1251260108373221\n"
     ]
    }
   ],
   "source": [
    "print('WX11=',WX11)\n",
    "print('WX12=',WX12)\n",
    "print('WX21=',WX21)\n",
    "print('WX22=',WX22)\n",
    "print('Wb11=',Wb11)\n",
    "print('Wb12=',Wb12)\n",
    "print('W13=',W13)\n",
    "print('W23=',W23)\n",
    "print('Wb23=',Wb23)"
   ]
  },
  {
   "cell_type": "markdown",
   "metadata": {},
   "source": [
    "### Cálculo de los valores y con X1[3] = 0, X2[3] = 0, Z[3] = 0"
   ]
  },
  {
   "cell_type": "code",
   "execution_count": 37,
   "metadata": {},
   "outputs": [
    {
     "name": "stdout",
     "output_type": "stream",
     "text": [
      "y1 =  0.4986426024394069\n"
     ]
    }
   ],
   "source": [
    "y1 = sigmoide(X1[3]*WX11+X2[3]*WX21+b1*Wb11)\n",
    "print(\"y1 = \",y1)"
   ]
  },
  {
   "cell_type": "code",
   "execution_count": 38,
   "metadata": {},
   "outputs": [
    {
     "name": "stdout",
     "output_type": "stream",
     "text": [
      "y2 =  0.5286438938227774\n"
     ]
    }
   ],
   "source": [
    "y2 = sigmoide(X1[3]*WX12+X2[3]*WX22+b1*Wb12)\n",
    "print(\"y2 = \",y2)"
   ]
  },
  {
   "cell_type": "code",
   "execution_count": 39,
   "metadata": {},
   "outputs": [
    {
     "name": "stdout",
     "output_type": "stream",
     "text": [
      "y=y3= 0.7067273719078152\n"
     ]
    }
   ],
   "source": [
    "y3 = sigmoide(y1*W13+y2*W23+b2*Wb23)\n",
    "y = y3\n",
    "print(\"y=y3=\",y)"
   ]
  },
  {
   "cell_type": "code",
   "execution_count": 40,
   "metadata": {},
   "outputs": [
    {
     "name": "stdout",
     "output_type": "stream",
     "text": [
      "y1 =  0.4986426024394069\n",
      "y2 =  0.5286438938227774\n",
      "y=y3= 0.7067273719078152\n"
     ]
    }
   ],
   "source": [
    "print(\"y1 = \",y1)\n",
    "print(\"y2 = \",y2)\n",
    "print(\"y=y3=\",y)"
   ]
  },
  {
   "cell_type": "markdown",
   "metadata": {},
   "source": [
    "Cálculo de los deltas"
   ]
  },
  {
   "cell_type": "code",
   "execution_count": 41,
   "metadata": {},
   "outputs": [
    {
     "name": "stdout",
     "output_type": "stream",
     "text": [
      "delta= 0.2932726280921848\n",
      "delta1= 0.19218307659903625\n",
      "delta2= 0.23724663988082131\n"
     ]
    }
   ],
   "source": [
    "delta = Z[1] - y\n",
    "print(\"delta=\",delta)\n",
    "\n",
    "delta1 = delta*W13\n",
    "print(\"delta1=\",delta1)\n",
    "\n",
    "delta2 = delta*W23\n",
    "print(\"delta2=\",delta2)"
   ]
  },
  {
   "cell_type": "markdown",
   "metadata": {},
   "source": [
    "Cálculo de los nuevos pesos"
   ]
  },
  {
   "cell_type": "code",
   "execution_count": 42,
   "metadata": {},
   "outputs": [],
   "source": [
    "# Pesos entre las conexiones de la capa de entrada\n",
    "# y la capa oculta\n",
    "WX11 = WX11 + n*delta1*dsigmoide(y1)*X1[3]\n",
    "WX12 = WX12 + n*delta2*dsigmoide(y2)*X1[3]\n",
    "WX21 = WX21 + n*delta1*dsigmoide(y1)*X2[3]\n",
    "WX22 = WX22 + n*delta2*dsigmoide(y2)*X2[3]\n",
    "Wb11 = Wb11 + n*delta1*dsigmoide(y1)*b1\n",
    "Wb12 = Wb12 + n*delta2*dsigmoide(y2)*b1\n",
    "# Pesos entre las conexiones de la capa oculta\n",
    "# y la capa de salida\n",
    "W13 = W13 + n*delta*dsigmoide(y)*y1\n",
    "W23 = W23 + n*delta*dsigmoide(y)*y2\n",
    "Wb23 = Wb23 + n*delta*dsigmoide(y)*b2"
   ]
  },
  {
   "cell_type": "code",
   "execution_count": 43,
   "metadata": {},
   "outputs": [
    {
     "name": "stdout",
     "output_type": "stream",
     "text": [
      "WX11= 0.5128814211909465\n",
      "WX12= 0.25002752381155763\n",
      "WX21= 0.392825925023432\n",
      "WX22= 0.8103455861381943\n",
      "Wb11= 0.018593103942187807\n",
      "Wb12= 0.14425966698216539\n",
      "W13= 0.6704601393230345\n",
      "W23= 0.8250295338373439\n",
      "Wb23= 0.15551840958129926\n"
     ]
    }
   ],
   "source": [
    "print('WX11=',WX11)\n",
    "print('WX12=',WX12)\n",
    "print('WX21=',WX21)\n",
    "print('WX22=',WX22)\n",
    "print('Wb11=',Wb11)\n",
    "print('Wb12=',Wb12)\n",
    "print('W13=',W13)\n",
    "print('W23=',W23)\n",
    "print('Wb23=',Wb23)"
   ]
  },
  {
   "cell_type": "code",
   "execution_count": null,
   "metadata": {},
   "outputs": [],
   "source": []
  }
 ],
 "metadata": {
  "kernelspec": {
   "display_name": "Python 3 (ipykernel)",
   "language": "python",
   "name": "python3"
  },
  "language_info": {
   "codemirror_mode": {
    "name": "ipython",
    "version": 3
   },
   "file_extension": ".py",
   "mimetype": "text/x-python",
   "name": "python",
   "nbconvert_exporter": "python",
   "pygments_lexer": "ipython3",
   "version": "3.9.12"
  },
  "vscode": {
   "interpreter": {
    "hash": "c812eb984687e98b7686c463c3fae2045e58b2a2b4e065b3dcebe3cb7d51662e"
   }
  }
 },
 "nbformat": 4,
 "nbformat_minor": 2
}
