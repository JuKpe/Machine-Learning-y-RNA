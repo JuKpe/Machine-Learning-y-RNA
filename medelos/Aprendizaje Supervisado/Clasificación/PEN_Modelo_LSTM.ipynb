{
 "cells": [
  {
   "cell_type": "markdown",
   "id": "HSxzRnq2lpq5",
   "metadata": {
    "id": "HSxzRnq2lpq5"
   },
   "source": [
    "**Importamos librerías**"
   ]
  },
  {
   "cell_type": "code",
   "execution_count": 1,
   "id": "54898b07",
   "metadata": {
    "id": "54898b07"
   },
   "outputs": [],
   "source": [
    "import numpy as np\n",
    "np.random.seed(4)\n",
    "import matplotlib.pyplot as plt\n",
    "import pandas as pd\n",
    "\n",
    "from sklearn.preprocessing import MinMaxScaler\n",
    "from keras.models import Sequential\n",
    "from keras.layers import Dense, LSTM"
   ]
  },
  {
   "cell_type": "markdown",
   "id": "nlddtrWSl0oR",
   "metadata": {
    "id": "nlddtrWSl0oR"
   },
   "source": [
    "**Usamos una función para graficar**"
   ]
  },
  {
   "cell_type": "code",
   "execution_count": 3,
   "id": "d7dc19a5",
   "metadata": {
    "id": "d7dc19a5"
   },
   "outputs": [],
   "source": [
    "# Funciones auxiliares\n",
    "\n",
    "def graficar_predicciones(real, prediccion):\n",
    "    plt.plot(real[0:len(prediccion)],color='red', label='Valor real de la acción')\n",
    "    plt.plot(prediccion, color='blue', label='Predicción de la acción')\n",
    "    plt.ylim(1.1 * np.min(prediccion)/2, 1.1 * np.max(prediccion))\n",
    "    plt.xlabel('Tiempo')\n",
    "    plt.ylabel('Valor de la acción')\n",
    "    plt.legend()\n",
    "    plt.show()\n"
   ]
  },
  {
   "cell_type": "markdown",
   "id": "kCYz5lK8l9xN",
   "metadata": {
    "id": "kCYz5lK8l9xN"
   },
   "source": [
    "**Instalamos yfinance**"
   ]
  },
  {
   "cell_type": "code",
   "execution_count": 4,
   "id": "CZ1hZImiCiFa",
   "metadata": {
    "colab": {
     "base_uri": "https://localhost:8080/",
     "height": 679
    },
    "id": "CZ1hZImiCiFa",
    "outputId": "440ddbcf-3fae-4433-c9cf-ffb1ab0a2a04"
   },
   "outputs": [
    {
     "name": "stdout",
     "output_type": "stream",
     "text": [
      "Looking in indexes: https://pypi.org/simple, https://us-python.pkg.dev/colab-wheels/public/simple/\n",
      "Collecting yfinance\n",
      "  Downloading yfinance-0.1.74-py2.py3-none-any.whl (27 kB)\n",
      "Requirement already satisfied: numpy>=1.15 in /usr/local/lib/python3.7/dist-packages (from yfinance) (1.21.6)\n",
      "Collecting requests>=2.26\n",
      "  Downloading requests-2.28.1-py3-none-any.whl (62 kB)\n",
      "\u001b[K     |████████████████████████████████| 62 kB 1.0 MB/s \n",
      "\u001b[?25hRequirement already satisfied: pandas>=0.24.0 in /usr/local/lib/python3.7/dist-packages (from yfinance) (1.3.5)\n",
      "Requirement already satisfied: multitasking>=0.0.7 in /usr/local/lib/python3.7/dist-packages (from yfinance) (0.0.11)\n",
      "Collecting lxml>=4.5.1\n",
      "  Downloading lxml-4.9.1-cp37-cp37m-manylinux_2_17_x86_64.manylinux2014_x86_64.manylinux_2_24_x86_64.whl (6.4 MB)\n",
      "\u001b[K     |████████████████████████████████| 6.4 MB 22.9 MB/s \n",
      "\u001b[?25hRequirement already satisfied: pytz>=2017.3 in /usr/local/lib/python3.7/dist-packages (from pandas>=0.24.0->yfinance) (2022.1)\n",
      "Requirement already satisfied: python-dateutil>=2.7.3 in /usr/local/lib/python3.7/dist-packages (from pandas>=0.24.0->yfinance) (2.8.2)\n",
      "Requirement already satisfied: six>=1.5 in /usr/local/lib/python3.7/dist-packages (from python-dateutil>=2.7.3->pandas>=0.24.0->yfinance) (1.15.0)\n",
      "Requirement already satisfied: idna<4,>=2.5 in /usr/local/lib/python3.7/dist-packages (from requests>=2.26->yfinance) (2.10)\n",
      "Requirement already satisfied: charset-normalizer<3,>=2 in /usr/local/lib/python3.7/dist-packages (from requests>=2.26->yfinance) (2.1.0)\n",
      "Requirement already satisfied: certifi>=2017.4.17 in /usr/local/lib/python3.7/dist-packages (from requests>=2.26->yfinance) (2022.6.15)\n",
      "Requirement already satisfied: urllib3<1.27,>=1.21.1 in /usr/local/lib/python3.7/dist-packages (from requests>=2.26->yfinance) (1.24.3)\n",
      "Installing collected packages: requests, lxml, yfinance\n",
      "  Attempting uninstall: requests\n",
      "    Found existing installation: requests 2.23.0\n",
      "    Uninstalling requests-2.23.0:\n",
      "      Successfully uninstalled requests-2.23.0\n",
      "  Attempting uninstall: lxml\n",
      "    Found existing installation: lxml 4.2.6\n",
      "    Uninstalling lxml-4.2.6:\n",
      "      Successfully uninstalled lxml-4.2.6\n",
      "\u001b[31mERROR: pip's dependency resolver does not currently take into account all the packages that are installed. This behaviour is the source of the following dependency conflicts.\n",
      "google-colab 1.0.0 requires requests~=2.23.0, but you have requests 2.28.1 which is incompatible.\n",
      "datascience 0.10.6 requires folium==0.2.1, but you have folium 0.8.3 which is incompatible.\u001b[0m\n",
      "Successfully installed lxml-4.9.1 requests-2.28.1 yfinance-0.1.74\n"
     ]
    },
    {
     "data": {
      "application/vnd.colab-display-data+json": {
       "pip_warning": {
        "packages": [
         "requests"
        ]
       }
      }
     },
     "metadata": {},
     "output_type": "display_data"
    }
   ],
   "source": [
    "!pip install yfinance"
   ]
  },
  {
   "cell_type": "markdown",
   "id": "YUuMKEzAmKXg",
   "metadata": {
    "id": "YUuMKEzAmKXg"
   },
   "source": [
    "**Cargamos los Datos**"
   ]
  },
  {
   "cell_type": "code",
   "execution_count": 5,
   "id": "ny0PkhzpGQzQ",
   "metadata": {
    "colab": {
     "base_uri": "https://localhost:8080/",
     "height": 455
    },
    "id": "ny0PkhzpGQzQ",
    "outputId": "3756e469-c214-4cf3-8356-c75d0c26e2bc"
   },
   "outputs": [
    {
     "data": {
      "text/html": [
       "\n",
       "  <div id=\"df-70a4c087-dc0f-486a-a57b-898dd9b370ab\">\n",
       "    <div class=\"colab-df-container\">\n",
       "      <div>\n",
       "<style scoped>\n",
       "    .dataframe tbody tr th:only-of-type {\n",
       "        vertical-align: middle;\n",
       "    }\n",
       "\n",
       "    .dataframe tbody tr th {\n",
       "        vertical-align: top;\n",
       "    }\n",
       "\n",
       "    .dataframe thead th {\n",
       "        text-align: right;\n",
       "    }\n",
       "</style>\n",
       "<table border=\"1\" class=\"dataframe\">\n",
       "  <thead>\n",
       "    <tr style=\"text-align: right;\">\n",
       "      <th></th>\n",
       "      <th>Open</th>\n",
       "      <th>High</th>\n",
       "      <th>Low</th>\n",
       "      <th>Close</th>\n",
       "      <th>Volume</th>\n",
       "      <th>Dividends</th>\n",
       "      <th>Stock Splits</th>\n",
       "    </tr>\n",
       "    <tr>\n",
       "      <th>Date</th>\n",
       "      <th></th>\n",
       "      <th></th>\n",
       "      <th></th>\n",
       "      <th></th>\n",
       "      <th></th>\n",
       "      <th></th>\n",
       "      <th></th>\n",
       "    </tr>\n",
       "  </thead>\n",
       "  <tbody>\n",
       "    <tr>\n",
       "      <th>2001-05-31</th>\n",
       "      <td>3.623000</td>\n",
       "      <td>3.623000</td>\n",
       "      <td>3.623000</td>\n",
       "      <td>3.623000</td>\n",
       "      <td>0</td>\n",
       "      <td>0</td>\n",
       "      <td>0</td>\n",
       "    </tr>\n",
       "    <tr>\n",
       "      <th>2001-06-01</th>\n",
       "      <td>3.623000</td>\n",
       "      <td>3.623000</td>\n",
       "      <td>3.623000</td>\n",
       "      <td>3.623000</td>\n",
       "      <td>0</td>\n",
       "      <td>0</td>\n",
       "      <td>0</td>\n",
       "    </tr>\n",
       "    <tr>\n",
       "      <th>2001-06-04</th>\n",
       "      <td>3.623000</td>\n",
       "      <td>3.623000</td>\n",
       "      <td>3.623000</td>\n",
       "      <td>3.623000</td>\n",
       "      <td>0</td>\n",
       "      <td>0</td>\n",
       "      <td>0</td>\n",
       "    </tr>\n",
       "    <tr>\n",
       "      <th>2001-06-05</th>\n",
       "      <td>3.623000</td>\n",
       "      <td>3.623000</td>\n",
       "      <td>3.623000</td>\n",
       "      <td>3.623000</td>\n",
       "      <td>0</td>\n",
       "      <td>0</td>\n",
       "      <td>0</td>\n",
       "    </tr>\n",
       "    <tr>\n",
       "      <th>2001-06-06</th>\n",
       "      <td>3.623000</td>\n",
       "      <td>3.623000</td>\n",
       "      <td>3.623000</td>\n",
       "      <td>3.623000</td>\n",
       "      <td>0</td>\n",
       "      <td>0</td>\n",
       "      <td>0</td>\n",
       "    </tr>\n",
       "    <tr>\n",
       "      <th>...</th>\n",
       "      <td>...</td>\n",
       "      <td>...</td>\n",
       "      <td>...</td>\n",
       "      <td>...</td>\n",
       "      <td>...</td>\n",
       "      <td>...</td>\n",
       "      <td>...</td>\n",
       "    </tr>\n",
       "    <tr>\n",
       "      <th>2022-07-15</th>\n",
       "      <td>3.876485</td>\n",
       "      <td>3.874454</td>\n",
       "      <td>3.827235</td>\n",
       "      <td>3.876485</td>\n",
       "      <td>0</td>\n",
       "      <td>0</td>\n",
       "      <td>0</td>\n",
       "    </tr>\n",
       "    <tr>\n",
       "      <th>2022-07-18</th>\n",
       "      <td>3.819752</td>\n",
       "      <td>3.825525</td>\n",
       "      <td>3.813185</td>\n",
       "      <td>3.819752</td>\n",
       "      <td>0</td>\n",
       "      <td>0</td>\n",
       "      <td>0</td>\n",
       "    </tr>\n",
       "    <tr>\n",
       "      <th>2022-07-19</th>\n",
       "      <td>3.825525</td>\n",
       "      <td>3.836080</td>\n",
       "      <td>3.827716</td>\n",
       "      <td>3.825525</td>\n",
       "      <td>0</td>\n",
       "      <td>0</td>\n",
       "      <td>0</td>\n",
       "    </tr>\n",
       "    <tr>\n",
       "      <th>2022-07-20</th>\n",
       "      <td>3.827716</td>\n",
       "      <td>3.834123</td>\n",
       "      <td>3.793048</td>\n",
       "      <td>3.827716</td>\n",
       "      <td>0</td>\n",
       "      <td>0</td>\n",
       "      <td>0</td>\n",
       "    </tr>\n",
       "    <tr>\n",
       "      <th>2022-07-21</th>\n",
       "      <td>3.793048</td>\n",
       "      <td>3.811108</td>\n",
       "      <td>3.800979</td>\n",
       "      <td>3.793048</td>\n",
       "      <td>0</td>\n",
       "      <td>0</td>\n",
       "      <td>0</td>\n",
       "    </tr>\n",
       "  </tbody>\n",
       "</table>\n",
       "<p>5510 rows × 7 columns</p>\n",
       "</div>\n",
       "      <button class=\"colab-df-convert\" onclick=\"convertToInteractive('df-70a4c087-dc0f-486a-a57b-898dd9b370ab')\"\n",
       "              title=\"Convert this dataframe to an interactive table.\"\n",
       "              style=\"display:none;\">\n",
       "        \n",
       "  <svg xmlns=\"http://www.w3.org/2000/svg\" height=\"24px\"viewBox=\"0 0 24 24\"\n",
       "       width=\"24px\">\n",
       "    <path d=\"M0 0h24v24H0V0z\" fill=\"none\"/>\n",
       "    <path d=\"M18.56 5.44l.94 2.06.94-2.06 2.06-.94-2.06-.94-.94-2.06-.94 2.06-2.06.94zm-11 1L8.5 8.5l.94-2.06 2.06-.94-2.06-.94L8.5 2.5l-.94 2.06-2.06.94zm10 10l.94 2.06.94-2.06 2.06-.94-2.06-.94-.94-2.06-.94 2.06-2.06.94z\"/><path d=\"M17.41 7.96l-1.37-1.37c-.4-.4-.92-.59-1.43-.59-.52 0-1.04.2-1.43.59L10.3 9.45l-7.72 7.72c-.78.78-.78 2.05 0 2.83L4 21.41c.39.39.9.59 1.41.59.51 0 1.02-.2 1.41-.59l7.78-7.78 2.81-2.81c.8-.78.8-2.07 0-2.86zM5.41 20L4 18.59l7.72-7.72 1.47 1.35L5.41 20z\"/>\n",
       "  </svg>\n",
       "      </button>\n",
       "      \n",
       "  <style>\n",
       "    .colab-df-container {\n",
       "      display:flex;\n",
       "      flex-wrap:wrap;\n",
       "      gap: 12px;\n",
       "    }\n",
       "\n",
       "    .colab-df-convert {\n",
       "      background-color: #E8F0FE;\n",
       "      border: none;\n",
       "      border-radius: 50%;\n",
       "      cursor: pointer;\n",
       "      display: none;\n",
       "      fill: #1967D2;\n",
       "      height: 32px;\n",
       "      padding: 0 0 0 0;\n",
       "      width: 32px;\n",
       "    }\n",
       "\n",
       "    .colab-df-convert:hover {\n",
       "      background-color: #E2EBFA;\n",
       "      box-shadow: 0px 1px 2px rgba(60, 64, 67, 0.3), 0px 1px 3px 1px rgba(60, 64, 67, 0.15);\n",
       "      fill: #174EA6;\n",
       "    }\n",
       "\n",
       "    [theme=dark] .colab-df-convert {\n",
       "      background-color: #3B4455;\n",
       "      fill: #D2E3FC;\n",
       "    }\n",
       "\n",
       "    [theme=dark] .colab-df-convert:hover {\n",
       "      background-color: #434B5C;\n",
       "      box-shadow: 0px 1px 3px 1px rgba(0, 0, 0, 0.15);\n",
       "      filter: drop-shadow(0px 1px 2px rgba(0, 0, 0, 0.3));\n",
       "      fill: #FFFFFF;\n",
       "    }\n",
       "  </style>\n",
       "\n",
       "      <script>\n",
       "        const buttonEl =\n",
       "          document.querySelector('#df-70a4c087-dc0f-486a-a57b-898dd9b370ab button.colab-df-convert');\n",
       "        buttonEl.style.display =\n",
       "          google.colab.kernel.accessAllowed ? 'block' : 'none';\n",
       "\n",
       "        async function convertToInteractive(key) {\n",
       "          const element = document.querySelector('#df-70a4c087-dc0f-486a-a57b-898dd9b370ab');\n",
       "          const dataTable =\n",
       "            await google.colab.kernel.invokeFunction('convertToInteractive',\n",
       "                                                     [key], {});\n",
       "          if (!dataTable) return;\n",
       "\n",
       "          const docLinkHtml = 'Like what you see? Visit the ' +\n",
       "            '<a target=\"_blank\" href=https://colab.research.google.com/notebooks/data_table.ipynb>data table notebook</a>'\n",
       "            + ' to learn more about interactive tables.';\n",
       "          element.innerHTML = '';\n",
       "          dataTable['output_type'] = 'display_data';\n",
       "          await google.colab.output.renderOutput(dataTable, element);\n",
       "          const docLink = document.createElement('div');\n",
       "          docLink.innerHTML = docLinkHtml;\n",
       "          element.appendChild(docLink);\n",
       "        }\n",
       "      </script>\n",
       "    </div>\n",
       "  </div>\n",
       "  "
      ],
      "text/plain": [
       "                Open      High       Low     Close  Volume  Dividends  \\\n",
       "Date                                                                    \n",
       "2001-05-31  3.623000  3.623000  3.623000  3.623000       0          0   \n",
       "2001-06-01  3.623000  3.623000  3.623000  3.623000       0          0   \n",
       "2001-06-04  3.623000  3.623000  3.623000  3.623000       0          0   \n",
       "2001-06-05  3.623000  3.623000  3.623000  3.623000       0          0   \n",
       "2001-06-06  3.623000  3.623000  3.623000  3.623000       0          0   \n",
       "...              ...       ...       ...       ...     ...        ...   \n",
       "2022-07-15  3.876485  3.874454  3.827235  3.876485       0          0   \n",
       "2022-07-18  3.819752  3.825525  3.813185  3.819752       0          0   \n",
       "2022-07-19  3.825525  3.836080  3.827716  3.825525       0          0   \n",
       "2022-07-20  3.827716  3.834123  3.793048  3.827716       0          0   \n",
       "2022-07-21  3.793048  3.811108  3.800979  3.793048       0          0   \n",
       "\n",
       "            Stock Splits  \n",
       "Date                      \n",
       "2001-05-31             0  \n",
       "2001-06-01             0  \n",
       "2001-06-04             0  \n",
       "2001-06-05             0  \n",
       "2001-06-06             0  \n",
       "...                  ...  \n",
       "2022-07-15             0  \n",
       "2022-07-18             0  \n",
       "2022-07-19             0  \n",
       "2022-07-20             0  \n",
       "2022-07-21             0  \n",
       "\n",
       "[5510 rows x 7 columns]"
      ]
     },
     "execution_count": 5,
     "metadata": {},
     "output_type": "execute_result"
    }
   ],
   "source": [
    "import yfinance as yf\n",
    "\n",
    "brk = yf.Ticker('PEN=X') \n",
    "\n",
    "dataset = brk.history(period=\"max\", auto_adjust=True)\n",
    "\n",
    "dataset"
   ]
  },
  {
   "cell_type": "markdown",
   "id": "HTxP7rRzmYJQ",
   "metadata": {
    "id": "HTxP7rRzmYJQ"
   },
   "source": [
    "**Dividimos los datos en train y test**"
   ]
  },
  {
   "cell_type": "code",
   "execution_count": 6,
   "id": "cc90db18",
   "metadata": {
    "colab": {
     "base_uri": "https://localhost:8080/",
     "height": 269
    },
    "id": "cc90db18",
    "outputId": "3cdeefa8-1078-4ae2-f53f-b03c79e3dfeb"
   },
   "outputs": [
    {
     "data": {
      "image/png": "[encoded data removed]",
      "text/plain": [
       "<Figure size 432x288 with 1 Axes>"
      ]
     },
     "metadata": {
      "needs_background": "light"
     },
     "output_type": "display_data"
    }
   ],
   "source": [
    "# Sets de entrenamiento y validación (test) \n",
    "# La LSTM se entrenará con datos de 2019 hacia atrás. La validación se hará con datos de 2020 en adelante.\n",
    "# En ambos casos sólo se usará el valor más Alto de la acción para cada día\n",
    "#\n",
    "set_entrenamiento = dataset[:'2019'].iloc[:,1:2]\n",
    "set_validacion = dataset['2020':].iloc[:,1:2]\n",
    "\n",
    "set_entrenamiento['High'].plot(legend=True)\n",
    "set_validacion['High'].plot(legend=True)\n",
    "plt.legend(['Entrenamiento (2001-2019)', 'Validación (2020)'])\n",
    "plt.show()"
   ]
  },
  {
   "cell_type": "markdown",
   "id": "7bHfSqPSrxW_",
   "metadata": {
    "id": "7bHfSqPSrxW_"
   },
   "source": [
    "**Normalización del set de entrenamiento**"
   ]
  },
  {
   "cell_type": "code",
   "execution_count": 7,
   "id": "b31ed37f",
   "metadata": {
    "id": "b31ed37f"
   },
   "outputs": [],
   "source": [
    "# Normalización del set de entrenamiento\n",
    "sc = MinMaxScaler(feature_range=(0,1))\n",
    "set_entrenamiento_escalado = sc.fit_transform(set_entrenamiento)"
   ]
  },
  {
   "cell_type": "code",
   "execution_count": 8,
   "id": "f28b422d",
   "metadata": {
    "id": "f28b422d"
   },
   "outputs": [],
   "source": [
    "# La red LSTM tendrá como entrada \"time_step\" datos consecutivos, y como salida un dato (la predicción a\n",
    "# partir de esos \"time_step\" datos). Se conformará de esta forma el set de entrenamiento\n",
    "time_step = 60\n",
    "X_train = []\n",
    "Y_train = []\n",
    "m = len(set_entrenamiento_escalado)\n",
    "\n",
    "for i in range(time_step,m):\n",
    "    # X: bloques de \"time_step\" datos: 0-time_step, 1-time_step+1, 2-time_step+2, etc\n",
    "    X_train.append(set_entrenamiento_escalado[i-time_step:i,0])\n",
    "\n",
    "    # Y: el siguiente dato\n",
    "    Y_train.append(set_entrenamiento_escalado[i,0])\n",
    "X_train, Y_train = np.array(X_train), np.array(Y_train)\n",
    "\n",
    "# Reshape X_train para que se ajuste al modelo en Keras\n",
    "X_train = np.reshape(X_train, (X_train.shape[0], X_train.shape[1], 1))"
   ]
  },
  {
   "cell_type": "markdown",
   "id": "HQIUX1RssHxG",
   "metadata": {
    "id": "HQIUX1RssHxG"
   },
   "source": [
    "**Red LSTM**"
   ]
  },
  {
   "cell_type": "code",
   "execution_count": 9,
   "id": "bff11ef1",
   "metadata": {
    "colab": {
     "base_uri": "https://localhost:8080/"
    },
    "id": "bff11ef1",
    "outputId": "a98fa94b-74d1-42b5-f0d2-efcfa56000eb"
   },
   "outputs": [
    {
     "name": "stdout",
     "output_type": "stream",
     "text": [
      "Epoch 1/20\n",
      "150/150 [==============================] - 7s 27ms/step - loss: 0.0055\n",
      "Epoch 2/20\n",
      "150/150 [==============================] - 4s 29ms/step - loss: 0.0014\n",
      "Epoch 3/20\n",
      "150/150 [==============================] - 4s 27ms/step - loss: 0.0012\n",
      "Epoch 4/20\n",
      "150/150 [==============================] - 4s 28ms/step - loss: 0.0010\n",
      "Epoch 5/20\n",
      "150/150 [==============================] - 4s 30ms/step - loss: 9.9052e-04\n",
      "Epoch 6/20\n",
      "150/150 [==============================] - 5s 30ms/step - loss: 9.6096e-04\n",
      "Epoch 7/20\n",
      "150/150 [==============================] - 4s 29ms/step - loss: 9.3757e-04\n",
      "Epoch 8/20\n",
      "150/150 [==============================] - 4s 28ms/step - loss: 9.2830e-04\n",
      "Epoch 9/20\n",
      "150/150 [==============================] - 4s 27ms/step - loss: 9.0069e-04\n",
      "Epoch 10/20\n",
      "150/150 [==============================] - 4s 27ms/step - loss: 8.9702e-04\n",
      "Epoch 11/20\n",
      "150/150 [==============================] - 5s 31ms/step - loss: 8.7245e-04\n",
      "Epoch 12/20\n",
      "150/150 [==============================] - 4s 29ms/step - loss: 8.7879e-04\n",
      "Epoch 13/20\n",
      "150/150 [==============================] - 4s 30ms/step - loss: 8.7024e-04\n",
      "Epoch 14/20\n",
      "150/150 [==============================] - 4s 28ms/step - loss: 8.8322e-04\n",
      "Epoch 15/20\n",
      "150/150 [==============================] - 6s 40ms/step - loss: 8.6316e-04\n",
      "Epoch 16/20\n",
      "150/150 [==============================] - 4s 28ms/step - loss: 8.6631e-04\n",
      "Epoch 17/20\n",
      "150/150 [==============================] - 4s 28ms/step - loss: 8.4412e-04\n",
      "Epoch 18/20\n",
      "150/150 [==============================] - 5s 30ms/step - loss: 8.5497e-04\n",
      "Epoch 19/20\n",
      "150/150 [==============================] - 4s 28ms/step - loss: 8.6079e-04\n",
      "Epoch 20/20\n",
      "150/150 [==============================] - 4s 29ms/step - loss: 8.2766e-04\n"
     ]
    },
    {
     "data": {
      "text/plain": [
       "<keras.callbacks.History at 0x7f697375d290>"
      ]
     },
     "execution_count": 9,
     "metadata": {},
     "output_type": "execute_result"
    }
   ],
   "source": [
    "# Red LSTM\n",
    "\n",
    "dim_entrada = (X_train.shape[1],1)\n",
    "dim_salida = 1\n",
    "na = 50\n",
    "\n",
    "modelo = Sequential()\n",
    "modelo.add(LSTM(units=na, input_shape=dim_entrada))\n",
    "modelo.add(Dense(units=dim_salida))\n",
    "modelo.compile(optimizer='rmsprop', loss='mse')\n",
    "modelo.fit(X_train,Y_train,epochs=20,batch_size=32)"
   ]
  },
  {
   "cell_type": "code",
   "execution_count": 10,
   "id": "58fb1f69",
   "metadata": {
    "colab": {
     "base_uri": "https://localhost:8080/"
    },
    "id": "58fb1f69",
    "outputId": "290c91d8-02ce-451b-e518-92cb504645fe"
   },
   "outputs": [
    {
     "name": "stderr",
     "output_type": "stream",
     "text": [
      "/usr/local/lib/python3.7/dist-packages/sklearn/base.py:451: UserWarning: X does not have valid feature names, but MinMaxScaler was fitted with feature names\n",
      "  \"X does not have valid feature names, but\"\n"
     ]
    }
   ],
   "source": [
    "# Validación (predicción del valor de las acciones)\n",
    "#\n",
    "x_test = set_validacion.values\n",
    "x_test = sc.transform(x_test)\n",
    "\n",
    "X_test = []\n",
    "for i in range(time_step,len(x_test)):\n",
    "    X_test.append(x_test[i-time_step:i,0])\n",
    "X_test = np.array(X_test)\n",
    "X_test = np.reshape(X_test, (X_test.shape[0],X_test.shape[1],1))\n",
    "\n",
    "prediccion = modelo.predict(X_test)\n",
    "prediccion = sc.inverse_transform(prediccion)\n"
   ]
  },
  {
   "cell_type": "code",
   "execution_count": 11,
   "id": "4b66727f",
   "metadata": {
    "colab": {
     "base_uri": "https://localhost:8080/",
     "height": 279
    },
    "id": "4b66727f",
    "outputId": "210a1def-dce9-4d3f-e504-c636a9e84a49"
   },
   "outputs": [
    {
     "data": {
      "image/png": "[encoded data removed]",
      "text/plain": [
       "<Figure size 432x288 with 1 Axes>"
      ]
     },
     "metadata": {
      "needs_background": "light"
     },
     "output_type": "display_data"
    }
   ],
   "source": [
    "# Graficar resultados\n",
    "graficar_predicciones(set_validacion.values,prediccion)"
   ]
  },
  {
   "cell_type": "code",
   "execution_count": null,
   "id": "f1a04d56",
   "metadata": {
    "id": "f1a04d56"
   },
   "outputs": [],
   "source": []
  },
  {
   "cell_type": "code",
   "execution_count": null,
   "id": "8b1a33e1",
   "metadata": {
    "id": "8b1a33e1"
   },
   "outputs": [],
   "source": []
  }
 ],
 "metadata": {
  "colab": {
   "collapsed_sections": [],
   "name": "Eq_B_Semana_10_Modelo_LSTM",
   "provenance": [],
   "toc_visible": true
  },
  "kernelspec": {
   "display_name": "Python 3 (ipykernel)",
   "language": "python",
   "name": "python3"
  },
  "language_info": {
   "codemirror_mode": {
    "name": "ipython",
    "version": 3
   },
   "file_extension": ".py",
   "mimetype": "text/x-python",
   "name": "python",
   "nbconvert_exporter": "python",
   "pygments_lexer": "ipython3",
   "version": "3.9.12"
  }
 },
 "nbformat": 4,
 "nbformat_minor": 5
}
