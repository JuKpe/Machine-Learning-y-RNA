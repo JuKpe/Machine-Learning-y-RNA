{
 "cells": [
  {
   "cell_type": "markdown",
   "metadata": {
    "id": "jzbTFWCS_WZt"
   },
   "source": [
    "# **Predecir el Precio de las Acciones de TD con Support Vector Regression (SVR)**"
   ]
  },
  {
   "cell_type": "markdown",
   "metadata": {
    "id": "v5MSgpiOCTWe"
   },
   "source": [
    "## Importar dependencias"
   ]
  },
  {
   "cell_type": "code",
   "execution_count": null,
   "metadata": {
    "id": "Q0VwJmSJ-1Tq"
   },
   "outputs": [],
   "source": [
    "import numpy as np\n",
    "from sklearn.svm import SVR \n",
    "import matplotlib.pyplot as plt \n",
    "import pandas as pd \n",
    "\n",
    "%matplotlib inline"
   ]
  },
  {
   "cell_type": "markdown",
   "metadata": {
    "id": "Hd7QK6FbDeYj"
   },
   "source": [
    "## Preparar los datos"
   ]
  },
  {
   "cell_type": "code",
   "execution_count": null,
   "metadata": {
    "colab": {
     "base_uri": "https://localhost:8080/"
    },
    "id": "OjhI55_oFEUr",
    "outputId": "88e699e4-02a0-4027-9829-4cfa7ae9158d"
   },
   "outputs": [
    {
     "name": "stdout",
     "output_type": "stream",
     "text": [
      "Looking in indexes: https://pypi.org/simple, https://us-python.pkg.dev/colab-wheels/public/simple/\n",
      "Requirement already satisfied: yfinance in /usr/local/lib/python3.7/dist-packages (0.1.74)\n",
      "Requirement already satisfied: multitasking>=0.0.7 in /usr/local/lib/python3.7/dist-packages (from yfinance) (0.0.11)\n",
      "Requirement already satisfied: pandas>=0.24.0 in /usr/local/lib/python3.7/dist-packages (from yfinance) (1.3.5)\n",
      "Requirement already satisfied: lxml>=4.5.1 in /usr/local/lib/python3.7/dist-packages (from yfinance) (4.9.1)\n",
      "Requirement already satisfied: requests>=2.26 in /usr/local/lib/python3.7/dist-packages (from yfinance) (2.28.1)\n",
      "Requirement already satisfied: numpy>=1.15 in /usr/local/lib/python3.7/dist-packages (from yfinance) (1.21.6)\n",
      "Requirement already satisfied: python-dateutil>=2.7.3 in /usr/local/lib/python3.7/dist-packages (from pandas>=0.24.0->yfinance) (2.8.2)\n",
      "Requirement already satisfied: pytz>=2017.3 in /usr/local/lib/python3.7/dist-packages (from pandas>=0.24.0->yfinance) (2022.1)\n",
      "Requirement already satisfied: six>=1.5 in /usr/local/lib/python3.7/dist-packages (from python-dateutil>=2.7.3->pandas>=0.24.0->yfinance) (1.15.0)\n",
      "Requirement already satisfied: certifi>=2017.4.17 in /usr/local/lib/python3.7/dist-packages (from requests>=2.26->yfinance) (2022.6.15)\n",
      "Requirement already satisfied: idna<4,>=2.5 in /usr/local/lib/python3.7/dist-packages (from requests>=2.26->yfinance) (2.10)\n",
      "Requirement already satisfied: urllib3<1.27,>=1.21.1 in /usr/local/lib/python3.7/dist-packages (from requests>=2.26->yfinance) (1.24.3)\n",
      "Requirement already satisfied: charset-normalizer<3,>=2 in /usr/local/lib/python3.7/dist-packages (from requests>=2.26->yfinance) (2.1.0)\n"
     ]
    }
   ],
   "source": [
    "!pip install yfinance"
   ]
  },
  {
   "cell_type": "code",
   "execution_count": null,
   "metadata": {
    "colab": {
     "base_uri": "https://localhost:8080/",
     "height": 255
    },
    "id": "5GKZmiQ_DMbF",
    "outputId": "d8091255-a4cd-4642-d278-ff4494840426"
   },
   "outputs": [
    {
     "name": "stdout",
     "output_type": "stream",
     "text": [
      "\r",
      "[*********************100%***********************]  1 of 1 completed\n"
     ]
    },
    {
     "data": {
      "text/html": [
       "\n",
       "  <div id=\"df-1e964c51-ee23-4ce2-b0a2-b2b0eaf9fd46\">\n",
       "    <div class=\"colab-df-container\">\n",
       "      <div>\n",
       "<style scoped>\n",
       "    .dataframe tbody tr th:only-of-type {\n",
       "        vertical-align: middle;\n",
       "    }\n",
       "\n",
       "    .dataframe tbody tr th {\n",
       "        vertical-align: top;\n",
       "    }\n",
       "\n",
       "    .dataframe thead th {\n",
       "        text-align: right;\n",
       "    }\n",
       "</style>\n",
       "<table border=\"1\" class=\"dataframe\">\n",
       "  <thead>\n",
       "    <tr style=\"text-align: right;\">\n",
       "      <th></th>\n",
       "      <th>Open</th>\n",
       "      <th>High</th>\n",
       "      <th>Low</th>\n",
       "      <th>Close</th>\n",
       "      <th>Adj Close</th>\n",
       "      <th>Volume</th>\n",
       "    </tr>\n",
       "    <tr>\n",
       "      <th>Date</th>\n",
       "      <th></th>\n",
       "      <th></th>\n",
       "      <th></th>\n",
       "      <th></th>\n",
       "      <th></th>\n",
       "      <th></th>\n",
       "    </tr>\n",
       "  </thead>\n",
       "  <tbody>\n",
       "    <tr>\n",
       "      <th>2019-01-02</th>\n",
       "      <td>67.510002</td>\n",
       "      <td>68.430000</td>\n",
       "      <td>67.120003</td>\n",
       "      <td>68.250000</td>\n",
       "      <td>58.394650</td>\n",
       "      <td>3930300</td>\n",
       "    </tr>\n",
       "    <tr>\n",
       "      <th>2019-01-03</th>\n",
       "      <td>68.110001</td>\n",
       "      <td>68.110001</td>\n",
       "      <td>67.120003</td>\n",
       "      <td>67.300003</td>\n",
       "      <td>57.581837</td>\n",
       "      <td>5407700</td>\n",
       "    </tr>\n",
       "    <tr>\n",
       "      <th>2019-01-04</th>\n",
       "      <td>68.000000</td>\n",
       "      <td>68.150002</td>\n",
       "      <td>67.669998</td>\n",
       "      <td>67.980003</td>\n",
       "      <td>58.163643</td>\n",
       "      <td>5103400</td>\n",
       "    </tr>\n",
       "    <tr>\n",
       "      <th>2019-01-07</th>\n",
       "      <td>68.589996</td>\n",
       "      <td>68.589996</td>\n",
       "      <td>67.449997</td>\n",
       "      <td>67.690002</td>\n",
       "      <td>57.915512</td>\n",
       "      <td>5907000</td>\n",
       "    </tr>\n",
       "    <tr>\n",
       "      <th>2019-01-08</th>\n",
       "      <td>68.000000</td>\n",
       "      <td>68.190002</td>\n",
       "      <td>67.330002</td>\n",
       "      <td>67.820000</td>\n",
       "      <td>58.026737</td>\n",
       "      <td>7337200</td>\n",
       "    </tr>\n",
       "  </tbody>\n",
       "</table>\n",
       "</div>\n",
       "      <button class=\"colab-df-convert\" onclick=\"convertToInteractive('df-1e964c51-ee23-4ce2-b0a2-b2b0eaf9fd46')\"\n",
       "              title=\"Convert this dataframe to an interactive table.\"\n",
       "              style=\"display:none;\">\n",
       "        \n",
       "  <svg xmlns=\"http://www.w3.org/2000/svg\" height=\"24px\"viewBox=\"0 0 24 24\"\n",
       "       width=\"24px\">\n",
       "    <path d=\"M0 0h24v24H0V0z\" fill=\"none\"/>\n",
       "    <path d=\"M18.56 5.44l.94 2.06.94-2.06 2.06-.94-2.06-.94-.94-2.06-.94 2.06-2.06.94zm-11 1L8.5 8.5l.94-2.06 2.06-.94-2.06-.94L8.5 2.5l-.94 2.06-2.06.94zm10 10l.94 2.06.94-2.06 2.06-.94-2.06-.94-.94-2.06-.94 2.06-2.06.94z\"/><path d=\"M17.41 7.96l-1.37-1.37c-.4-.4-.92-.59-1.43-.59-.52 0-1.04.2-1.43.59L10.3 9.45l-7.72 7.72c-.78.78-.78 2.05 0 2.83L4 21.41c.39.39.9.59 1.41.59.51 0 1.02-.2 1.41-.59l7.78-7.78 2.81-2.81c.8-.78.8-2.07 0-2.86zM5.41 20L4 18.59l7.72-7.72 1.47 1.35L5.41 20z\"/>\n",
       "  </svg>\n",
       "      </button>\n",
       "      \n",
       "  <style>\n",
       "    .colab-df-container {\n",
       "      display:flex;\n",
       "      flex-wrap:wrap;\n",
       "      gap: 12px;\n",
       "    }\n",
       "\n",
       "    .colab-df-convert {\n",
       "      background-color: #E8F0FE;\n",
       "      border: none;\n",
       "      border-radius: 50%;\n",
       "      cursor: pointer;\n",
       "      display: none;\n",
       "      fill: #1967D2;\n",
       "      height: 32px;\n",
       "      padding: 0 0 0 0;\n",
       "      width: 32px;\n",
       "    }\n",
       "\n",
       "    .colab-df-convert:hover {\n",
       "      background-color: #E2EBFA;\n",
       "      box-shadow: 0px 1px 2px rgba(60, 64, 67, 0.3), 0px 1px 3px 1px rgba(60, 64, 67, 0.15);\n",
       "      fill: #174EA6;\n",
       "    }\n",
       "\n",
       "    [theme=dark] .colab-df-convert {\n",
       "      background-color: #3B4455;\n",
       "      fill: #D2E3FC;\n",
       "    }\n",
       "\n",
       "    [theme=dark] .colab-df-convert:hover {\n",
       "      background-color: #434B5C;\n",
       "      box-shadow: 0px 1px 3px 1px rgba(0, 0, 0, 0.15);\n",
       "      filter: drop-shadow(0px 1px 2px rgba(0, 0, 0, 0.3));\n",
       "      fill: #FFFFFF;\n",
       "    }\n",
       "  </style>\n",
       "\n",
       "      <script>\n",
       "        const buttonEl =\n",
       "          document.querySelector('#df-1e964c51-ee23-4ce2-b0a2-b2b0eaf9fd46 button.colab-df-convert');\n",
       "        buttonEl.style.display =\n",
       "          google.colab.kernel.accessAllowed ? 'block' : 'none';\n",
       "\n",
       "        async function convertToInteractive(key) {\n",
       "          const element = document.querySelector('#df-1e964c51-ee23-4ce2-b0a2-b2b0eaf9fd46');\n",
       "          const dataTable =\n",
       "            await google.colab.kernel.invokeFunction('convertToInteractive',\n",
       "                                                     [key], {});\n",
       "          if (!dataTable) return;\n",
       "\n",
       "          const docLinkHtml = 'Like what you see? Visit the ' +\n",
       "            '<a target=\"_blank\" href=https://colab.research.google.com/notebooks/data_table.ipynb>data table notebook</a>'\n",
       "            + ' to learn more about interactive tables.';\n",
       "          element.innerHTML = '';\n",
       "          dataTable['output_type'] = 'display_data';\n",
       "          await google.colab.output.renderOutput(dataTable, element);\n",
       "          const docLink = document.createElement('div');\n",
       "          docLink.innerHTML = docLinkHtml;\n",
       "          element.appendChild(docLink);\n",
       "        }\n",
       "      </script>\n",
       "    </div>\n",
       "  </div>\n",
       "  "
      ],
      "text/plain": [
       "                 Open       High        Low      Close  Adj Close   Volume\n",
       "Date                                                                      \n",
       "2019-01-02  67.510002  68.430000  67.120003  68.250000  58.394650  3930300\n",
       "2019-01-03  68.110001  68.110001  67.120003  67.300003  57.581837  5407700\n",
       "2019-01-04  68.000000  68.150002  67.669998  67.980003  58.163643  5103400\n",
       "2019-01-07  68.589996  68.589996  67.449997  67.690002  57.915512  5907000\n",
       "2019-01-08  68.000000  68.190002  67.330002  67.820000  58.026737  7337200"
      ]
     },
     "execution_count": 3,
     "metadata": {},
     "output_type": "execute_result"
    }
   ],
   "source": [
    "import yfinance as yf\n",
    "\n",
    "from pandas_datareader import data as pdr\n",
    "#El módulo pandas_datareader, importa datos en un DataFrame de pandas fácilmente digerible.\n",
    "\n",
    "yf.pdr_override() # arreglamos el data reader de Yahoo\n",
    "\n",
    "# Descargamos el Dataset, donde Los precios son del 01-01-2019 al 30-01-2019.\n",
    "df = pdr.get_data_yahoo(\"TD.TO\", start=\"2019-01-01\", end=\"2019-01-31\")\n",
    "df.head()"
   ]
  },
  {
   "cell_type": "code",
   "execution_count": null,
   "metadata": {
    "colab": {
     "base_uri": "https://localhost:8080/",
     "height": 739
    },
    "id": "fnO_XBJeVAL3",
    "outputId": "ccb8da7f-cbf1-4bd3-bab6-bbe958241872"
   },
   "outputs": [
    {
     "data": {
      "text/html": [
       "\n",
       "  <div id=\"df-789f2426-aa46-4570-877a-618eb4aace88\">\n",
       "    <div class=\"colab-df-container\">\n",
       "      <div>\n",
       "<style scoped>\n",
       "    .dataframe tbody tr th:only-of-type {\n",
       "        vertical-align: middle;\n",
       "    }\n",
       "\n",
       "    .dataframe tbody tr th {\n",
       "        vertical-align: top;\n",
       "    }\n",
       "\n",
       "    .dataframe thead th {\n",
       "        text-align: right;\n",
       "    }\n",
       "</style>\n",
       "<table border=\"1\" class=\"dataframe\">\n",
       "  <thead>\n",
       "    <tr style=\"text-align: right;\">\n",
       "      <th></th>\n",
       "      <th>Open</th>\n",
       "      <th>High</th>\n",
       "      <th>Low</th>\n",
       "      <th>Close</th>\n",
       "      <th>Adj Close</th>\n",
       "      <th>Volume</th>\n",
       "      <th>Date</th>\n",
       "    </tr>\n",
       "    <tr>\n",
       "      <th>Date</th>\n",
       "      <th></th>\n",
       "      <th></th>\n",
       "      <th></th>\n",
       "      <th></th>\n",
       "      <th></th>\n",
       "      <th></th>\n",
       "      <th></th>\n",
       "    </tr>\n",
       "  </thead>\n",
       "  <tbody>\n",
       "    <tr>\n",
       "      <th>2019-01-02</th>\n",
       "      <td>67.510002</td>\n",
       "      <td>68.430000</td>\n",
       "      <td>67.120003</td>\n",
       "      <td>68.250000</td>\n",
       "      <td>58.394650</td>\n",
       "      <td>3930300</td>\n",
       "      <td>2019-01-02</td>\n",
       "    </tr>\n",
       "    <tr>\n",
       "      <th>2019-01-03</th>\n",
       "      <td>68.110001</td>\n",
       "      <td>68.110001</td>\n",
       "      <td>67.120003</td>\n",
       "      <td>67.300003</td>\n",
       "      <td>57.581837</td>\n",
       "      <td>5407700</td>\n",
       "      <td>2019-01-03</td>\n",
       "    </tr>\n",
       "    <tr>\n",
       "      <th>2019-01-04</th>\n",
       "      <td>68.000000</td>\n",
       "      <td>68.150002</td>\n",
       "      <td>67.669998</td>\n",
       "      <td>67.980003</td>\n",
       "      <td>58.163643</td>\n",
       "      <td>5103400</td>\n",
       "      <td>2019-01-04</td>\n",
       "    </tr>\n",
       "    <tr>\n",
       "      <th>2019-01-07</th>\n",
       "      <td>68.589996</td>\n",
       "      <td>68.589996</td>\n",
       "      <td>67.449997</td>\n",
       "      <td>67.690002</td>\n",
       "      <td>57.915512</td>\n",
       "      <td>5907000</td>\n",
       "      <td>2019-01-07</td>\n",
       "    </tr>\n",
       "    <tr>\n",
       "      <th>2019-01-08</th>\n",
       "      <td>68.000000</td>\n",
       "      <td>68.190002</td>\n",
       "      <td>67.330002</td>\n",
       "      <td>67.820000</td>\n",
       "      <td>58.026737</td>\n",
       "      <td>7337200</td>\n",
       "      <td>2019-01-08</td>\n",
       "    </tr>\n",
       "    <tr>\n",
       "      <th>2019-01-09</th>\n",
       "      <td>67.500000</td>\n",
       "      <td>68.410004</td>\n",
       "      <td>67.379997</td>\n",
       "      <td>68.139999</td>\n",
       "      <td>58.882236</td>\n",
       "      <td>5124400</td>\n",
       "      <td>2019-01-09</td>\n",
       "    </tr>\n",
       "    <tr>\n",
       "      <th>2019-01-10</th>\n",
       "      <td>68.199997</td>\n",
       "      <td>68.870003</td>\n",
       "      <td>67.779999</td>\n",
       "      <td>68.800003</td>\n",
       "      <td>59.452564</td>\n",
       "      <td>3953000</td>\n",
       "      <td>2019-01-10</td>\n",
       "    </tr>\n",
       "    <tr>\n",
       "      <th>2019-01-11</th>\n",
       "      <td>68.839996</td>\n",
       "      <td>68.860001</td>\n",
       "      <td>68.330002</td>\n",
       "      <td>68.860001</td>\n",
       "      <td>59.504421</td>\n",
       "      <td>3519700</td>\n",
       "      <td>2019-01-11</td>\n",
       "    </tr>\n",
       "    <tr>\n",
       "      <th>2019-01-14</th>\n",
       "      <td>68.739998</td>\n",
       "      <td>69.050003</td>\n",
       "      <td>68.559998</td>\n",
       "      <td>68.650002</td>\n",
       "      <td>59.322956</td>\n",
       "      <td>3248300</td>\n",
       "      <td>2019-01-14</td>\n",
       "    </tr>\n",
       "    <tr>\n",
       "      <th>2019-01-15</th>\n",
       "      <td>68.550003</td>\n",
       "      <td>69.540001</td>\n",
       "      <td>68.419998</td>\n",
       "      <td>69.330002</td>\n",
       "      <td>59.910568</td>\n",
       "      <td>2665500</td>\n",
       "      <td>2019-01-15</td>\n",
       "    </tr>\n",
       "    <tr>\n",
       "      <th>2019-01-16</th>\n",
       "      <td>69.849998</td>\n",
       "      <td>70.900002</td>\n",
       "      <td>69.849998</td>\n",
       "      <td>70.629997</td>\n",
       "      <td>61.033920</td>\n",
       "      <td>4320500</td>\n",
       "      <td>2019-01-16</td>\n",
       "    </tr>\n",
       "    <tr>\n",
       "      <th>2019-01-17</th>\n",
       "      <td>70.419998</td>\n",
       "      <td>71.370003</td>\n",
       "      <td>70.330002</td>\n",
       "      <td>71.339996</td>\n",
       "      <td>61.647457</td>\n",
       "      <td>3382200</td>\n",
       "      <td>2019-01-17</td>\n",
       "    </tr>\n",
       "    <tr>\n",
       "      <th>2019-01-18</th>\n",
       "      <td>71.910004</td>\n",
       "      <td>72.580002</td>\n",
       "      <td>71.800003</td>\n",
       "      <td>72.339996</td>\n",
       "      <td>62.511604</td>\n",
       "      <td>4799300</td>\n",
       "      <td>2019-01-18</td>\n",
       "    </tr>\n",
       "    <tr>\n",
       "      <th>2019-01-21</th>\n",
       "      <td>72.580002</td>\n",
       "      <td>72.900002</td>\n",
       "      <td>72.089996</td>\n",
       "      <td>72.900002</td>\n",
       "      <td>62.995529</td>\n",
       "      <td>1476100</td>\n",
       "      <td>2019-01-21</td>\n",
       "    </tr>\n",
       "    <tr>\n",
       "      <th>2019-01-22</th>\n",
       "      <td>72.400002</td>\n",
       "      <td>72.559998</td>\n",
       "      <td>71.730003</td>\n",
       "      <td>72.410004</td>\n",
       "      <td>62.572098</td>\n",
       "      <td>4053600</td>\n",
       "      <td>2019-01-22</td>\n",
       "    </tr>\n",
       "    <tr>\n",
       "      <th>2019-01-23</th>\n",
       "      <td>72.449997</td>\n",
       "      <td>73.099998</td>\n",
       "      <td>72.150002</td>\n",
       "      <td>72.199997</td>\n",
       "      <td>62.390625</td>\n",
       "      <td>3067000</td>\n",
       "      <td>2019-01-23</td>\n",
       "    </tr>\n",
       "    <tr>\n",
       "      <th>2019-01-24</th>\n",
       "      <td>72.120003</td>\n",
       "      <td>72.790001</td>\n",
       "      <td>72.059998</td>\n",
       "      <td>72.660004</td>\n",
       "      <td>62.788147</td>\n",
       "      <td>2512400</td>\n",
       "      <td>2019-01-24</td>\n",
       "    </tr>\n",
       "    <tr>\n",
       "      <th>2019-01-25</th>\n",
       "      <td>73.000000</td>\n",
       "      <td>73.029999</td>\n",
       "      <td>72.529999</td>\n",
       "      <td>72.830002</td>\n",
       "      <td>62.935043</td>\n",
       "      <td>1908100</td>\n",
       "      <td>2019-01-25</td>\n",
       "    </tr>\n",
       "    <tr>\n",
       "      <th>2019-01-28</th>\n",
       "      <td>72.400002</td>\n",
       "      <td>73.180000</td>\n",
       "      <td>72.339996</td>\n",
       "      <td>73.169998</td>\n",
       "      <td>63.228844</td>\n",
       "      <td>1971000</td>\n",
       "      <td>2019-01-28</td>\n",
       "    </tr>\n",
       "    <tr>\n",
       "      <th>2019-01-29</th>\n",
       "      <td>73.379997</td>\n",
       "      <td>73.919998</td>\n",
       "      <td>73.120003</td>\n",
       "      <td>73.709999</td>\n",
       "      <td>63.695484</td>\n",
       "      <td>3106200</td>\n",
       "      <td>2019-01-29</td>\n",
       "    </tr>\n",
       "    <tr>\n",
       "      <th>2019-01-30</th>\n",
       "      <td>73.750000</td>\n",
       "      <td>73.940002</td>\n",
       "      <td>73.529999</td>\n",
       "      <td>73.730003</td>\n",
       "      <td>63.712761</td>\n",
       "      <td>3368400</td>\n",
       "      <td>2019-01-30</td>\n",
       "    </tr>\n",
       "  </tbody>\n",
       "</table>\n",
       "</div>\n",
       "      <button class=\"colab-df-convert\" onclick=\"convertToInteractive('df-789f2426-aa46-4570-877a-618eb4aace88')\"\n",
       "              title=\"Convert this dataframe to an interactive table.\"\n",
       "              style=\"display:none;\">\n",
       "        \n",
       "  <svg xmlns=\"http://www.w3.org/2000/svg\" height=\"24px\"viewBox=\"0 0 24 24\"\n",
       "       width=\"24px\">\n",
       "    <path d=\"M0 0h24v24H0V0z\" fill=\"none\"/>\n",
       "    <path d=\"M18.56 5.44l.94 2.06.94-2.06 2.06-.94-2.06-.94-.94-2.06-.94 2.06-2.06.94zm-11 1L8.5 8.5l.94-2.06 2.06-.94-2.06-.94L8.5 2.5l-.94 2.06-2.06.94zm10 10l.94 2.06.94-2.06 2.06-.94-2.06-.94-.94-2.06-.94 2.06-2.06.94z\"/><path d=\"M17.41 7.96l-1.37-1.37c-.4-.4-.92-.59-1.43-.59-.52 0-1.04.2-1.43.59L10.3 9.45l-7.72 7.72c-.78.78-.78 2.05 0 2.83L4 21.41c.39.39.9.59 1.41.59.51 0 1.02-.2 1.41-.59l7.78-7.78 2.81-2.81c.8-.78.8-2.07 0-2.86zM5.41 20L4 18.59l7.72-7.72 1.47 1.35L5.41 20z\"/>\n",
       "  </svg>\n",
       "      </button>\n",
       "      \n",
       "  <style>\n",
       "    .colab-df-container {\n",
       "      display:flex;\n",
       "      flex-wrap:wrap;\n",
       "      gap: 12px;\n",
       "    }\n",
       "\n",
       "    .colab-df-convert {\n",
       "      background-color: #E8F0FE;\n",
       "      border: none;\n",
       "      border-radius: 50%;\n",
       "      cursor: pointer;\n",
       "      display: none;\n",
       "      fill: #1967D2;\n",
       "      height: 32px;\n",
       "      padding: 0 0 0 0;\n",
       "      width: 32px;\n",
       "    }\n",
       "\n",
       "    .colab-df-convert:hover {\n",
       "      background-color: #E2EBFA;\n",
       "      box-shadow: 0px 1px 2px rgba(60, 64, 67, 0.3), 0px 1px 3px 1px rgba(60, 64, 67, 0.15);\n",
       "      fill: #174EA6;\n",
       "    }\n",
       "\n",
       "    [theme=dark] .colab-df-convert {\n",
       "      background-color: #3B4455;\n",
       "      fill: #D2E3FC;\n",
       "    }\n",
       "\n",
       "    [theme=dark] .colab-df-convert:hover {\n",
       "      background-color: #434B5C;\n",
       "      box-shadow: 0px 1px 3px 1px rgba(0, 0, 0, 0.15);\n",
       "      filter: drop-shadow(0px 1px 2px rgba(0, 0, 0, 0.3));\n",
       "      fill: #FFFFFF;\n",
       "    }\n",
       "  </style>\n",
       "\n",
       "      <script>\n",
       "        const buttonEl =\n",
       "          document.querySelector('#df-789f2426-aa46-4570-877a-618eb4aace88 button.colab-df-convert');\n",
       "        buttonEl.style.display =\n",
       "          google.colab.kernel.accessAllowed ? 'block' : 'none';\n",
       "\n",
       "        async function convertToInteractive(key) {\n",
       "          const element = document.querySelector('#df-789f2426-aa46-4570-877a-618eb4aace88');\n",
       "          const dataTable =\n",
       "            await google.colab.kernel.invokeFunction('convertToInteractive',\n",
       "                                                     [key], {});\n",
       "          if (!dataTable) return;\n",
       "\n",
       "          const docLinkHtml = 'Like what you see? Visit the ' +\n",
       "            '<a target=\"_blank\" href=https://colab.research.google.com/notebooks/data_table.ipynb>data table notebook</a>'\n",
       "            + ' to learn more about interactive tables.';\n",
       "          element.innerHTML = '';\n",
       "          dataTable['output_type'] = 'display_data';\n",
       "          await google.colab.output.renderOutput(dataTable, element);\n",
       "          const docLink = document.createElement('div');\n",
       "          docLink.innerHTML = docLinkHtml;\n",
       "          element.appendChild(docLink);\n",
       "        }\n",
       "      </script>\n",
       "    </div>\n",
       "  </div>\n",
       "  "
      ],
      "text/plain": [
       "                 Open       High        Low      Close  Adj Close   Volume  \\\n",
       "Date                                                                         \n",
       "2019-01-02  67.510002  68.430000  67.120003  68.250000  58.394650  3930300   \n",
       "2019-01-03  68.110001  68.110001  67.120003  67.300003  57.581837  5407700   \n",
       "2019-01-04  68.000000  68.150002  67.669998  67.980003  58.163643  5103400   \n",
       "2019-01-07  68.589996  68.589996  67.449997  67.690002  57.915512  5907000   \n",
       "2019-01-08  68.000000  68.190002  67.330002  67.820000  58.026737  7337200   \n",
       "2019-01-09  67.500000  68.410004  67.379997  68.139999  58.882236  5124400   \n",
       "2019-01-10  68.199997  68.870003  67.779999  68.800003  59.452564  3953000   \n",
       "2019-01-11  68.839996  68.860001  68.330002  68.860001  59.504421  3519700   \n",
       "2019-01-14  68.739998  69.050003  68.559998  68.650002  59.322956  3248300   \n",
       "2019-01-15  68.550003  69.540001  68.419998  69.330002  59.910568  2665500   \n",
       "2019-01-16  69.849998  70.900002  69.849998  70.629997  61.033920  4320500   \n",
       "2019-01-17  70.419998  71.370003  70.330002  71.339996  61.647457  3382200   \n",
       "2019-01-18  71.910004  72.580002  71.800003  72.339996  62.511604  4799300   \n",
       "2019-01-21  72.580002  72.900002  72.089996  72.900002  62.995529  1476100   \n",
       "2019-01-22  72.400002  72.559998  71.730003  72.410004  62.572098  4053600   \n",
       "2019-01-23  72.449997  73.099998  72.150002  72.199997  62.390625  3067000   \n",
       "2019-01-24  72.120003  72.790001  72.059998  72.660004  62.788147  2512400   \n",
       "2019-01-25  73.000000  73.029999  72.529999  72.830002  62.935043  1908100   \n",
       "2019-01-28  72.400002  73.180000  72.339996  73.169998  63.228844  1971000   \n",
       "2019-01-29  73.379997  73.919998  73.120003  73.709999  63.695484  3106200   \n",
       "2019-01-30  73.750000  73.940002  73.529999  73.730003  63.712761  3368400   \n",
       "\n",
       "                  Date  \n",
       "Date                    \n",
       "2019-01-02  2019-01-02  \n",
       "2019-01-03  2019-01-03  \n",
       "2019-01-04  2019-01-04  \n",
       "2019-01-07  2019-01-07  \n",
       "2019-01-08  2019-01-08  \n",
       "2019-01-09  2019-01-09  \n",
       "2019-01-10  2019-01-10  \n",
       "2019-01-11  2019-01-11  \n",
       "2019-01-14  2019-01-14  \n",
       "2019-01-15  2019-01-15  \n",
       "2019-01-16  2019-01-16  \n",
       "2019-01-17  2019-01-17  \n",
       "2019-01-18  2019-01-18  \n",
       "2019-01-21  2019-01-21  \n",
       "2019-01-22  2019-01-22  \n",
       "2019-01-23  2019-01-23  \n",
       "2019-01-24  2019-01-24  \n",
       "2019-01-25  2019-01-25  \n",
       "2019-01-28  2019-01-28  \n",
       "2019-01-29  2019-01-29  \n",
       "2019-01-30  2019-01-30  "
      ]
     },
     "execution_count": 4,
     "metadata": {},
     "output_type": "execute_result"
    }
   ],
   "source": [
    "# Creamos la variable Date que tendrá las fechas\n",
    "# que por defecto se muestran como indices \n",
    "# Extraemos los indices y lo convertimos en String con el metodo astype(str)\n",
    "df['Date'] =  df.index.astype(str)\n",
    "df"
   ]
  },
  {
   "cell_type": "code",
   "execution_count": null,
   "metadata": {
    "colab": {
     "base_uri": "https://localhost:8080/"
    },
    "id": "lGU6DIcKpW-5",
    "outputId": "4f5a332b-e13a-483c-95c4-16559884576b"
   },
   "outputs": [
    {
     "name": "stdout",
     "output_type": "stream",
     "text": [
      "<class 'pandas.core.frame.DataFrame'>\n",
      "DatetimeIndex: 21 entries, 2019-01-02 to 2019-01-30\n",
      "Data columns (total 7 columns):\n",
      " #   Column     Non-Null Count  Dtype  \n",
      "---  ------     --------------  -----  \n",
      " 0   Open       21 non-null     float64\n",
      " 1   High       21 non-null     float64\n",
      " 2   Low        21 non-null     float64\n",
      " 3   Close      21 non-null     float64\n",
      " 4   Adj Close  21 non-null     float64\n",
      " 5   Volume     21 non-null     int64  \n",
      " 6   Date       21 non-null     object \n",
      "dtypes: float64(5), int64(1), object(1)\n",
      "memory usage: 1.3+ KB\n"
     ]
    }
   ],
   "source": [
    "df.info()"
   ]
  },
  {
   "cell_type": "code",
   "execution_count": null,
   "metadata": {
    "colab": {
     "base_uri": "https://localhost:8080/"
    },
    "id": "wWNKmTyveha1",
    "outputId": "b4ec0a0a-e591-41fe-fcf8-1b8257ba4aaa"
   },
   "outputs": [
    {
     "name": "stdout",
     "output_type": "stream",
     "text": [
      "[2, 3, 4, 7, 8, 9, 10, 11, 14, 15, 16, 17, 18, 21, 22, 23, 24, 25, 28, 29, 30] [68.25, 67.30000305175781, 67.9800033569336, 67.69000244140625, 67.81999969482422, 68.13999938964844, 68.80000305175781, 68.86000061035156, 68.6500015258789, 69.33000183105469, 70.62999725341797, 71.33999633789062, 72.33999633789062, 72.9000015258789, 72.41000366210938, 72.19999694824219, 72.66000366210938, 72.83000183105469, 73.16999816894531, 73.70999908447266, 73.7300033569336]\n"
     ]
    }
   ],
   "source": [
    "# Con esta función obtenemos el día de la variable Date (string)\n",
    "def get_data(df):  \n",
    "    data = df.copy()\n",
    "    data['Date'] = data['Date'].str.split('-').str[2]\n",
    "    data['Date'] = pd.to_numeric(data['Date'])\n",
    "    return [ data['Date'].tolist(), data['Close'].tolist() ]\n",
    "\n",
    "dates, prices = get_data(df)\n",
    "\n",
    "print(dates, prices)\n"
   ]
  },
  {
   "cell_type": "markdown",
   "metadata": {
    "id": "PQTEDWOyK9Ic"
   },
   "source": [
    "## Creamos los tres modelos para realizar las Predicciones\n",
    "\n",
    "* lineal, \n",
    "* polinómico y \n",
    "* función básica radial (núcleo por defecto para SVR)\n",
    "\n"
   ]
  },
  {
   "cell_type": "markdown",
   "metadata": {
    "id": "tq0O0FlIP9Dv"
   },
   "source": [
    "Utilizaremos los datos de fecha y precios de cierre para predecir el Precio de Cierre de la próxima fecha de la accione de TD que es el 2019-01-31 "
   ]
  },
  {
   "cell_type": "code",
   "execution_count": 1,
   "metadata": {
    "id": "rW49r6p4Kbcl"
   },
   "outputs": [],
   "source": [
    "# Creamos una función que realizará la predicción y el trazado\n",
    "\n",
    "def predict_prices(dates, prices, x):\n",
    "    dates = np.reshape(dates,(len(dates), 1)) # convirtiendo en matriz de n X 1\n",
    "    x = np.reshape(x,(len(x), 1))\n",
    "    \n",
    "    # Definición de los modelos de Support Vector Regression (SVR)\n",
    "    svr_lin  = SVR(kernel='linear', C=1e3)\n",
    "    svr_poly = SVR(kernel='poly', C=1e3, degree=2)\n",
    "    svr_rbf = SVR(kernel='rbf', C=1e3, gamma=0.1)\n",
    "    \n",
    "    # Ajustar los parámetros de regresión lineal a los datos con fit()\n",
    "    svr_lin.fit(dates, prices)\n",
    "    svr_poly.fit(dates, prices)\n",
    "    svr_rbf.fit(dates, prices)\n",
    "    \n",
    "    # Trazar el diagrama de dispersión con scatter() para comparar los valores de dates vs prices\n",
    "    plt.scatter(dates, prices, c='k', label='Data')\n",
    "\n",
    "    # Trazando la línea hecha por el kernel RBF\n",
    "    plt.plot(dates, svr_lin.predict(dates), c='g', label='Linear model')\n",
    "\n",
    "    # Trazando la línea hecha por el kernel lineal \n",
    "    plt.plot(dates, svr_rbf.predict(dates), c='r', label='RBF model')  \n",
    "\n",
    "    # Trazando la línea hecha por el kernel Polinómico   \n",
    "    plt.plot(dates, svr_poly.predict(dates), c='b', label='Polynomial model')\n",
    "    \n",
    "    # Definimos el texto para las etiquetas\n",
    "    plt.xlabel('Date')\n",
    "    plt.ylabel('Price')\n",
    "    plt.title('Support Vector Regression')\n",
    "    plt.legend()\n",
    "    plt.show()\n",
    "    \n",
    "    return svr_rbf.predict(x)[0], svr_lin.predict(x)[0], svr_poly.predict(x)[0]"
   ]
  },
  {
   "cell_type": "markdown",
   "metadata": {
    "id": "DJmvxgAA7Z1r"
   },
   "source": [
    "## Obtenemos la predicción y trazamos los modelos predictivos"
   ]
  },
  {
   "cell_type": "code",
   "execution_count": null,
   "metadata": {
    "colab": {
     "base_uri": "https://localhost:8080/",
     "height": 295
    },
    "id": "u4XvjqudZuNu",
    "outputId": "45553cd1-fb98-41c5-c1af-549f299177dd"
   },
   "outputs": [
    {
     "data": {
      "image/png": "[encoded data removed]",
      "text/plain": [
       "<Figure size 432x288 with 1 Axes>"
      ]
     },
     "metadata": {
      "needs_background": "light"
     },
     "output_type": "display_data"
    }
   ],
   "source": [
    "predicted_price = predict_prices(dates, prices, [31])"
   ]
  },
  {
   "cell_type": "code",
   "execution_count": null,
   "metadata": {
    "colab": {
     "base_uri": "https://localhost:8080/"
    },
    "id": "yCiSyWBehawq",
    "outputId": "6d191f33-7546-43d1-bcb7-ebc74134f6ef"
   },
   "outputs": [
    {
     "data": {
      "text/plain": [
       "(73.18055746816138, 74.23818331643184, 75.30889069640483)"
      ]
     },
     "execution_count": 9,
     "metadata": {},
     "output_type": "execute_result"
    }
   ],
   "source": [
    "predicted_price"
   ]
  },
  {
   "cell_type": "markdown",
   "metadata": {
    "id": "t__3_77X8ERZ"
   },
   "source": [
    "Si queremos verificar los precios de cierre de las acciones de TD el 31 de enero de 2019"
   ]
  },
  {
   "cell_type": "code",
   "execution_count": null,
   "metadata": {
    "colab": {
     "base_uri": "https://localhost:8080/"
    },
    "id": "OVZ2VROcrNeW",
    "outputId": "1b8c7f7b-643e-4a45-93dd-a3c7f11a0aa1"
   },
   "outputs": [
    {
     "name": "stdout",
     "output_type": "stream",
     "text": [
      "\r",
      "[*********************100%***********************]  1 of 1 completed\n",
      "Date\n",
      "2019-01-31    74.0\n",
      "Name: Close, dtype: float64\n"
     ]
    }
   ],
   "source": [
    "price = pdr.get_data_yahoo(\"TD.TO\", start=\"2019-01-31\", end=\"2019-02-1\")\n",
    "print(price['Close'])"
   ]
  },
  {
   "cell_type": "code",
   "execution_count": null,
   "metadata": {
    "id": "ll6glXyf8zyo"
   },
   "outputs": [],
   "source": []
  }
 ],
 "metadata": {
  "colab": {
   "collapsed_sections": [],
   "name": "Eq_B_Caso _SVR 1.ipynb",
   "provenance": []
  },
  "kernelspec": {
   "display_name": "Python 3 (ipykernel)",
   "language": "python",
   "name": "python3"
  },
  "language_info": {
   "codemirror_mode": {
    "name": "ipython",
    "version": 3
   },
   "file_extension": ".py",
   "mimetype": "text/x-python",
   "name": "python",
   "nbconvert_exporter": "python",
   "pygments_lexer": "ipython3",
   "version": "3.9.12"
  }
 },
 "nbformat": 4,
 "nbformat_minor": 1
}
