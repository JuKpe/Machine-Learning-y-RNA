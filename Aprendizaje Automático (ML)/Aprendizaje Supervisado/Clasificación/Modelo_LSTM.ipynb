{
 "cells": [
  {
   "cell_type": "markdown",
   "id": "HSxzRnq2lpq5",
   "metadata": {
    "id": "HSxzRnq2lpq5"
   },
   "source": [
    "## neuronal recurrente-LSTM"
   ]
  },
  {
   "cell_type": "markdown",
   "id": "afPvDD3IsnyI",
   "metadata": {
    "id": "afPvDD3IsnyI"
   },
   "source": [
    "El aprendizaje profundo está muy implicado en el campo financiero cuantitativo moderno. Hay muchas redes neuronales diferentes que pueden aplicarse a los problemas de predicción del precio de las acciones. La red neuronal recurrente, para ser específicos, la red de memoria a largo plazo (LSTM) supera a otras arquitecturas ya que puede aprovechar la predicción de series de tiempo (o secuencialmente).  \n",
    "\n",
    "Haremos una LSTM muy simple con Keras para predecir el precio de las acciones "
   ]
  },
  {
   "cell_type": "code",
   "execution_count": 1,
   "id": "54898b07",
   "metadata": {
    "id": "54898b07"
   },
   "outputs": [],
   "source": [
    "import numpy as np\n",
    "np.random.seed(4)\n",
    "import matplotlib.pyplot as plt\n",
    "import pandas as pd\n",
    "from matplotlib import style\n",
    "import warnings\n",
    "\n",
    "from sklearn.preprocessing import MinMaxScaler\n",
    "from keras.models import Sequential\n",
    "from keras.layers import Dense, LSTM\n",
    "\n",
    "warnings.filterwarnings(\"ignore\")\n",
    "style.use('ggplot')\n",
    "pd.set_option('display.max_columns', None)\n",
    "pd.set_option('display.float_format', lambda x: '%.3f' % x)"
   ]
  },
  {
   "cell_type": "markdown",
   "id": "kCYz5lK8l9xN",
   "metadata": {
    "id": "kCYz5lK8l9xN"
   },
   "source": [
    "**Instalamos yfinance**"
   ]
  },
  {
   "cell_type": "code",
   "execution_count": 2,
   "id": "CZ1hZImiCiFa",
   "metadata": {
    "colab": {
     "base_uri": "https://localhost:8080/",
     "height": 502
    },
    "id": "CZ1hZImiCiFa",
    "outputId": "02c5d312-1529-4d26-f48c-0a7363489e92"
   },
   "outputs": [
    {
     "name": "stdout",
     "output_type": "stream",
     "text": [
      "Looking in indexes: https://pypi.org/simple, https://us-python.pkg.dev/colab-wheels/public/simple/\n",
      "Collecting yfinance\n",
      "  Downloading yfinance-0.1.74-py2.py3-none-any.whl (27 kB)\n",
      "Requirement already satisfied: pandas>=0.24.0 in /usr/local/lib/python3.7/dist-packages (from yfinance) (1.3.5)\n",
      "Collecting requests>=2.26\n",
      "  Downloading requests-2.28.1-py3-none-any.whl (62 kB)\n",
      "\u001b[K     |████████████████████████████████| 62 kB 1.7 MB/s \n",
      "\u001b[?25hRequirement already satisfied: multitasking>=0.0.7 in /usr/local/lib/python3.7/dist-packages (from yfinance) (0.0.11)\n",
      "Requirement already satisfied: lxml>=4.5.1 in /usr/local/lib/python3.7/dist-packages (from yfinance) (4.9.1)\n",
      "Requirement already satisfied: numpy>=1.15 in /usr/local/lib/python3.7/dist-packages (from yfinance) (1.21.6)\n",
      "Requirement already satisfied: python-dateutil>=2.7.3 in /usr/local/lib/python3.7/dist-packages (from pandas>=0.24.0->yfinance) (2.8.2)\n",
      "Requirement already satisfied: pytz>=2017.3 in /usr/local/lib/python3.7/dist-packages (from pandas>=0.24.0->yfinance) (2022.1)\n",
      "Requirement already satisfied: six>=1.5 in /usr/local/lib/python3.7/dist-packages (from python-dateutil>=2.7.3->pandas>=0.24.0->yfinance) (1.15.0)\n",
      "Requirement already satisfied: charset-normalizer<3,>=2 in /usr/local/lib/python3.7/dist-packages (from requests>=2.26->yfinance) (2.1.0)\n",
      "Requirement already satisfied: idna<4,>=2.5 in /usr/local/lib/python3.7/dist-packages (from requests>=2.26->yfinance) (2.10)\n",
      "Requirement already satisfied: certifi>=2017.4.17 in /usr/local/lib/python3.7/dist-packages (from requests>=2.26->yfinance) (2022.6.15)\n",
      "Requirement already satisfied: urllib3<1.27,>=1.21.1 in /usr/local/lib/python3.7/dist-packages (from requests>=2.26->yfinance) (1.24.3)\n",
      "Installing collected packages: requests, yfinance\n",
      "  Attempting uninstall: requests\n",
      "    Found existing installation: requests 2.23.0\n",
      "    Uninstalling requests-2.23.0:\n",
      "      Successfully uninstalled requests-2.23.0\n",
      "Successfully installed requests-2.28.1 yfinance-0.1.74\n"
     ]
    },
    {
     "data": {
      "application/vnd.colab-display-data+json": {
       "pip_warning": {
        "packages": [
         "requests"
        ]
       }
      }
     },
     "metadata": {},
     "output_type": "display_data"
    }
   ],
   "source": [
    "!pip install yfinance"
   ]
  },
  {
   "cell_type": "markdown",
   "id": "nlddtrWSl0oR",
   "metadata": {
    "id": "nlddtrWSl0oR"
   },
   "source": [
    "**Usamos una función para graficar**"
   ]
  },
  {
   "cell_type": "code",
   "execution_count": 3,
   "id": "d7dc19a5",
   "metadata": {
    "id": "d7dc19a5"
   },
   "outputs": [],
   "source": [
    "# Funciones auxiliares\n",
    "\n",
    "def graficar_predicciones(real, prediccion):\n",
    "    plt.plot(real[0:len(prediccion)],color='red', label='Valor real de la acción')\n",
    "    plt.plot(prediccion, color='blue', label='Predicción de la acción')\n",
    "    plt.ylim(1.1 * np.min(prediccion)/2, 1.1 * np.max(prediccion))\n",
    "    plt.xlabel('Tiempo')\n",
    "    plt.ylabel('Valor de la acción')\n",
    "    plt.legend()\n",
    "    plt.show()\n"
   ]
  },
  {
   "cell_type": "markdown",
   "id": "YUuMKEzAmKXg",
   "metadata": {
    "id": "YUuMKEzAmKXg"
   },
   "source": [
    "**Cargamos los Datos**"
   ]
  },
  {
   "cell_type": "code",
   "execution_count": 4,
   "id": "ny0PkhzpGQzQ",
   "metadata": {
    "colab": {
     "base_uri": "https://localhost:8080/",
     "height": 455
    },
    "id": "ny0PkhzpGQzQ",
    "outputId": "700de769-93d8-4384-f6fd-af904a18bd05"
   },
   "outputs": [
    {
     "data": {
      "text/html": [
       "\n",
       "  <div id=\"df-30e1b347-31b2-4af9-bb74-acc9061ce7be\">\n",
       "    <div class=\"colab-df-container\">\n",
       "      <div>\n",
       "<style scoped>\n",
       "    .dataframe tbody tr th:only-of-type {\n",
       "        vertical-align: middle;\n",
       "    }\n",
       "\n",
       "    .dataframe tbody tr th {\n",
       "        vertical-align: top;\n",
       "    }\n",
       "\n",
       "    .dataframe thead th {\n",
       "        text-align: right;\n",
       "    }\n",
       "</style>\n",
       "<table border=\"1\" class=\"dataframe\">\n",
       "  <thead>\n",
       "    <tr style=\"text-align: right;\">\n",
       "      <th></th>\n",
       "      <th>Open</th>\n",
       "      <th>High</th>\n",
       "      <th>Low</th>\n",
       "      <th>Close</th>\n",
       "      <th>Volume</th>\n",
       "      <th>Dividends</th>\n",
       "      <th>Stock Splits</th>\n",
       "    </tr>\n",
       "    <tr>\n",
       "      <th>Date</th>\n",
       "      <th></th>\n",
       "      <th></th>\n",
       "      <th></th>\n",
       "      <th></th>\n",
       "      <th></th>\n",
       "      <th></th>\n",
       "      <th></th>\n",
       "    </tr>\n",
       "  </thead>\n",
       "  <tbody>\n",
       "    <tr>\n",
       "      <th>1986-03-13</th>\n",
       "      <td>0.056</td>\n",
       "      <td>0.064</td>\n",
       "      <td>0.056</td>\n",
       "      <td>0.061</td>\n",
       "      <td>1031788800</td>\n",
       "      <td>0.000</td>\n",
       "      <td>0.000</td>\n",
       "    </tr>\n",
       "    <tr>\n",
       "      <th>1986-03-14</th>\n",
       "      <td>0.061</td>\n",
       "      <td>0.064</td>\n",
       "      <td>0.061</td>\n",
       "      <td>0.063</td>\n",
       "      <td>308160000</td>\n",
       "      <td>0.000</td>\n",
       "      <td>0.000</td>\n",
       "    </tr>\n",
       "    <tr>\n",
       "      <th>1986-03-17</th>\n",
       "      <td>0.063</td>\n",
       "      <td>0.065</td>\n",
       "      <td>0.063</td>\n",
       "      <td>0.064</td>\n",
       "      <td>133171200</td>\n",
       "      <td>0.000</td>\n",
       "      <td>0.000</td>\n",
       "    </tr>\n",
       "    <tr>\n",
       "      <th>1986-03-18</th>\n",
       "      <td>0.064</td>\n",
       "      <td>0.065</td>\n",
       "      <td>0.062</td>\n",
       "      <td>0.063</td>\n",
       "      <td>67766400</td>\n",
       "      <td>0.000</td>\n",
       "      <td>0.000</td>\n",
       "    </tr>\n",
       "    <tr>\n",
       "      <th>1986-03-19</th>\n",
       "      <td>0.063</td>\n",
       "      <td>0.063</td>\n",
       "      <td>0.061</td>\n",
       "      <td>0.062</td>\n",
       "      <td>47894400</td>\n",
       "      <td>0.000</td>\n",
       "      <td>0.000</td>\n",
       "    </tr>\n",
       "    <tr>\n",
       "      <th>...</th>\n",
       "      <td>...</td>\n",
       "      <td>...</td>\n",
       "      <td>...</td>\n",
       "      <td>...</td>\n",
       "      <td>...</td>\n",
       "      <td>...</td>\n",
       "      <td>...</td>\n",
       "    </tr>\n",
       "    <tr>\n",
       "      <th>2022-08-10</th>\n",
       "      <td>288.170</td>\n",
       "      <td>289.810</td>\n",
       "      <td>286.940</td>\n",
       "      <td>289.160</td>\n",
       "      <td>24687800</td>\n",
       "      <td>0.000</td>\n",
       "      <td>0.000</td>\n",
       "    </tr>\n",
       "    <tr>\n",
       "      <th>2022-08-11</th>\n",
       "      <td>290.850</td>\n",
       "      <td>291.210</td>\n",
       "      <td>286.510</td>\n",
       "      <td>287.020</td>\n",
       "      <td>20065900</td>\n",
       "      <td>0.000</td>\n",
       "      <td>0.000</td>\n",
       "    </tr>\n",
       "    <tr>\n",
       "      <th>2022-08-12</th>\n",
       "      <td>288.480</td>\n",
       "      <td>291.910</td>\n",
       "      <td>286.940</td>\n",
       "      <td>291.910</td>\n",
       "      <td>22601900</td>\n",
       "      <td>0.000</td>\n",
       "      <td>0.000</td>\n",
       "    </tr>\n",
       "    <tr>\n",
       "      <th>2022-08-15</th>\n",
       "      <td>291.000</td>\n",
       "      <td>294.180</td>\n",
       "      <td>290.110</td>\n",
       "      <td>293.470</td>\n",
       "      <td>18072100</td>\n",
       "      <td>0.000</td>\n",
       "      <td>0.000</td>\n",
       "    </tr>\n",
       "    <tr>\n",
       "      <th>2022-08-16</th>\n",
       "      <td>291.990</td>\n",
       "      <td>293.490</td>\n",
       "      <td>290.420</td>\n",
       "      <td>292.770</td>\n",
       "      <td>8549307</td>\n",
       "      <td>0.000</td>\n",
       "      <td>0.000</td>\n",
       "    </tr>\n",
       "  </tbody>\n",
       "</table>\n",
       "<p>9182 rows × 7 columns</p>\n",
       "</div>\n",
       "      <button class=\"colab-df-convert\" onclick=\"convertToInteractive('df-30e1b347-31b2-4af9-bb74-acc9061ce7be')\"\n",
       "              title=\"Convert this dataframe to an interactive table.\"\n",
       "              style=\"display:none;\">\n",
       "        \n",
       "  <svg xmlns=\"http://www.w3.org/2000/svg\" height=\"24px\"viewBox=\"0 0 24 24\"\n",
       "       width=\"24px\">\n",
       "    <path d=\"M0 0h24v24H0V0z\" fill=\"none\"/>\n",
       "    <path d=\"M18.56 5.44l.94 2.06.94-2.06 2.06-.94-2.06-.94-.94-2.06-.94 2.06-2.06.94zm-11 1L8.5 8.5l.94-2.06 2.06-.94-2.06-.94L8.5 2.5l-.94 2.06-2.06.94zm10 10l.94 2.06.94-2.06 2.06-.94-2.06-.94-.94-2.06-.94 2.06-2.06.94z\"/><path d=\"M17.41 7.96l-1.37-1.37c-.4-.4-.92-.59-1.43-.59-.52 0-1.04.2-1.43.59L10.3 9.45l-7.72 7.72c-.78.78-.78 2.05 0 2.83L4 21.41c.39.39.9.59 1.41.59.51 0 1.02-.2 1.41-.59l7.78-7.78 2.81-2.81c.8-.78.8-2.07 0-2.86zM5.41 20L4 18.59l7.72-7.72 1.47 1.35L5.41 20z\"/>\n",
       "  </svg>\n",
       "      </button>\n",
       "      \n",
       "  <style>\n",
       "    .colab-df-container {\n",
       "      display:flex;\n",
       "      flex-wrap:wrap;\n",
       "      gap: 12px;\n",
       "    }\n",
       "\n",
       "    .colab-df-convert {\n",
       "      background-color: #E8F0FE;\n",
       "      border: none;\n",
       "      border-radius: 50%;\n",
       "      cursor: pointer;\n",
       "      display: none;\n",
       "      fill: #1967D2;\n",
       "      height: 32px;\n",
       "      padding: 0 0 0 0;\n",
       "      width: 32px;\n",
       "    }\n",
       "\n",
       "    .colab-df-convert:hover {\n",
       "      background-color: #E2EBFA;\n",
       "      box-shadow: 0px 1px 2px rgba(60, 64, 67, 0.3), 0px 1px 3px 1px rgba(60, 64, 67, 0.15);\n",
       "      fill: #174EA6;\n",
       "    }\n",
       "\n",
       "    [theme=dark] .colab-df-convert {\n",
       "      background-color: #3B4455;\n",
       "      fill: #D2E3FC;\n",
       "    }\n",
       "\n",
       "    [theme=dark] .colab-df-convert:hover {\n",
       "      background-color: #434B5C;\n",
       "      box-shadow: 0px 1px 3px 1px rgba(0, 0, 0, 0.15);\n",
       "      filter: drop-shadow(0px 1px 2px rgba(0, 0, 0, 0.3));\n",
       "      fill: #FFFFFF;\n",
       "    }\n",
       "  </style>\n",
       "\n",
       "      <script>\n",
       "        const buttonEl =\n",
       "          document.querySelector('#df-30e1b347-31b2-4af9-bb74-acc9061ce7be button.colab-df-convert');\n",
       "        buttonEl.style.display =\n",
       "          google.colab.kernel.accessAllowed ? 'block' : 'none';\n",
       "\n",
       "        async function convertToInteractive(key) {\n",
       "          const element = document.querySelector('#df-30e1b347-31b2-4af9-bb74-acc9061ce7be');\n",
       "          const dataTable =\n",
       "            await google.colab.kernel.invokeFunction('convertToInteractive',\n",
       "                                                     [key], {});\n",
       "          if (!dataTable) return;\n",
       "\n",
       "          const docLinkHtml = 'Like what you see? Visit the ' +\n",
       "            '<a target=\"_blank\" href=https://colab.research.google.com/notebooks/data_table.ipynb>data table notebook</a>'\n",
       "            + ' to learn more about interactive tables.';\n",
       "          element.innerHTML = '';\n",
       "          dataTable['output_type'] = 'display_data';\n",
       "          await google.colab.output.renderOutput(dataTable, element);\n",
       "          const docLink = document.createElement('div');\n",
       "          docLink.innerHTML = docLinkHtml;\n",
       "          element.appendChild(docLink);\n",
       "        }\n",
       "      </script>\n",
       "    </div>\n",
       "  </div>\n",
       "  "
      ],
      "text/plain": [
       "              Open    High     Low   Close      Volume  Dividends  \\\n",
       "Date                                                                \n",
       "1986-03-13   0.056   0.064   0.056   0.061  1031788800      0.000   \n",
       "1986-03-14   0.061   0.064   0.061   0.063   308160000      0.000   \n",
       "1986-03-17   0.063   0.065   0.063   0.064   133171200      0.000   \n",
       "1986-03-18   0.064   0.065   0.062   0.063    67766400      0.000   \n",
       "1986-03-19   0.063   0.063   0.061   0.062    47894400      0.000   \n",
       "...            ...     ...     ...     ...         ...        ...   \n",
       "2022-08-10 288.170 289.810 286.940 289.160    24687800      0.000   \n",
       "2022-08-11 290.850 291.210 286.510 287.020    20065900      0.000   \n",
       "2022-08-12 288.480 291.910 286.940 291.910    22601900      0.000   \n",
       "2022-08-15 291.000 294.180 290.110 293.470    18072100      0.000   \n",
       "2022-08-16 291.990 293.490 290.420 292.770     8549307      0.000   \n",
       "\n",
       "            Stock Splits  \n",
       "Date                      \n",
       "1986-03-13         0.000  \n",
       "1986-03-14         0.000  \n",
       "1986-03-17         0.000  \n",
       "1986-03-18         0.000  \n",
       "1986-03-19         0.000  \n",
       "...                  ...  \n",
       "2022-08-10         0.000  \n",
       "2022-08-11         0.000  \n",
       "2022-08-12         0.000  \n",
       "2022-08-15         0.000  \n",
       "2022-08-16         0.000  \n",
       "\n",
       "[9182 rows x 7 columns]"
      ]
     },
     "execution_count": 4,
     "metadata": {},
     "output_type": "execute_result"
    }
   ],
   "source": [
    "import yfinance as yf\n",
    "\n",
    "brk = yf.Ticker('MSFT') \n",
    "\n",
    "dataset = brk.history(period=\"max\", auto_adjust=True)\n",
    "\n",
    "dataset"
   ]
  },
  {
   "cell_type": "code",
   "execution_count": 5,
   "id": "hqFwGxkB3M_P",
   "metadata": {
    "colab": {
     "base_uri": "https://localhost:8080/",
     "height": 300
    },
    "id": "hqFwGxkB3M_P",
    "outputId": "bee73d68-6a55-4cde-b91c-b9dca09f24b4"
   },
   "outputs": [
    {
     "data": {
      "text/html": [
       "\n",
       "  <div id=\"df-99643ec2-5975-4199-a562-e0658af06fca\">\n",
       "    <div class=\"colab-df-container\">\n",
       "      <div>\n",
       "<style scoped>\n",
       "    .dataframe tbody tr th:only-of-type {\n",
       "        vertical-align: middle;\n",
       "    }\n",
       "\n",
       "    .dataframe tbody tr th {\n",
       "        vertical-align: top;\n",
       "    }\n",
       "\n",
       "    .dataframe thead th {\n",
       "        text-align: right;\n",
       "    }\n",
       "</style>\n",
       "<table border=\"1\" class=\"dataframe\">\n",
       "  <thead>\n",
       "    <tr style=\"text-align: right;\">\n",
       "      <th></th>\n",
       "      <th>Open</th>\n",
       "      <th>High</th>\n",
       "      <th>Low</th>\n",
       "      <th>Close</th>\n",
       "      <th>Volume</th>\n",
       "      <th>Dividends</th>\n",
       "      <th>Stock Splits</th>\n",
       "    </tr>\n",
       "  </thead>\n",
       "  <tbody>\n",
       "    <tr>\n",
       "      <th>count</th>\n",
       "      <td>9182.000</td>\n",
       "      <td>9182.000</td>\n",
       "      <td>9182.000</td>\n",
       "      <td>9182.000</td>\n",
       "      <td>9182.000</td>\n",
       "      <td>9182.000</td>\n",
       "      <td>9182.000</td>\n",
       "    </tr>\n",
       "    <tr>\n",
       "      <th>mean</th>\n",
       "      <td>38.701</td>\n",
       "      <td>39.106</td>\n",
       "      <td>38.282</td>\n",
       "      <td>38.711</td>\n",
       "      <td>58433986.148</td>\n",
       "      <td>0.003</td>\n",
       "      <td>0.002</td>\n",
       "    </tr>\n",
       "    <tr>\n",
       "      <th>std</th>\n",
       "      <td>64.356</td>\n",
       "      <td>65.008</td>\n",
       "      <td>63.657</td>\n",
       "      <td>64.373</td>\n",
       "      <td>38374894.191</td>\n",
       "      <td>0.043</td>\n",
       "      <td>0.059</td>\n",
       "    </tr>\n",
       "    <tr>\n",
       "      <th>min</th>\n",
       "      <td>0.056</td>\n",
       "      <td>0.058</td>\n",
       "      <td>0.056</td>\n",
       "      <td>0.057</td>\n",
       "      <td>2304000.000</td>\n",
       "      <td>0.000</td>\n",
       "      <td>0.000</td>\n",
       "    </tr>\n",
       "    <tr>\n",
       "      <th>25%</th>\n",
       "      <td>2.859</td>\n",
       "      <td>2.903</td>\n",
       "      <td>2.836</td>\n",
       "      <td>2.860</td>\n",
       "      <td>34279075.000</td>\n",
       "      <td>0.000</td>\n",
       "      <td>0.000</td>\n",
       "    </tr>\n",
       "    <tr>\n",
       "      <th>50%</th>\n",
       "      <td>19.014</td>\n",
       "      <td>19.209</td>\n",
       "      <td>18.844</td>\n",
       "      <td>19.003</td>\n",
       "      <td>51756750.000</td>\n",
       "      <td>0.000</td>\n",
       "      <td>0.000</td>\n",
       "    </tr>\n",
       "    <tr>\n",
       "      <th>75%</th>\n",
       "      <td>29.935</td>\n",
       "      <td>30.327</td>\n",
       "      <td>29.495</td>\n",
       "      <td>29.952</td>\n",
       "      <td>72227200.000</td>\n",
       "      <td>0.000</td>\n",
       "      <td>0.000</td>\n",
       "    </tr>\n",
       "    <tr>\n",
       "      <th>max</th>\n",
       "      <td>343.110</td>\n",
       "      <td>348.138</td>\n",
       "      <td>340.700</td>\n",
       "      <td>341.606</td>\n",
       "      <td>1031788800.000</td>\n",
       "      <td>3.080</td>\n",
       "      <td>2.000</td>\n",
       "    </tr>\n",
       "  </tbody>\n",
       "</table>\n",
       "</div>\n",
       "      <button class=\"colab-df-convert\" onclick=\"convertToInteractive('df-99643ec2-5975-4199-a562-e0658af06fca')\"\n",
       "              title=\"Convert this dataframe to an interactive table.\"\n",
       "              style=\"display:none;\">\n",
       "        \n",
       "  <svg xmlns=\"http://www.w3.org/2000/svg\" height=\"24px\"viewBox=\"0 0 24 24\"\n",
       "       width=\"24px\">\n",
       "    <path d=\"M0 0h24v24H0V0z\" fill=\"none\"/>\n",
       "    <path d=\"M18.56 5.44l.94 2.06.94-2.06 2.06-.94-2.06-.94-.94-2.06-.94 2.06-2.06.94zm-11 1L8.5 8.5l.94-2.06 2.06-.94-2.06-.94L8.5 2.5l-.94 2.06-2.06.94zm10 10l.94 2.06.94-2.06 2.06-.94-2.06-.94-.94-2.06-.94 2.06-2.06.94z\"/><path d=\"M17.41 7.96l-1.37-1.37c-.4-.4-.92-.59-1.43-.59-.52 0-1.04.2-1.43.59L10.3 9.45l-7.72 7.72c-.78.78-.78 2.05 0 2.83L4 21.41c.39.39.9.59 1.41.59.51 0 1.02-.2 1.41-.59l7.78-7.78 2.81-2.81c.8-.78.8-2.07 0-2.86zM5.41 20L4 18.59l7.72-7.72 1.47 1.35L5.41 20z\"/>\n",
       "  </svg>\n",
       "      </button>\n",
       "      \n",
       "  <style>\n",
       "    .colab-df-container {\n",
       "      display:flex;\n",
       "      flex-wrap:wrap;\n",
       "      gap: 12px;\n",
       "    }\n",
       "\n",
       "    .colab-df-convert {\n",
       "      background-color: #E8F0FE;\n",
       "      border: none;\n",
       "      border-radius: 50%;\n",
       "      cursor: pointer;\n",
       "      display: none;\n",
       "      fill: #1967D2;\n",
       "      height: 32px;\n",
       "      padding: 0 0 0 0;\n",
       "      width: 32px;\n",
       "    }\n",
       "\n",
       "    .colab-df-convert:hover {\n",
       "      background-color: #E2EBFA;\n",
       "      box-shadow: 0px 1px 2px rgba(60, 64, 67, 0.3), 0px 1px 3px 1px rgba(60, 64, 67, 0.15);\n",
       "      fill: #174EA6;\n",
       "    }\n",
       "\n",
       "    [theme=dark] .colab-df-convert {\n",
       "      background-color: #3B4455;\n",
       "      fill: #D2E3FC;\n",
       "    }\n",
       "\n",
       "    [theme=dark] .colab-df-convert:hover {\n",
       "      background-color: #434B5C;\n",
       "      box-shadow: 0px 1px 3px 1px rgba(0, 0, 0, 0.15);\n",
       "      filter: drop-shadow(0px 1px 2px rgba(0, 0, 0, 0.3));\n",
       "      fill: #FFFFFF;\n",
       "    }\n",
       "  </style>\n",
       "\n",
       "      <script>\n",
       "        const buttonEl =\n",
       "          document.querySelector('#df-99643ec2-5975-4199-a562-e0658af06fca button.colab-df-convert');\n",
       "        buttonEl.style.display =\n",
       "          google.colab.kernel.accessAllowed ? 'block' : 'none';\n",
       "\n",
       "        async function convertToInteractive(key) {\n",
       "          const element = document.querySelector('#df-99643ec2-5975-4199-a562-e0658af06fca');\n",
       "          const dataTable =\n",
       "            await google.colab.kernel.invokeFunction('convertToInteractive',\n",
       "                                                     [key], {});\n",
       "          if (!dataTable) return;\n",
       "\n",
       "          const docLinkHtml = 'Like what you see? Visit the ' +\n",
       "            '<a target=\"_blank\" href=https://colab.research.google.com/notebooks/data_table.ipynb>data table notebook</a>'\n",
       "            + ' to learn more about interactive tables.';\n",
       "          element.innerHTML = '';\n",
       "          dataTable['output_type'] = 'display_data';\n",
       "          await google.colab.output.renderOutput(dataTable, element);\n",
       "          const docLink = document.createElement('div');\n",
       "          docLink.innerHTML = docLinkHtml;\n",
       "          element.appendChild(docLink);\n",
       "        }\n",
       "      </script>\n",
       "    </div>\n",
       "  </div>\n",
       "  "
      ],
      "text/plain": [
       "          Open     High      Low    Close         Volume  Dividends  \\\n",
       "count 9182.000 9182.000 9182.000 9182.000       9182.000   9182.000   \n",
       "mean    38.701   39.106   38.282   38.711   58433986.148      0.003   \n",
       "std     64.356   65.008   63.657   64.373   38374894.191      0.043   \n",
       "min      0.056    0.058    0.056    0.057    2304000.000      0.000   \n",
       "25%      2.859    2.903    2.836    2.860   34279075.000      0.000   \n",
       "50%     19.014   19.209   18.844   19.003   51756750.000      0.000   \n",
       "75%     29.935   30.327   29.495   29.952   72227200.000      0.000   \n",
       "max    343.110  348.138  340.700  341.606 1031788800.000      3.080   \n",
       "\n",
       "       Stock Splits  \n",
       "count      9182.000  \n",
       "mean          0.002  \n",
       "std           0.059  \n",
       "min           0.000  \n",
       "25%           0.000  \n",
       "50%           0.000  \n",
       "75%           0.000  \n",
       "max           2.000  "
      ]
     },
     "execution_count": 5,
     "metadata": {},
     "output_type": "execute_result"
    }
   ],
   "source": [
    "dataset.describe()"
   ]
  },
  {
   "cell_type": "markdown",
   "id": "HTxP7rRzmYJQ",
   "metadata": {
    "id": "HTxP7rRzmYJQ"
   },
   "source": [
    "**Dividimos los datos en train y test**"
   ]
  },
  {
   "cell_type": "code",
   "execution_count": 6,
   "id": "cc90db18",
   "metadata": {
    "colab": {
     "base_uri": "https://localhost:8080/",
     "height": 272
    },
    "id": "cc90db18",
    "outputId": "66ce3a33-0539-48c2-bc0c-96515f172843"
   },
   "outputs": [
    {
     "data": {
      "image/png": "[encoded data removed]",
      "text/plain": [
       "<Figure size 432x288 with 1 Axes>"
      ]
     },
     "metadata": {},
     "output_type": "display_data"
    }
   ],
   "source": [
    "# Sets de entrenamiento y validación (test) \n",
    "# La LSTM se entrenará con datos de 2019 hacia atrás. La validación se hará con datos de 2020 en adelante.\n",
    "# En ambos casos sólo se usará el valor más Alto de la acción para cada día\n",
    "#\n",
    "set_entrenamiento = dataset[:'2019'].iloc[:,1:2]\n",
    "set_validacion = dataset['2020':].iloc[:,1:2]\n",
    "\n",
    "set_entrenamiento['High'].plot(legend=True)\n",
    "set_validacion['High'].plot(legend=True)\n",
    "plt.legend(['Entrenamiento ( -2019)', 'Validación (2020- )'])\n",
    "plt.show()"
   ]
  },
  {
   "cell_type": "markdown",
   "id": "7bHfSqPSrxW_",
   "metadata": {
    "id": "7bHfSqPSrxW_"
   },
   "source": [
    "**Normalización del set de entrenamiento**"
   ]
  },
  {
   "cell_type": "code",
   "execution_count": 7,
   "id": "b31ed37f",
   "metadata": {
    "id": "b31ed37f"
   },
   "outputs": [],
   "source": [
    "# Normalización del set de entrenamiento\n",
    "sc = MinMaxScaler(feature_range=(0,1))\n",
    "set_entrenamiento_escalado = sc.fit_transform(set_entrenamiento)"
   ]
  },
  {
   "cell_type": "code",
   "execution_count": 8,
   "id": "f28b422d",
   "metadata": {
    "id": "f28b422d"
   },
   "outputs": [],
   "source": [
    "# La red LSTM tendrá como entrada \"time_step\" datos consecutivos, y como salida un dato (la predicción a\n",
    "# partir de esos \"time_step\" datos). Se conformará de esta forma el set de entrenamiento\n",
    "time_step = 60\n",
    "X_train = []\n",
    "Y_train = []\n",
    "m = len(set_entrenamiento_escalado)\n",
    "\n",
    "for i in range(time_step,m):\n",
    "    # X: bloques de \"time_step\" datos: 0-time_step, 1-time_step+1, 2-time_step+2, etc\n",
    "    X_train.append(set_entrenamiento_escalado[i-time_step:i,0])\n",
    "\n",
    "    # Y: el siguiente dato\n",
    "    Y_train.append(set_entrenamiento_escalado[i,0])\n",
    "X_train, Y_train = np.array(X_train), np.array(Y_train)\n",
    "\n",
    "# Reshape X_train para que se ajuste al modelo en Keras\n",
    "X_train = np.reshape(X_train, (X_train.shape[0], X_train.shape[1], 1))"
   ]
  },
  {
   "cell_type": "markdown",
   "id": "HQIUX1RssHxG",
   "metadata": {
    "id": "HQIUX1RssHxG"
   },
   "source": [
    "**Red LSTM**"
   ]
  },
  {
   "cell_type": "code",
   "execution_count": 9,
   "id": "bff11ef1",
   "metadata": {
    "colab": {
     "base_uri": "https://localhost:8080/"
    },
    "id": "bff11ef1",
    "outputId": "6f2034e1-5d21-45ba-efb9-f31a10f4b3f1"
   },
   "outputs": [
    {
     "name": "stdout",
     "output_type": "stream",
     "text": [
      "Epoch 1/20\n",
      "265/265 [==============================] - 7s 19ms/step - loss: 4.4875e-04 - accuracy: 1.1819e-04\n",
      "Epoch 2/20\n",
      "265/265 [==============================] - 8s 30ms/step - loss: 1.2211e-04 - accuracy: 1.1819e-04\n",
      "Epoch 3/20\n",
      "265/265 [==============================] - 9s 35ms/step - loss: 8.8658e-05 - accuracy: 1.1819e-04\n",
      "Epoch 4/20\n",
      "265/265 [==============================] - 7s 25ms/step - loss: 7.1783e-05 - accuracy: 1.1819e-04\n",
      "Epoch 5/20\n",
      "265/265 [==============================] - 5s 19ms/step - loss: 6.2972e-05 - accuracy: 1.1819e-04\n",
      "Epoch 6/20\n",
      "265/265 [==============================] - 5s 19ms/step - loss: 5.7347e-05 - accuracy: 1.1819e-04\n",
      "Epoch 7/20\n",
      "265/265 [==============================] - 5s 19ms/step - loss: 5.0752e-05 - accuracy: 1.1819e-04\n",
      "Epoch 8/20\n",
      "265/265 [==============================] - 5s 19ms/step - loss: 4.6866e-05 - accuracy: 1.1819e-04\n",
      "Epoch 9/20\n",
      "265/265 [==============================] - 6s 24ms/step - loss: 4.3748e-05 - accuracy: 1.1819e-04\n",
      "Epoch 10/20\n",
      "265/265 [==============================] - 7s 27ms/step - loss: 4.0031e-05 - accuracy: 1.1819e-04\n",
      "Epoch 11/20\n",
      "265/265 [==============================] - 5s 19ms/step - loss: 3.7912e-05 - accuracy: 1.1819e-04\n",
      "Epoch 12/20\n",
      "265/265 [==============================] - 5s 19ms/step - loss: 3.6442e-05 - accuracy: 1.1819e-04\n",
      "Epoch 13/20\n",
      "265/265 [==============================] - 5s 19ms/step - loss: 3.5711e-05 - accuracy: 1.1819e-04\n",
      "Epoch 14/20\n",
      "265/265 [==============================] - 5s 19ms/step - loss: 3.3496e-05 - accuracy: 1.1819e-04\n",
      "Epoch 15/20\n",
      "265/265 [==============================] - 5s 19ms/step - loss: 3.2117e-05 - accuracy: 1.1819e-04\n",
      "Epoch 16/20\n",
      "265/265 [==============================] - 5s 19ms/step - loss: 3.2190e-05 - accuracy: 1.1819e-04\n",
      "Epoch 17/20\n",
      "265/265 [==============================] - 5s 19ms/step - loss: 3.0343e-05 - accuracy: 1.1819e-04\n",
      "Epoch 18/20\n",
      "265/265 [==============================] - 5s 19ms/step - loss: 2.9264e-05 - accuracy: 1.1819e-04\n",
      "Epoch 19/20\n",
      "265/265 [==============================] - 5s 19ms/step - loss: 3.0466e-05 - accuracy: 1.1819e-04\n",
      "Epoch 20/20\n",
      "265/265 [==============================] - 5s 21ms/step - loss: 2.7475e-05 - accuracy: 1.1819e-04\n"
     ]
    },
    {
     "data": {
      "text/plain": [
       "<keras.callbacks.History at 0x7f732c042710>"
      ]
     },
     "execution_count": 9,
     "metadata": {},
     "output_type": "execute_result"
    }
   ],
   "source": [
    "# Red LSTM\n",
    "\n",
    "dim_entrada = (X_train.shape[1],1)\n",
    "dim_salida = 1\n",
    "na = 50\n",
    "\n",
    "modelo = Sequential()\n",
    "modelo.add(LSTM(units=na, input_shape=dim_entrada))\n",
    "modelo.add(Dense(units=dim_salida))\n",
    "#modelo.compile(optimizer='rmsprop', loss='mse')\n",
    "\n",
    "modelo.compile(optimizer='rmsprop', loss='mse', metrics=['accuracy'])\n",
    "\n",
    "modelo.fit(X_train,Y_train,epochs=20,batch_size=32)"
   ]
  },
  {
   "cell_type": "code",
   "execution_count": 10,
   "id": "58fb1f69",
   "metadata": {
    "id": "58fb1f69"
   },
   "outputs": [],
   "source": [
    "# Validación (predicción del valor de las acciones)\n",
    "#\n",
    "x_test = set_validacion.values\n",
    "x_test = sc.transform(x_test)\n",
    "\n",
    "X_test = []\n",
    "for i in range(time_step,len(x_test)):\n",
    "    X_test.append(x_test[i-time_step:i,0])\n",
    "X_test = np.array(X_test)\n",
    "X_test = np.reshape(X_test, (X_test.shape[0],X_test.shape[1],1))\n",
    "\n",
    "prediccion = modelo.predict(X_test)\n",
    "prediccion = sc.inverse_transform(prediccion)\n"
   ]
  },
  {
   "cell_type": "code",
   "execution_count": 11,
   "id": "4b66727f",
   "metadata": {
    "colab": {
     "base_uri": "https://localhost:8080/",
     "height": 282
    },
    "id": "4b66727f",
    "outputId": "32dc6ec1-a848-45d1-f05e-fc525a36a0b2"
   },
   "outputs": [
    {
     "data": {
      "image/png": "[encoded data removed]",
      "text/plain": [
       "<Figure size 432x288 with 1 Axes>"
      ]
     },
     "metadata": {},
     "output_type": "display_data"
    }
   ],
   "source": [
    "# Graficar resultados\n",
    "graficar_predicciones(set_validacion.values,prediccion)"
   ]
  },
  {
   "cell_type": "code",
   "execution_count": 15,
   "id": "f1a04d56",
   "metadata": {
    "colab": {
     "base_uri": "https://localhost:8080/"
    },
    "id": "f1a04d56",
    "outputId": "ec1592ae-2399-40f6-be14-2f41673abc83"
   },
   "outputs": [
    {
     "name": "stdout",
     "output_type": "stream",
     "text": [
      "Train Score: 0.00 MSE (0.01 RMSE)\n"
     ]
    }
   ],
   "source": [
    "import math\n",
    "trainScore = modelo.evaluate(X_train, Y_train, verbose=0)\n",
    "print('Train Score: %.2f MSE (%.2f RMSE)'% (trainScore[0], math.sqrt(trainScore[0])))"
   ]
  },
  {
   "cell_type": "code",
   "execution_count": null,
   "id": "0oDS_zSht1bH",
   "metadata": {
    "id": "0oDS_zSht1bH"
   },
   "outputs": [],
   "source": []
  }
 ],
 "metadata": {
  "colab": {
   "collapsed_sections": [],
   "name": "Eq_B_Modelo_LSTM.ipynb",
   "provenance": []
  },
  "kernelspec": {
   "display_name": "Python 3 (ipykernel)",
   "language": "python",
   "name": "python3"
  },
  "language_info": {
   "codemirror_mode": {
    "name": "ipython",
    "version": 3
   },
   "file_extension": ".py",
   "mimetype": "text/x-python",
   "name": "python",
   "nbconvert_exporter": "python",
   "pygments_lexer": "ipython3",
   "version": "3.9.12"
  }
 },
 "nbformat": 4,
 "nbformat_minor": 5
}
