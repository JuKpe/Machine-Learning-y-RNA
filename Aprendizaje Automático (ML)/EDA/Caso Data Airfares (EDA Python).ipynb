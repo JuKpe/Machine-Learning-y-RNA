{
 "cells": [
  {
   "cell_type": "code",
   "execution_count": 1,
   "id": "cca05000",
   "metadata": {},
   "outputs": [],
   "source": [
    "import pandas as pd\n",
    "import numpy as np\n",
    "import matplotlib as plt\n",
    "import matplotlib.pyplot as plt\n",
    "import seaborn as sns\n",
    "import math\n",
    "import warnings\n",
    "warnings.filterwarnings(\"ignore\")"
   ]
  },
  {
   "cell_type": "code",
   "execution_count": 3,
   "id": "bd526ade",
   "metadata": {},
   "outputs": [
    {
     "data": {
      "text/html": [
       "<div>\n",
       "<style scoped>\n",
       "    .dataframe tbody tr th:only-of-type {\n",
       "        vertical-align: middle;\n",
       "    }\n",
       "\n",
       "    .dataframe tbody tr th {\n",
       "        vertical-align: top;\n",
       "    }\n",
       "\n",
       "    .dataframe thead th {\n",
       "        text-align: right;\n",
       "    }\n",
       "</style>\n",
       "<table border=\"1\" class=\"dataframe\">\n",
       "  <thead>\n",
       "    <tr style=\"text-align: right;\">\n",
       "      <th></th>\n",
       "      <th>S_CODE</th>\n",
       "      <th>S_CITY</th>\n",
       "      <th>E_CODE</th>\n",
       "      <th>E_CITY</th>\n",
       "      <th>COUPON</th>\n",
       "      <th>NEW</th>\n",
       "      <th>VACATION</th>\n",
       "      <th>SW</th>\n",
       "      <th>HI</th>\n",
       "      <th>S_INCOME</th>\n",
       "      <th>E_INCOME</th>\n",
       "      <th>S_POP</th>\n",
       "      <th>E_POP</th>\n",
       "      <th>SLOT</th>\n",
       "      <th>GATE</th>\n",
       "      <th>DISTANCE</th>\n",
       "      <th>PAX</th>\n",
       "      <th>FARE</th>\n",
       "    </tr>\n",
       "  </thead>\n",
       "  <tbody>\n",
       "    <tr>\n",
       "      <th>0</th>\n",
       "      <td>*</td>\n",
       "      <td>Dallas/Fort Worth   TX</td>\n",
       "      <td>*</td>\n",
       "      <td>Amarillo            TX</td>\n",
       "      <td>1.00</td>\n",
       "      <td>3</td>\n",
       "      <td>No</td>\n",
       "      <td>Yes</td>\n",
       "      <td>5291.99</td>\n",
       "      <td>28637</td>\n",
       "      <td>21112</td>\n",
       "      <td>3036732</td>\n",
       "      <td>205711</td>\n",
       "      <td>Free</td>\n",
       "      <td>Free</td>\n",
       "      <td>312</td>\n",
       "      <td>7864</td>\n",
       "      <td>64.11</td>\n",
       "    </tr>\n",
       "    <tr>\n",
       "      <th>1</th>\n",
       "      <td>*</td>\n",
       "      <td>Atlanta             GA</td>\n",
       "      <td>*</td>\n",
       "      <td>Baltimore/Wash Intl MD</td>\n",
       "      <td>1.06</td>\n",
       "      <td>3</td>\n",
       "      <td>No</td>\n",
       "      <td>No</td>\n",
       "      <td>5419.16</td>\n",
       "      <td>26993</td>\n",
       "      <td>29838</td>\n",
       "      <td>3532657</td>\n",
       "      <td>7145897</td>\n",
       "      <td>Free</td>\n",
       "      <td>Free</td>\n",
       "      <td>576</td>\n",
       "      <td>8820</td>\n",
       "      <td>174.47</td>\n",
       "    </tr>\n",
       "    <tr>\n",
       "      <th>2</th>\n",
       "      <td>*</td>\n",
       "      <td>Boston              MA</td>\n",
       "      <td>*</td>\n",
       "      <td>Baltimore/Wash Intl MD</td>\n",
       "      <td>1.06</td>\n",
       "      <td>3</td>\n",
       "      <td>No</td>\n",
       "      <td>No</td>\n",
       "      <td>9185.28</td>\n",
       "      <td>30124</td>\n",
       "      <td>29838</td>\n",
       "      <td>5787293</td>\n",
       "      <td>7145897</td>\n",
       "      <td>Free</td>\n",
       "      <td>Free</td>\n",
       "      <td>364</td>\n",
       "      <td>6452</td>\n",
       "      <td>207.76</td>\n",
       "    </tr>\n",
       "    <tr>\n",
       "      <th>3</th>\n",
       "      <td>ORD</td>\n",
       "      <td>Chicago             IL</td>\n",
       "      <td>*</td>\n",
       "      <td>Baltimore/Wash Intl MD</td>\n",
       "      <td>1.06</td>\n",
       "      <td>3</td>\n",
       "      <td>No</td>\n",
       "      <td>Yes</td>\n",
       "      <td>2657.35</td>\n",
       "      <td>29260</td>\n",
       "      <td>29838</td>\n",
       "      <td>7830332</td>\n",
       "      <td>7145897</td>\n",
       "      <td>Controlled</td>\n",
       "      <td>Free</td>\n",
       "      <td>612</td>\n",
       "      <td>25144</td>\n",
       "      <td>85.47</td>\n",
       "    </tr>\n",
       "    <tr>\n",
       "      <th>4</th>\n",
       "      <td>MDW</td>\n",
       "      <td>Chicago             IL</td>\n",
       "      <td>*</td>\n",
       "      <td>Baltimore/Wash Intl MD</td>\n",
       "      <td>1.06</td>\n",
       "      <td>3</td>\n",
       "      <td>No</td>\n",
       "      <td>Yes</td>\n",
       "      <td>2657.35</td>\n",
       "      <td>29260</td>\n",
       "      <td>29838</td>\n",
       "      <td>7830332</td>\n",
       "      <td>7145897</td>\n",
       "      <td>Free</td>\n",
       "      <td>Free</td>\n",
       "      <td>612</td>\n",
       "      <td>25144</td>\n",
       "      <td>85.47</td>\n",
       "    </tr>\n",
       "  </tbody>\n",
       "</table>\n",
       "</div>"
      ],
      "text/plain": [
       "  S_CODE                  S_CITY E_CODE                  E_CITY  COUPON  NEW  \\\n",
       "0      *  Dallas/Fort Worth   TX      *  Amarillo            TX    1.00    3   \n",
       "1      *  Atlanta             GA      *  Baltimore/Wash Intl MD    1.06    3   \n",
       "2      *  Boston              MA      *  Baltimore/Wash Intl MD    1.06    3   \n",
       "3    ORD  Chicago             IL      *  Baltimore/Wash Intl MD    1.06    3   \n",
       "4    MDW  Chicago             IL      *  Baltimore/Wash Intl MD    1.06    3   \n",
       "\n",
       "  VACATION   SW       HI  S_INCOME  E_INCOME    S_POP    E_POP        SLOT  \\\n",
       "0       No  Yes  5291.99     28637     21112  3036732   205711        Free   \n",
       "1       No   No  5419.16     26993     29838  3532657  7145897        Free   \n",
       "2       No   No  9185.28     30124     29838  5787293  7145897        Free   \n",
       "3       No  Yes  2657.35     29260     29838  7830332  7145897  Controlled   \n",
       "4       No  Yes  2657.35     29260     29838  7830332  7145897        Free   \n",
       "\n",
       "   GATE  DISTANCE    PAX    FARE  \n",
       "0  Free       312   7864   64.11  \n",
       "1  Free       576   8820  174.47  \n",
       "2  Free       364   6452  207.76  \n",
       "3  Free       612  25144   85.47  \n",
       "4  Free       612  25144   85.47  "
      ]
     },
     "execution_count": 3,
     "metadata": {},
     "output_type": "execute_result"
    }
   ],
   "source": [
    "df=pd.read_csv('Assign2 Data Airfares.csv')\n",
    "df.head(5)"
   ]
  },
  {
   "cell_type": "code",
   "execution_count": 5,
   "id": "fadb2b8c",
   "metadata": {},
   "outputs": [
    {
     "name": "stdout",
     "output_type": "stream",
     "text": [
      "<class 'pandas.core.frame.DataFrame'>\n",
      "RangeIndex: 638 entries, 0 to 637\n",
      "Data columns (total 18 columns):\n",
      " #   Column    Non-Null Count  Dtype  \n",
      "---  ------    --------------  -----  \n",
      " 0   S_CODE    638 non-null    object \n",
      " 1   S_CITY    638 non-null    object \n",
      " 2   E_CODE    638 non-null    object \n",
      " 3   E_CITY    638 non-null    object \n",
      " 4   COUPON    638 non-null    float64\n",
      " 5   NEW       638 non-null    int64  \n",
      " 6   VACATION  638 non-null    object \n",
      " 7   SW        638 non-null    object \n",
      " 8   HI        638 non-null    float64\n",
      " 9   S_INCOME  638 non-null    int64  \n",
      " 10  E_INCOME  638 non-null    int64  \n",
      " 11  S_POP     638 non-null    int64  \n",
      " 12  E_POP     638 non-null    int64  \n",
      " 13  SLOT      638 non-null    object \n",
      " 14  GATE      638 non-null    object \n",
      " 15  DISTANCE  638 non-null    int64  \n",
      " 16  PAX       638 non-null    int64  \n",
      " 17  FARE      638 non-null    float64\n",
      "dtypes: float64(3), int64(7), object(8)\n",
      "memory usage: 89.8+ KB\n"
     ]
    }
   ],
   "source": [
    "df.info()"
   ]
  },
  {
   "cell_type": "markdown",
   "id": "32565d46",
   "metadata": {},
   "source": [
    "### a)\tExplora los Predictores Numéricos y FARE creando una tabla de correlación y examinando algunos gráficos de dispersión entre FARE y esos predictores. ¿Cuál parece ser el mejor predictor individual de FARE? "
   ]
  },
  {
   "cell_type": "markdown",
   "id": "6c816a93",
   "metadata": {},
   "source": [
    "### Tabla de correlación"
   ]
  },
  {
   "cell_type": "code",
   "execution_count": 6,
   "id": "48d75029",
   "metadata": {},
   "outputs": [
    {
     "data": {
      "text/plain": [
       "<AxesSubplot:>"
      ]
     },
     "execution_count": 6,
     "metadata": {},
     "output_type": "execute_result"
    },
    {
     "data": {
      "image/png": "[encoded data removed]",
      "text/plain": [
       "<Figure size 720x720 with 2 Axes>"
      ]
     },
     "metadata": {
      "needs_background": "light"
     },
     "output_type": "display_data"
    }
   ],
   "source": [
    "matriz = df.corr()\n",
    "f, ax = plt.subplots(figsize = (10,10))\n",
    "sns.heatmap( matriz, annot = True)"
   ]
  },
  {
   "cell_type": "markdown",
   "id": "5cc06cf2",
   "metadata": {},
   "source": [
    "De la tabla de correlación se observa que las variables que cuentan con mayor correlación con la variable objetivo FARE, son: DISTANCE y COUPON, ambas tienen una correlación positiva con FARE, PAX cuenta con una correlación negativa , mientras que las demás variables tienen un valor de correlación cercano a 0 por lo que no se muestra ninguna correlación significativa."
   ]
  },
  {
   "cell_type": "markdown",
   "id": "dcb28fe4",
   "metadata": {},
   "source": [
    "### Gráficos de dispersión:"
   ]
  },
  {
   "cell_type": "markdown",
   "id": "fe05342a",
   "metadata": {},
   "source": [
    "**Entre FARE y PAX**"
   ]
  },
  {
   "cell_type": "code",
   "execution_count": 10,
   "id": "d63d0507",
   "metadata": {},
   "outputs": [
    {
     "data": {
      "text/plain": [
       "<AxesSubplot:title={'center':'Gráfico'}, xlabel='FARE', ylabel='PAX'>"
      ]
     },
     "execution_count": 10,
     "metadata": {},
     "output_type": "execute_result"
    },
    {
     "data": {
      "image/png": "[encoded data removed]",
      "text/plain": [
       "<Figure size 432x288 with 1 Axes>"
      ]
     },
     "metadata": {
      "needs_background": "light"
     },
     "output_type": "display_data"
    }
   ],
   "source": [
    "df.plot(kind='scatter', x='FARE', y='PAX', title='Gráfico')"
   ]
  },
  {
   "cell_type": "markdown",
   "id": "0b089b7a",
   "metadata": {},
   "source": [
    "**Entre FARE y  DISTANCE**"
   ]
  },
  {
   "cell_type": "code",
   "execution_count": 11,
   "id": "1d59c7c0",
   "metadata": {},
   "outputs": [
    {
     "data": {
      "text/plain": [
       "<AxesSubplot:title={'center':'Gráfico'}, xlabel='FARE', ylabel='DISTANCE'>"
      ]
     },
     "execution_count": 11,
     "metadata": {},
     "output_type": "execute_result"
    },
    {
     "data": {
      "image/png": "[encoded data removed]",
      "text/plain": [
       "<Figure size 432x288 with 1 Axes>"
      ]
     },
     "metadata": {
      "needs_background": "light"
     },
     "output_type": "display_data"
    }
   ],
   "source": [
    "df.plot(kind='scatter', x='FARE', y='DISTANCE', title='Gráfico')"
   ]
  },
  {
   "cell_type": "markdown",
   "id": "4e2707d6",
   "metadata": {},
   "source": [
    "**Entre FARE y COUPON**"
   ]
  },
  {
   "cell_type": "code",
   "execution_count": 12,
   "id": "486d9221",
   "metadata": {},
   "outputs": [
    {
     "data": {
      "text/plain": [
       "<AxesSubplot:title={'center':'Gráfico'}, xlabel='FARE', ylabel='COUPON'>"
      ]
     },
     "execution_count": 12,
     "metadata": {},
     "output_type": "execute_result"
    },
    {
     "data": {
      "image/png": "[encoded data removed]",
      "text/plain": [
       "<Figure size 432x288 with 1 Axes>"
      ]
     },
     "metadata": {
      "needs_background": "light"
     },
     "output_type": "display_data"
    }
   ],
   "source": [
    "df.plot(kind='scatter', x='FARE', y='COUPON', title='Gráfico')"
   ]
  },
  {
   "cell_type": "markdown",
   "id": "3d9b1649",
   "metadata": {},
   "source": [
    "### b)\tExplore los Predictores Categóricos (excluyendo los cuatro primeros) calculando el porcentaje de vuelos en cada categoría. Cree una tabla dinámica con la Tarifa Media de cada categoría. ¿Qué predictor categórico parece mejor para predecir la tarifa o FARE?"
   ]
  },
  {
   "cell_type": "markdown",
   "id": "79d51cf7",
   "metadata": {},
   "source": [
    "**Predictores categóricos:**\n",
    "* VACATION  \n",
    "* SW        \n",
    "* SLOT      \n",
    "* GATE      \n"
   ]
  },
  {
   "cell_type": "markdown",
   "id": "4f014c90",
   "metadata": {},
   "source": [
    "**VACATION:**"
   ]
  },
  {
   "cell_type": "code",
   "execution_count": 13,
   "id": "43e685ad",
   "metadata": {},
   "outputs": [
    {
     "data": {
      "text/plain": [
       "No     468\n",
       "Yes    170\n",
       "Name: VACATION, dtype: int64"
      ]
     },
     "execution_count": 13,
     "metadata": {},
     "output_type": "execute_result"
    }
   ],
   "source": [
    "pd.value_counts(df.VACATION)"
   ]
  },
  {
   "cell_type": "code",
   "execution_count": 14,
   "id": "dbac1119",
   "metadata": {
    "scrolled": true
   },
   "outputs": [
    {
     "data": {
      "image/png": "[encoded data removed]",
      "text/plain": [
       "<Figure size 432x288 with 1 Axes>"
      ]
     },
     "metadata": {},
     "output_type": "display_data"
    }
   ],
   "source": [
    "valor=['No','Yes']\n",
    "colores = [\"#EE6055\",\"#60D394\"]\n",
    "desfase = (0.1,0)\n",
    "plt.pie(df.VACATION.value_counts(), labels=valor, autopct=\"%0.1f %%\", colors=colores, explode=desfase)\n",
    "plt.axis(\"equal\")\n",
    "plt.show()"
   ]
  },
  {
   "cell_type": "code",
   "execution_count": 15,
   "id": "f1b5873a",
   "metadata": {},
   "outputs": [
    {
     "data": {
      "text/html": [
       "<div>\n",
       "<style scoped>\n",
       "    .dataframe tbody tr th:only-of-type {\n",
       "        vertical-align: middle;\n",
       "    }\n",
       "\n",
       "    .dataframe tbody tr th {\n",
       "        vertical-align: top;\n",
       "    }\n",
       "\n",
       "    .dataframe thead th {\n",
       "        text-align: right;\n",
       "    }\n",
       "</style>\n",
       "<table border=\"1\" class=\"dataframe\">\n",
       "  <thead>\n",
       "    <tr style=\"text-align: right;\">\n",
       "      <th></th>\n",
       "      <th>VACATION</th>\n",
       "      <th>FARE</th>\n",
       "    </tr>\n",
       "  </thead>\n",
       "  <tbody>\n",
       "    <tr>\n",
       "      <th>0</th>\n",
       "      <td>No</td>\n",
       "      <td>173.552500</td>\n",
       "    </tr>\n",
       "    <tr>\n",
       "      <th>1</th>\n",
       "      <td>Yes</td>\n",
       "      <td>125.980882</td>\n",
       "    </tr>\n",
       "  </tbody>\n",
       "</table>\n",
       "</div>"
      ],
      "text/plain": [
       "  VACATION        FARE\n",
       "0       No  173.552500\n",
       "1      Yes  125.980882"
      ]
     },
     "execution_count": 15,
     "metadata": {},
     "output_type": "execute_result"
    }
   ],
   "source": [
    "vacation_grupo = df.groupby(['VACATION'],as_index=False)['FARE'].mean()\n",
    "vacation_grupo"
   ]
  },
  {
   "cell_type": "markdown",
   "id": "fbbce215",
   "metadata": {},
   "source": [
    "**SW:**"
   ]
  },
  {
   "cell_type": "code",
   "execution_count": 16,
   "id": "e81a3656",
   "metadata": {},
   "outputs": [
    {
     "data": {
      "text/plain": [
       "No     444\n",
       "Yes    194\n",
       "Name: SW, dtype: int64"
      ]
     },
     "execution_count": 16,
     "metadata": {},
     "output_type": "execute_result"
    }
   ],
   "source": [
    "pd.value_counts(df.SW)"
   ]
  },
  {
   "cell_type": "code",
   "execution_count": 17,
   "id": "5b2c5202",
   "metadata": {},
   "outputs": [
    {
     "data": {
      "image/png": "[encoded data removed]",
      "text/plain": [
       "<Figure size 432x288 with 1 Axes>"
      ]
     },
     "metadata": {},
     "output_type": "display_data"
    }
   ],
   "source": [
    "valor=['No','Yes']\n",
    "colores = [\"#EE6055\",\"#60D394\"]\n",
    "desfase = (0.1,0)\n",
    "plt.pie(df.SW.value_counts(), labels=valor, autopct=\"%0.1f %%\", colors=colores, explode=desfase)\n",
    "plt.axis(\"equal\")\n",
    "plt.show()"
   ]
  },
  {
   "cell_type": "code",
   "execution_count": 18,
   "id": "740762f9",
   "metadata": {},
   "outputs": [
    {
     "data": {
      "text/html": [
       "<div>\n",
       "<style scoped>\n",
       "    .dataframe tbody tr th:only-of-type {\n",
       "        vertical-align: middle;\n",
       "    }\n",
       "\n",
       "    .dataframe tbody tr th {\n",
       "        vertical-align: top;\n",
       "    }\n",
       "\n",
       "    .dataframe thead th {\n",
       "        text-align: right;\n",
       "    }\n",
       "</style>\n",
       "<table border=\"1\" class=\"dataframe\">\n",
       "  <thead>\n",
       "    <tr style=\"text-align: right;\">\n",
       "      <th></th>\n",
       "      <th>SW</th>\n",
       "      <th>FARE</th>\n",
       "    </tr>\n",
       "  </thead>\n",
       "  <tbody>\n",
       "    <tr>\n",
       "      <th>0</th>\n",
       "      <td>No</td>\n",
       "      <td>188.182793</td>\n",
       "    </tr>\n",
       "    <tr>\n",
       "      <th>1</th>\n",
       "      <td>Yes</td>\n",
       "      <td>98.382268</td>\n",
       "    </tr>\n",
       "  </tbody>\n",
       "</table>\n",
       "</div>"
      ],
      "text/plain": [
       "    SW        FARE\n",
       "0   No  188.182793\n",
       "1  Yes   98.382268"
      ]
     },
     "execution_count": 18,
     "metadata": {},
     "output_type": "execute_result"
    }
   ],
   "source": [
    "SW_grupo = df.groupby(['SW'],as_index=False)['FARE'].mean()\n",
    "SW_grupo"
   ]
  },
  {
   "cell_type": "markdown",
   "id": "c8b8c415",
   "metadata": {},
   "source": [
    "**SLOT:**"
   ]
  },
  {
   "cell_type": "code",
   "execution_count": 19,
   "id": "a6bc908d",
   "metadata": {},
   "outputs": [
    {
     "data": {
      "text/plain": [
       "Free          456\n",
       "Controlled    182\n",
       "Name: SLOT, dtype: int64"
      ]
     },
     "execution_count": 19,
     "metadata": {},
     "output_type": "execute_result"
    }
   ],
   "source": [
    "pd.value_counts(df.SLOT)"
   ]
  },
  {
   "cell_type": "code",
   "execution_count": 20,
   "id": "2ea0aaf7",
   "metadata": {},
   "outputs": [
    {
     "data": {
      "image/png": "[encoded data removed]",
      "text/plain": [
       "<Figure size 432x288 with 1 Axes>"
      ]
     },
     "metadata": {},
     "output_type": "display_data"
    }
   ],
   "source": [
    "valor=['Free','Controlled']\n",
    "colores = [\"#EE6055\",\"#60D394\"]\n",
    "desfase = (0.1,0)\n",
    "plt.pie(df.SLOT.value_counts(), labels=valor, autopct=\"%0.1f %%\", colors=colores, explode=desfase)\n",
    "plt.axis(\"equal\")\n",
    "plt.show()"
   ]
  },
  {
   "cell_type": "code",
   "execution_count": 21,
   "id": "df4ece78",
   "metadata": {},
   "outputs": [
    {
     "data": {
      "text/html": [
       "<div>\n",
       "<style scoped>\n",
       "    .dataframe tbody tr th:only-of-type {\n",
       "        vertical-align: middle;\n",
       "    }\n",
       "\n",
       "    .dataframe tbody tr th {\n",
       "        vertical-align: top;\n",
       "    }\n",
       "\n",
       "    .dataframe thead th {\n",
       "        text-align: right;\n",
       "    }\n",
       "</style>\n",
       "<table border=\"1\" class=\"dataframe\">\n",
       "  <thead>\n",
       "    <tr style=\"text-align: right;\">\n",
       "      <th></th>\n",
       "      <th>SLOT</th>\n",
       "      <th>FARE</th>\n",
       "    </tr>\n",
       "  </thead>\n",
       "  <tbody>\n",
       "    <tr>\n",
       "      <th>0</th>\n",
       "      <td>Controlled</td>\n",
       "      <td>186.059396</td>\n",
       "    </tr>\n",
       "    <tr>\n",
       "      <th>1</th>\n",
       "      <td>Free</td>\n",
       "      <td>150.825680</td>\n",
       "    </tr>\n",
       "  </tbody>\n",
       "</table>\n",
       "</div>"
      ],
      "text/plain": [
       "         SLOT        FARE\n",
       "0  Controlled  186.059396\n",
       "1        Free  150.825680"
      ]
     },
     "execution_count": 21,
     "metadata": {},
     "output_type": "execute_result"
    }
   ],
   "source": [
    "SLOT_grupo = df.groupby(['SLOT'],as_index=False)['FARE'].mean()\n",
    "SLOT_grupo"
   ]
  },
  {
   "cell_type": "markdown",
   "id": "f5073684",
   "metadata": {},
   "source": [
    "**GATE:**"
   ]
  },
  {
   "cell_type": "code",
   "execution_count": 22,
   "id": "81a1db1d",
   "metadata": {},
   "outputs": [
    {
     "data": {
      "text/plain": [
       "Free           514\n",
       "Constrained    124\n",
       "Name: GATE, dtype: int64"
      ]
     },
     "execution_count": 22,
     "metadata": {},
     "output_type": "execute_result"
    }
   ],
   "source": [
    "pd.value_counts(df.GATE)"
   ]
  },
  {
   "cell_type": "code",
   "execution_count": 23,
   "id": "be8ae142",
   "metadata": {},
   "outputs": [
    {
     "data": {
      "image/png": "[encoded data removed]",
      "text/plain": [
       "<Figure size 432x288 with 1 Axes>"
      ]
     },
     "metadata": {},
     "output_type": "display_data"
    }
   ],
   "source": [
    "valor=['Free','Controlled']\n",
    "colores = [\"#EE6055\",\"#60D394\"]\n",
    "desfase = (0.1,0)\n",
    "plt.pie(df.GATE.value_counts(), labels=valor, autopct=\"%0.1f %%\", colors=colores, explode=desfase)\n",
    "plt.axis(\"equal\")\n",
    "plt.show()"
   ]
  },
  {
   "cell_type": "code",
   "execution_count": 24,
   "id": "6d85118d",
   "metadata": {},
   "outputs": [
    {
     "data": {
      "text/html": [
       "<div>\n",
       "<style scoped>\n",
       "    .dataframe tbody tr th:only-of-type {\n",
       "        vertical-align: middle;\n",
       "    }\n",
       "\n",
       "    .dataframe tbody tr th {\n",
       "        vertical-align: top;\n",
       "    }\n",
       "\n",
       "    .dataframe thead th {\n",
       "        text-align: right;\n",
       "    }\n",
       "</style>\n",
       "<table border=\"1\" class=\"dataframe\">\n",
       "  <thead>\n",
       "    <tr style=\"text-align: right;\">\n",
       "      <th></th>\n",
       "      <th>GATE</th>\n",
       "      <th>FARE</th>\n",
       "    </tr>\n",
       "  </thead>\n",
       "  <tbody>\n",
       "    <tr>\n",
       "      <th>0</th>\n",
       "      <td>Constrained</td>\n",
       "      <td>193.129032</td>\n",
       "    </tr>\n",
       "    <tr>\n",
       "      <th>1</th>\n",
       "      <td>Free</td>\n",
       "      <td>153.095953</td>\n",
       "    </tr>\n",
       "  </tbody>\n",
       "</table>\n",
       "</div>"
      ],
      "text/plain": [
       "          GATE        FARE\n",
       "0  Constrained  193.129032\n",
       "1         Free  153.095953"
      ]
     },
     "execution_count": 24,
     "metadata": {},
     "output_type": "execute_result"
    }
   ],
   "source": [
    "GATE_grupo = df.groupby(['GATE'],as_index=False)['FARE'].mean()\n",
    "GATE_grupo"
   ]
  },
  {
   "cell_type": "markdown",
   "id": "9ab63e67",
   "metadata": {},
   "source": [
    "**Conclusión:** \n",
    "* FARE es más alto para GATE Constrained con 193 y el más bajo es SW Yes con 98. \n",
    "* Entonces los vuelos donde Southwest Airlines sirve esa ruta es más barato y Si el aeropuerto de punto final tiene   restricciones es más caro.\n",
    "\n"
   ]
  },
  {
   "cell_type": "markdown",
   "id": "a3bd7ca3",
   "metadata": {},
   "source": [
    "### c)\tDivida los datos en conjuntos de entrenamiento (60%) y de validación (40%). Utilice la regresión por pasos para reducir el número de predictores, e identifique el mejor entre los modelos candidatos generados basándose en la medida AIC. Puede ignorar los cuatro primeros predictores (CODE, S CITY, E CODE, E CITY) al generar los modelos candidatos."
   ]
  },
  {
   "cell_type": "markdown",
   "id": "4099b8e9",
   "metadata": {},
   "source": [
    "Ignoramos los 4 primeros predictores (CODE, S CITY, E CODE, E CITY):"
   ]
  },
  {
   "cell_type": "code",
   "execution_count": 25,
   "id": "65f070ea",
   "metadata": {
    "scrolled": true
   },
   "outputs": [
    {
     "data": {
      "text/html": [
       "<div>\n",
       "<style scoped>\n",
       "    .dataframe tbody tr th:only-of-type {\n",
       "        vertical-align: middle;\n",
       "    }\n",
       "\n",
       "    .dataframe tbody tr th {\n",
       "        vertical-align: top;\n",
       "    }\n",
       "\n",
       "    .dataframe thead th {\n",
       "        text-align: right;\n",
       "    }\n",
       "</style>\n",
       "<table border=\"1\" class=\"dataframe\">\n",
       "  <thead>\n",
       "    <tr style=\"text-align: right;\">\n",
       "      <th></th>\n",
       "      <th>COUPON</th>\n",
       "      <th>NEW</th>\n",
       "      <th>VACATION</th>\n",
       "      <th>SW</th>\n",
       "      <th>HI</th>\n",
       "      <th>S_INCOME</th>\n",
       "      <th>E_INCOME</th>\n",
       "      <th>S_POP</th>\n",
       "      <th>E_POP</th>\n",
       "      <th>SLOT</th>\n",
       "      <th>GATE</th>\n",
       "      <th>DISTANCE</th>\n",
       "      <th>PAX</th>\n",
       "      <th>FARE</th>\n",
       "    </tr>\n",
       "  </thead>\n",
       "  <tbody>\n",
       "    <tr>\n",
       "      <th>0</th>\n",
       "      <td>1.00</td>\n",
       "      <td>3</td>\n",
       "      <td>No</td>\n",
       "      <td>Yes</td>\n",
       "      <td>5291.99</td>\n",
       "      <td>28637</td>\n",
       "      <td>21112</td>\n",
       "      <td>3036732</td>\n",
       "      <td>205711</td>\n",
       "      <td>Free</td>\n",
       "      <td>Free</td>\n",
       "      <td>312</td>\n",
       "      <td>7864</td>\n",
       "      <td>64.11</td>\n",
       "    </tr>\n",
       "    <tr>\n",
       "      <th>1</th>\n",
       "      <td>1.06</td>\n",
       "      <td>3</td>\n",
       "      <td>No</td>\n",
       "      <td>No</td>\n",
       "      <td>5419.16</td>\n",
       "      <td>26993</td>\n",
       "      <td>29838</td>\n",
       "      <td>3532657</td>\n",
       "      <td>7145897</td>\n",
       "      <td>Free</td>\n",
       "      <td>Free</td>\n",
       "      <td>576</td>\n",
       "      <td>8820</td>\n",
       "      <td>174.47</td>\n",
       "    </tr>\n",
       "    <tr>\n",
       "      <th>2</th>\n",
       "      <td>1.06</td>\n",
       "      <td>3</td>\n",
       "      <td>No</td>\n",
       "      <td>No</td>\n",
       "      <td>9185.28</td>\n",
       "      <td>30124</td>\n",
       "      <td>29838</td>\n",
       "      <td>5787293</td>\n",
       "      <td>7145897</td>\n",
       "      <td>Free</td>\n",
       "      <td>Free</td>\n",
       "      <td>364</td>\n",
       "      <td>6452</td>\n",
       "      <td>207.76</td>\n",
       "    </tr>\n",
       "    <tr>\n",
       "      <th>3</th>\n",
       "      <td>1.06</td>\n",
       "      <td>3</td>\n",
       "      <td>No</td>\n",
       "      <td>Yes</td>\n",
       "      <td>2657.35</td>\n",
       "      <td>29260</td>\n",
       "      <td>29838</td>\n",
       "      <td>7830332</td>\n",
       "      <td>7145897</td>\n",
       "      <td>Controlled</td>\n",
       "      <td>Free</td>\n",
       "      <td>612</td>\n",
       "      <td>25144</td>\n",
       "      <td>85.47</td>\n",
       "    </tr>\n",
       "    <tr>\n",
       "      <th>4</th>\n",
       "      <td>1.06</td>\n",
       "      <td>3</td>\n",
       "      <td>No</td>\n",
       "      <td>Yes</td>\n",
       "      <td>2657.35</td>\n",
       "      <td>29260</td>\n",
       "      <td>29838</td>\n",
       "      <td>7830332</td>\n",
       "      <td>7145897</td>\n",
       "      <td>Free</td>\n",
       "      <td>Free</td>\n",
       "      <td>612</td>\n",
       "      <td>25144</td>\n",
       "      <td>85.47</td>\n",
       "    </tr>\n",
       "  </tbody>\n",
       "</table>\n",
       "</div>"
      ],
      "text/plain": [
       "   COUPON  NEW VACATION   SW       HI  S_INCOME  E_INCOME    S_POP    E_POP  \\\n",
       "0    1.00    3       No  Yes  5291.99     28637     21112  3036732   205711   \n",
       "1    1.06    3       No   No  5419.16     26993     29838  3532657  7145897   \n",
       "2    1.06    3       No   No  9185.28     30124     29838  5787293  7145897   \n",
       "3    1.06    3       No  Yes  2657.35     29260     29838  7830332  7145897   \n",
       "4    1.06    3       No  Yes  2657.35     29260     29838  7830332  7145897   \n",
       "\n",
       "         SLOT  GATE  DISTANCE    PAX    FARE  \n",
       "0        Free  Free       312   7864   64.11  \n",
       "1        Free  Free       576   8820  174.47  \n",
       "2        Free  Free       364   6452  207.76  \n",
       "3  Controlled  Free       612  25144   85.47  \n",
       "4        Free  Free       612  25144   85.47  "
      ]
     },
     "execution_count": 25,
     "metadata": {},
     "output_type": "execute_result"
    }
   ],
   "source": [
    "df_model=df.iloc[:,4:]\n",
    "df_model.head(5)"
   ]
  },
  {
   "cell_type": "markdown",
   "id": "3fa3c4dc",
   "metadata": {},
   "source": [
    "Convertimos las variables categóricas en variables numéricas para los modelos:"
   ]
  },
  {
   "cell_type": "code",
   "execution_count": 26,
   "id": "08d248d3",
   "metadata": {},
   "outputs": [
    {
     "data": {
      "text/html": [
       "<div>\n",
       "<style scoped>\n",
       "    .dataframe tbody tr th:only-of-type {\n",
       "        vertical-align: middle;\n",
       "    }\n",
       "\n",
       "    .dataframe tbody tr th {\n",
       "        vertical-align: top;\n",
       "    }\n",
       "\n",
       "    .dataframe thead th {\n",
       "        text-align: right;\n",
       "    }\n",
       "</style>\n",
       "<table border=\"1\" class=\"dataframe\">\n",
       "  <thead>\n",
       "    <tr style=\"text-align: right;\">\n",
       "      <th></th>\n",
       "      <th>COUPON</th>\n",
       "      <th>NEW</th>\n",
       "      <th>VACATION</th>\n",
       "      <th>SW</th>\n",
       "      <th>HI</th>\n",
       "      <th>S_INCOME</th>\n",
       "      <th>E_INCOME</th>\n",
       "      <th>S_POP</th>\n",
       "      <th>E_POP</th>\n",
       "      <th>SLOT</th>\n",
       "      <th>GATE</th>\n",
       "      <th>DISTANCE</th>\n",
       "      <th>PAX</th>\n",
       "      <th>FARE</th>\n",
       "    </tr>\n",
       "  </thead>\n",
       "  <tbody>\n",
       "    <tr>\n",
       "      <th>0</th>\n",
       "      <td>1.00</td>\n",
       "      <td>3</td>\n",
       "      <td>0</td>\n",
       "      <td>1</td>\n",
       "      <td>5291.99</td>\n",
       "      <td>28637</td>\n",
       "      <td>21112</td>\n",
       "      <td>3036732</td>\n",
       "      <td>205711</td>\n",
       "      <td>1</td>\n",
       "      <td>1</td>\n",
       "      <td>312</td>\n",
       "      <td>7864</td>\n",
       "      <td>64.11</td>\n",
       "    </tr>\n",
       "    <tr>\n",
       "      <th>1</th>\n",
       "      <td>1.06</td>\n",
       "      <td>3</td>\n",
       "      <td>0</td>\n",
       "      <td>0</td>\n",
       "      <td>5419.16</td>\n",
       "      <td>26993</td>\n",
       "      <td>29838</td>\n",
       "      <td>3532657</td>\n",
       "      <td>7145897</td>\n",
       "      <td>1</td>\n",
       "      <td>1</td>\n",
       "      <td>576</td>\n",
       "      <td>8820</td>\n",
       "      <td>174.47</td>\n",
       "    </tr>\n",
       "    <tr>\n",
       "      <th>2</th>\n",
       "      <td>1.06</td>\n",
       "      <td>3</td>\n",
       "      <td>0</td>\n",
       "      <td>0</td>\n",
       "      <td>9185.28</td>\n",
       "      <td>30124</td>\n",
       "      <td>29838</td>\n",
       "      <td>5787293</td>\n",
       "      <td>7145897</td>\n",
       "      <td>1</td>\n",
       "      <td>1</td>\n",
       "      <td>364</td>\n",
       "      <td>6452</td>\n",
       "      <td>207.76</td>\n",
       "    </tr>\n",
       "    <tr>\n",
       "      <th>3</th>\n",
       "      <td>1.06</td>\n",
       "      <td>3</td>\n",
       "      <td>0</td>\n",
       "      <td>1</td>\n",
       "      <td>2657.35</td>\n",
       "      <td>29260</td>\n",
       "      <td>29838</td>\n",
       "      <td>7830332</td>\n",
       "      <td>7145897</td>\n",
       "      <td>0</td>\n",
       "      <td>1</td>\n",
       "      <td>612</td>\n",
       "      <td>25144</td>\n",
       "      <td>85.47</td>\n",
       "    </tr>\n",
       "    <tr>\n",
       "      <th>4</th>\n",
       "      <td>1.06</td>\n",
       "      <td>3</td>\n",
       "      <td>0</td>\n",
       "      <td>1</td>\n",
       "      <td>2657.35</td>\n",
       "      <td>29260</td>\n",
       "      <td>29838</td>\n",
       "      <td>7830332</td>\n",
       "      <td>7145897</td>\n",
       "      <td>1</td>\n",
       "      <td>1</td>\n",
       "      <td>612</td>\n",
       "      <td>25144</td>\n",
       "      <td>85.47</td>\n",
       "    </tr>\n",
       "  </tbody>\n",
       "</table>\n",
       "</div>"
      ],
      "text/plain": [
       "   COUPON  NEW  VACATION  SW       HI  S_INCOME  E_INCOME    S_POP    E_POP  \\\n",
       "0    1.00    3         0   1  5291.99     28637     21112  3036732   205711   \n",
       "1    1.06    3         0   0  5419.16     26993     29838  3532657  7145897   \n",
       "2    1.06    3         0   0  9185.28     30124     29838  5787293  7145897   \n",
       "3    1.06    3         0   1  2657.35     29260     29838  7830332  7145897   \n",
       "4    1.06    3         0   1  2657.35     29260     29838  7830332  7145897   \n",
       "\n",
       "   SLOT  GATE  DISTANCE    PAX    FARE  \n",
       "0     1     1       312   7864   64.11  \n",
       "1     1     1       576   8820  174.47  \n",
       "2     1     1       364   6452  207.76  \n",
       "3     0     1       612  25144   85.47  \n",
       "4     1     1       612  25144   85.47  "
      ]
     },
     "execution_count": 26,
     "metadata": {},
     "output_type": "execute_result"
    }
   ],
   "source": [
    "from sklearn.preprocessing import LabelEncoder\n",
    "le = LabelEncoder()\n",
    "\n",
    "df_model.VACATION = le.fit_transform(df_model.VACATION)\n",
    "df_model.SW = le.fit_transform(df_model.SW)\n",
    "df_model.SLOT = le.fit_transform(df_model.SLOT)\n",
    "df_model.GATE = le.fit_transform(df_model.GATE)\n",
    "\n",
    "df_model.head(5)"
   ]
  },
  {
   "cell_type": "markdown",
   "id": "4b3bfeb4",
   "metadata": {},
   "source": [
    "División de los datos en conjunto de Entrenamiento (60%) y Validación (40%)"
   ]
  },
  {
   "cell_type": "code",
   "execution_count": 27,
   "id": "da2e8888",
   "metadata": {},
   "outputs": [
    {
     "name": "stdout",
     "output_type": "stream",
     "text": [
      "Requirement already satisfied: mlxtend in c:\\users\\amigo\\anaconda3\\lib\\site-packages (0.20.0)\n",
      "Requirement already satisfied: pandas>=0.24.2 in c:\\users\\amigo\\anaconda3\\lib\\site-packages (from mlxtend) (1.4.2)\n",
      "Requirement already satisfied: scikit-learn>=1.0.2 in c:\\users\\amigo\\anaconda3\\lib\\site-packages (from mlxtend) (1.0.2)\n",
      "Requirement already satisfied: matplotlib>=3.0.0 in c:\\users\\amigo\\anaconda3\\lib\\site-packages (from mlxtend) (3.5.1)\n",
      "Requirement already satisfied: joblib>=0.13.2 in c:\\users\\amigo\\anaconda3\\lib\\site-packages (from mlxtend) (1.1.0)\n",
      "Requirement already satisfied: numpy>=1.16.2 in c:\\users\\amigo\\anaconda3\\lib\\site-packages (from mlxtend) (1.21.5)\n",
      "Requirement already satisfied: scipy>=1.2.1 in c:\\users\\amigo\\anaconda3\\lib\\site-packages (from mlxtend) (1.7.3)\n",
      "Requirement already satisfied: setuptools in c:\\users\\amigo\\anaconda3\\lib\\site-packages (from mlxtend) (61.2.0)\n",
      "Requirement already satisfied: fonttools>=4.22.0 in c:\\users\\amigo\\anaconda3\\lib\\site-packages (from matplotlib>=3.0.0->mlxtend) (4.25.0)\n",
      "Requirement already satisfied: python-dateutil>=2.7 in c:\\users\\amigo\\anaconda3\\lib\\site-packages (from matplotlib>=3.0.0->mlxtend) (2.8.2)\n",
      "Requirement already satisfied: packaging>=20.0 in c:\\users\\amigo\\anaconda3\\lib\\site-packages (from matplotlib>=3.0.0->mlxtend) (21.3)\n",
      "Requirement already satisfied: cycler>=0.10 in c:\\users\\amigo\\anaconda3\\lib\\site-packages (from matplotlib>=3.0.0->mlxtend) (0.11.0)\n",
      "Requirement already satisfied: pyparsing>=2.2.1 in c:\\users\\amigo\\anaconda3\\lib\\site-packages (from matplotlib>=3.0.0->mlxtend) (3.0.4)\n",
      "Requirement already satisfied: pillow>=6.2.0 in c:\\users\\amigo\\anaconda3\\lib\\site-packages (from matplotlib>=3.0.0->mlxtend) (9.0.1)\n",
      "Requirement already satisfied: kiwisolver>=1.0.1 in c:\\users\\amigo\\anaconda3\\lib\\site-packages (from matplotlib>=3.0.0->mlxtend) (1.3.2)\n",
      "Requirement already satisfied: pytz>=2020.1 in c:\\users\\amigo\\anaconda3\\lib\\site-packages (from pandas>=0.24.2->mlxtend) (2021.3)\n",
      "Requirement already satisfied: six>=1.5 in c:\\users\\amigo\\anaconda3\\lib\\site-packages (from python-dateutil>=2.7->matplotlib>=3.0.0->mlxtend) (1.16.0)\n",
      "Requirement already satisfied: threadpoolctl>=2.0.0 in c:\\users\\amigo\\anaconda3\\lib\\site-packages (from scikit-learn>=1.0.2->mlxtend) (2.2.0)\n",
      "Note: you may need to restart the kernel to use updated packages.\n"
     ]
    }
   ],
   "source": [
    "pip install mlxtend"
   ]
  },
  {
   "cell_type": "code",
   "execution_count": 28,
   "id": "67ecd6cb",
   "metadata": {},
   "outputs": [],
   "source": [
    "from sklearn.model_selection import train_test_split\n",
    "from sklearn.ensemble import RandomForestRegressor, RandomForestClassifier\n",
    "from sklearn.metrics import roc_auc_score\n",
    "from mlxtend.feature_selection import SequentialFeatureSelector as SFS\n",
    "\n",
    "from sklearn.datasets import load_wine\n",
    "from sklearn.preprocessing import StandardScaler\n",
    "\n",
    "from sklearn.linear_model import LogisticRegression \n",
    "from sklearn.linear_model import LinearRegression\n",
    "\n",
    "from sklearn.neighbors import KNeighborsClassifier"
   ]
  },
  {
   "cell_type": "code",
   "execution_count": 29,
   "id": "3939e162",
   "metadata": {},
   "outputs": [
    {
     "data": {
      "text/plain": [
       "((638, 13), (638,))"
      ]
     },
     "execution_count": 29,
     "metadata": {},
     "output_type": "execute_result"
    }
   ],
   "source": [
    "X, y = df_model.drop('FARE', axis=1), df['FARE']\n",
    "X.shape, y.shape"
   ]
  },
  {
   "cell_type": "code",
   "execution_count": 30,
   "id": "7b12c26e",
   "metadata": {},
   "outputs": [],
   "source": [
    "X_train, X_test , y_train , y_test = train_test_split(X,y,test_size=0.4, random_state=42)"
   ]
  },
  {
   "cell_type": "code",
   "execution_count": 31,
   "id": "d5f87c39",
   "metadata": {},
   "outputs": [
    {
     "data": {
      "text/plain": [
       "((382, 13), (256, 13))"
      ]
     },
     "execution_count": 31,
     "metadata": {},
     "output_type": "execute_result"
    }
   ],
   "source": [
    "X_train.shape, X_test.shape"
   ]
  },
  {
   "cell_type": "markdown",
   "id": "15907081",
   "metadata": {},
   "source": [
    "### 1. Sequential Forward Selection (SFS)"
   ]
  },
  {
   "cell_type": "code",
   "execution_count": 32,
   "id": "9a15b393",
   "metadata": {},
   "outputs": [
    {
     "name": "stderr",
     "output_type": "stream",
     "text": [
      "[Parallel(n_jobs=1)]: Using backend SequentialBackend with 1 concurrent workers.\n",
      "[Parallel(n_jobs=1)]: Done   1 out of   1 | elapsed:    0.1s remaining:    0.0s\n",
      "[Parallel(n_jobs=1)]: Done  13 out of  13 | elapsed:    0.2s finished\n",
      "\n",
      "[2022-07-14 13:12:50] Features: 1/13 -- score: 0.39221558013451296[Parallel(n_jobs=1)]: Using backend SequentialBackend with 1 concurrent workers.\n",
      "[Parallel(n_jobs=1)]: Done   1 out of   1 | elapsed:    0.0s remaining:    0.0s\n",
      "[Parallel(n_jobs=1)]: Done  12 out of  12 | elapsed:    0.0s finished\n",
      "\n",
      "[2022-07-14 13:12:50] Features: 2/13 -- score: 0.5615418818258877[Parallel(n_jobs=1)]: Using backend SequentialBackend with 1 concurrent workers.\n",
      "[Parallel(n_jobs=1)]: Done   1 out of   1 | elapsed:    0.0s remaining:    0.0s\n",
      "[Parallel(n_jobs=1)]: Done  11 out of  11 | elapsed:    0.0s finished\n",
      "\n",
      "[2022-07-14 13:12:50] Features: 3/13 -- score: 0.6834338015636586[Parallel(n_jobs=1)]: Using backend SequentialBackend with 1 concurrent workers.\n",
      "[Parallel(n_jobs=1)]: Done   1 out of   1 | elapsed:    0.0s remaining:    0.0s\n",
      "[Parallel(n_jobs=1)]: Done  10 out of  10 | elapsed:    0.0s finished\n",
      "\n",
      "[2022-07-14 13:12:50] Features: 4/13 -- score: 0.7029179513238596[Parallel(n_jobs=1)]: Using backend SequentialBackend with 1 concurrent workers.\n",
      "[Parallel(n_jobs=1)]: Done   1 out of   1 | elapsed:    0.0s remaining:    0.0s\n",
      "[Parallel(n_jobs=1)]: Done   9 out of   9 | elapsed:    0.0s finished\n",
      "\n",
      "[2022-07-14 13:12:50] Features: 5/13 -- score: 0.7187479392642937[Parallel(n_jobs=1)]: Using backend SequentialBackend with 1 concurrent workers.\n",
      "[Parallel(n_jobs=1)]: Done   1 out of   1 | elapsed:    0.0s remaining:    0.0s\n",
      "[Parallel(n_jobs=1)]: Done   8 out of   8 | elapsed:    0.0s finished\n",
      "\n",
      "[2022-07-14 13:12:50] Features: 6/13 -- score: 0.7414222684005407[Parallel(n_jobs=1)]: Using backend SequentialBackend with 1 concurrent workers.\n",
      "[Parallel(n_jobs=1)]: Done   1 out of   1 | elapsed:    0.0s remaining:    0.0s\n",
      "[Parallel(n_jobs=1)]: Done   7 out of   7 | elapsed:    0.0s finished\n",
      "\n",
      "[2022-07-14 13:12:50] Features: 7/13 -- score: 0.7442652495188229[Parallel(n_jobs=1)]: Using backend SequentialBackend with 1 concurrent workers.\n",
      "[Parallel(n_jobs=1)]: Done   1 out of   1 | elapsed:    0.0s remaining:    0.0s\n",
      "[Parallel(n_jobs=1)]: Done   6 out of   6 | elapsed:    0.0s finished\n",
      "\n",
      "[2022-07-14 13:12:50] Features: 8/13 -- score: 0.7487000899258187[Parallel(n_jobs=1)]: Using backend SequentialBackend with 1 concurrent workers.\n",
      "[Parallel(n_jobs=1)]: Done   1 out of   1 | elapsed:    0.0s remaining:    0.0s\n",
      "[Parallel(n_jobs=1)]: Done   5 out of   5 | elapsed:    0.0s finished\n",
      "\n",
      "[2022-07-14 13:12:50] Features: 9/13 -- score: 0.7597239384778413[Parallel(n_jobs=1)]: Using backend SequentialBackend with 1 concurrent workers.\n",
      "[Parallel(n_jobs=1)]: Done   1 out of   1 | elapsed:    0.0s remaining:    0.0s\n",
      "[Parallel(n_jobs=1)]: Done   4 out of   4 | elapsed:    0.0s finished\n",
      "\n",
      "[2022-07-14 13:12:50] Features: 10/13 -- score: 0.7631813847633703[Parallel(n_jobs=1)]: Using backend SequentialBackend with 1 concurrent workers.\n",
      "[Parallel(n_jobs=1)]: Done   1 out of   1 | elapsed:    0.0s remaining:    0.0s\n",
      "[Parallel(n_jobs=1)]: Done   3 out of   3 | elapsed:    0.0s finished\n",
      "\n",
      "[2022-07-14 13:12:50] Features: 11/13 -- score: 0.7651069427033197[Parallel(n_jobs=1)]: Using backend SequentialBackend with 1 concurrent workers.\n",
      "[Parallel(n_jobs=1)]: Done   1 out of   1 | elapsed:    0.0s remaining:    0.0s\n",
      "[Parallel(n_jobs=1)]: Done   2 out of   2 | elapsed:    0.0s finished\n",
      "\n",
      "[2022-07-14 13:12:50] Features: 12/13 -- score: 0.7645429519306918[Parallel(n_jobs=1)]: Using backend SequentialBackend with 1 concurrent workers.\n",
      "[Parallel(n_jobs=1)]: Done   1 out of   1 | elapsed:    0.0s remaining:    0.0s\n",
      "[Parallel(n_jobs=1)]: Done   1 out of   1 | elapsed:    0.0s finished\n",
      "\n",
      "[2022-07-14 13:12:50] Features: 13/13 -- score: 0.7638552771830744"
     ]
    }
   ],
   "source": [
    "sfs = SFS(LinearRegression(),\n",
    "         k_features = 13,\n",
    "         forward= True,\n",
    "         floating= False,\n",
    "         verbose= 2,\n",
    "         scoring='r2',\n",
    "         cv= 4, \n",
    "         n_jobs= 1\n",
    "         ).fit(X_train,y_train)"
   ]
  },
  {
   "cell_type": "code",
   "execution_count": 33,
   "id": "d4b1ee55",
   "metadata": {},
   "outputs": [
    {
     "name": "stdout",
     "output_type": "stream",
     "text": [
      "CV Score:\n"
     ]
    },
    {
     "data": {
      "text/plain": [
       "0.7638552771830744"
      ]
     },
     "execution_count": 33,
     "metadata": {},
     "output_type": "execute_result"
    }
   ],
   "source": [
    "print('CV Score:')\n",
    "sfs.k_score_"
   ]
  },
  {
   "cell_type": "code",
   "execution_count": 34,
   "id": "fd80b7b5",
   "metadata": {},
   "outputs": [
    {
     "data": {
      "text/plain": [
       "('COUPON',\n",
       " 'NEW',\n",
       " 'VACATION',\n",
       " 'SW',\n",
       " 'HI',\n",
       " 'S_INCOME',\n",
       " 'E_INCOME',\n",
       " 'S_POP',\n",
       " 'E_POP',\n",
       " 'SLOT',\n",
       " 'GATE',\n",
       " 'DISTANCE',\n",
       " 'PAX')"
      ]
     },
     "execution_count": 34,
     "metadata": {},
     "output_type": "execute_result"
    }
   ],
   "source": [
    "sfs.k_feature_names_"
   ]
  },
  {
   "cell_type": "code",
   "execution_count": 35,
   "id": "dc35b796",
   "metadata": {},
   "outputs": [
    {
     "data": {
      "text/html": [
       "<div>\n",
       "<style scoped>\n",
       "    .dataframe tbody tr th:only-of-type {\n",
       "        vertical-align: middle;\n",
       "    }\n",
       "\n",
       "    .dataframe tbody tr th {\n",
       "        vertical-align: top;\n",
       "    }\n",
       "\n",
       "    .dataframe thead th {\n",
       "        text-align: right;\n",
       "    }\n",
       "</style>\n",
       "<table border=\"1\" class=\"dataframe\">\n",
       "  <thead>\n",
       "    <tr style=\"text-align: right;\">\n",
       "      <th></th>\n",
       "      <th>feature_idx</th>\n",
       "      <th>cv_scores</th>\n",
       "      <th>avg_score</th>\n",
       "      <th>feature_names</th>\n",
       "      <th>ci_bound</th>\n",
       "      <th>std_dev</th>\n",
       "      <th>std_err</th>\n",
       "    </tr>\n",
       "  </thead>\n",
       "  <tbody>\n",
       "    <tr>\n",
       "      <th>1</th>\n",
       "      <td>(11,)</td>\n",
       "      <td>[0.4001660814671931, 0.26710182824167117, 0.36...</td>\n",
       "      <td>0.392216</td>\n",
       "      <td>(DISTANCE,)</td>\n",
       "      <td>0.153359</td>\n",
       "      <td>0.095671</td>\n",
       "      <td>0.055236</td>\n",
       "    </tr>\n",
       "    <tr>\n",
       "      <th>2</th>\n",
       "      <td>(3, 11)</td>\n",
       "      <td>[0.5721602706814546, 0.4908188819252739, 0.542...</td>\n",
       "      <td>0.561542</td>\n",
       "      <td>(SW, DISTANCE)</td>\n",
       "      <td>0.086588</td>\n",
       "      <td>0.054017</td>\n",
       "      <td>0.031187</td>\n",
       "    </tr>\n",
       "    <tr>\n",
       "      <th>3</th>\n",
       "      <td>(2, 3, 11)</td>\n",
       "      <td>[0.6920861367946469, 0.6407489106228288, 0.675...</td>\n",
       "      <td>0.683434</td>\n",
       "      <td>(VACATION, SW, DISTANCE)</td>\n",
       "      <td>0.048879</td>\n",
       "      <td>0.030493</td>\n",
       "      <td>0.017605</td>\n",
       "    </tr>\n",
       "    <tr>\n",
       "      <th>4</th>\n",
       "      <td>(2, 3, 4, 11)</td>\n",
       "      <td>[0.7227502846526248, 0.675673629643668, 0.7181...</td>\n",
       "      <td>0.702918</td>\n",
       "      <td>(VACATION, SW, HI, DISTANCE)</td>\n",
       "      <td>0.030297</td>\n",
       "      <td>0.0189</td>\n",
       "      <td>0.010912</td>\n",
       "    </tr>\n",
       "    <tr>\n",
       "      <th>5</th>\n",
       "      <td>(2, 3, 4, 10, 11)</td>\n",
       "      <td>[0.7387834606999026, 0.6805990125769864, 0.736...</td>\n",
       "      <td>0.718748</td>\n",
       "      <td>(VACATION, SW, HI, GATE, DISTANCE)</td>\n",
       "      <td>0.037378</td>\n",
       "      <td>0.023318</td>\n",
       "      <td>0.013463</td>\n",
       "    </tr>\n",
       "    <tr>\n",
       "      <th>6</th>\n",
       "      <td>(2, 3, 4, 9, 10, 11)</td>\n",
       "      <td>[0.77106528823955, 0.7156553979253646, 0.73996...</td>\n",
       "      <td>0.741422</td>\n",
       "      <td>(VACATION, SW, HI, SLOT, GATE, DISTANCE)</td>\n",
       "      <td>0.031561</td>\n",
       "      <td>0.019689</td>\n",
       "      <td>0.011367</td>\n",
       "    </tr>\n",
       "    <tr>\n",
       "      <th>7</th>\n",
       "      <td>(2, 3, 4, 9, 10, 11, 12)</td>\n",
       "      <td>[0.7759776872501167, 0.7114689080722043, 0.745...</td>\n",
       "      <td>0.744265</td>\n",
       "      <td>(VACATION, SW, HI, SLOT, GATE, DISTANCE, PAX)</td>\n",
       "      <td>0.036576</td>\n",
       "      <td>0.022818</td>\n",
       "      <td>0.013174</td>\n",
       "    </tr>\n",
       "    <tr>\n",
       "      <th>8</th>\n",
       "      <td>(2, 3, 4, 8, 9, 10, 11, 12)</td>\n",
       "      <td>[0.7773602217507869, 0.7219815713032967, 0.752...</td>\n",
       "      <td>0.7487</td>\n",
       "      <td>(VACATION, SW, HI, E_POP, SLOT, GATE, DISTANCE...</td>\n",
       "      <td>0.031821</td>\n",
       "      <td>0.019851</td>\n",
       "      <td>0.011461</td>\n",
       "    </tr>\n",
       "    <tr>\n",
       "      <th>9</th>\n",
       "      <td>(2, 3, 4, 7, 8, 9, 10, 11, 12)</td>\n",
       "      <td>[0.7851263432786988, 0.7379387672913919, 0.758...</td>\n",
       "      <td>0.759724</td>\n",
       "      <td>(VACATION, SW, HI, S_POP, E_POP, SLOT, GATE, D...</td>\n",
       "      <td>0.026915</td>\n",
       "      <td>0.016791</td>\n",
       "      <td>0.009694</td>\n",
       "    </tr>\n",
       "    <tr>\n",
       "      <th>10</th>\n",
       "      <td>(2, 3, 4, 6, 7, 8, 9, 10, 11, 12)</td>\n",
       "      <td>[0.7904540780043897, 0.7519638957375167, 0.757...</td>\n",
       "      <td>0.763181</td>\n",
       "      <td>(VACATION, SW, HI, E_INCOME, S_POP, E_POP, SLO...</td>\n",
       "      <td>0.025416</td>\n",
       "      <td>0.015856</td>\n",
       "      <td>0.009154</td>\n",
       "    </tr>\n",
       "    <tr>\n",
       "      <th>11</th>\n",
       "      <td>(1, 2, 3, 4, 6, 7, 8, 9, 10, 11, 12)</td>\n",
       "      <td>[0.7942843096640748, 0.7515706682485659, 0.757...</td>\n",
       "      <td>0.765107</td>\n",
       "      <td>(NEW, VACATION, SW, HI, E_INCOME, S_POP, E_POP...</td>\n",
       "      <td>0.027272</td>\n",
       "      <td>0.017014</td>\n",
       "      <td>0.009823</td>\n",
       "    </tr>\n",
       "    <tr>\n",
       "      <th>12</th>\n",
       "      <td>(1, 2, 3, 4, 5, 6, 7, 8, 9, 10, 11, 12)</td>\n",
       "      <td>[0.7937219329423495, 0.7538770690882873, 0.759...</td>\n",
       "      <td>0.764543</td>\n",
       "      <td>(NEW, VACATION, SW, HI, S_INCOME, E_INCOME, S_...</td>\n",
       "      <td>0.027526</td>\n",
       "      <td>0.017172</td>\n",
       "      <td>0.009914</td>\n",
       "    </tr>\n",
       "    <tr>\n",
       "      <th>13</th>\n",
       "      <td>(0, 1, 2, 3, 4, 5, 6, 7, 8, 9, 10, 11, 12)</td>\n",
       "      <td>[0.7932315855998741, 0.7530281137145611, 0.758...</td>\n",
       "      <td>0.763855</td>\n",
       "      <td>(COUPON, NEW, VACATION, SW, HI, S_INCOME, E_IN...</td>\n",
       "      <td>0.027642</td>\n",
       "      <td>0.017244</td>\n",
       "      <td>0.009956</td>\n",
       "    </tr>\n",
       "  </tbody>\n",
       "</table>\n",
       "</div>"
      ],
      "text/plain": [
       "                                   feature_idx  \\\n",
       "1                                        (11,)   \n",
       "2                                      (3, 11)   \n",
       "3                                   (2, 3, 11)   \n",
       "4                                (2, 3, 4, 11)   \n",
       "5                            (2, 3, 4, 10, 11)   \n",
       "6                         (2, 3, 4, 9, 10, 11)   \n",
       "7                     (2, 3, 4, 9, 10, 11, 12)   \n",
       "8                  (2, 3, 4, 8, 9, 10, 11, 12)   \n",
       "9               (2, 3, 4, 7, 8, 9, 10, 11, 12)   \n",
       "10           (2, 3, 4, 6, 7, 8, 9, 10, 11, 12)   \n",
       "11        (1, 2, 3, 4, 6, 7, 8, 9, 10, 11, 12)   \n",
       "12     (1, 2, 3, 4, 5, 6, 7, 8, 9, 10, 11, 12)   \n",
       "13  (0, 1, 2, 3, 4, 5, 6, 7, 8, 9, 10, 11, 12)   \n",
       "\n",
       "                                            cv_scores avg_score  \\\n",
       "1   [0.4001660814671931, 0.26710182824167117, 0.36...  0.392216   \n",
       "2   [0.5721602706814546, 0.4908188819252739, 0.542...  0.561542   \n",
       "3   [0.6920861367946469, 0.6407489106228288, 0.675...  0.683434   \n",
       "4   [0.7227502846526248, 0.675673629643668, 0.7181...  0.702918   \n",
       "5   [0.7387834606999026, 0.6805990125769864, 0.736...  0.718748   \n",
       "6   [0.77106528823955, 0.7156553979253646, 0.73996...  0.741422   \n",
       "7   [0.7759776872501167, 0.7114689080722043, 0.745...  0.744265   \n",
       "8   [0.7773602217507869, 0.7219815713032967, 0.752...    0.7487   \n",
       "9   [0.7851263432786988, 0.7379387672913919, 0.758...  0.759724   \n",
       "10  [0.7904540780043897, 0.7519638957375167, 0.757...  0.763181   \n",
       "11  [0.7942843096640748, 0.7515706682485659, 0.757...  0.765107   \n",
       "12  [0.7937219329423495, 0.7538770690882873, 0.759...  0.764543   \n",
       "13  [0.7932315855998741, 0.7530281137145611, 0.758...  0.763855   \n",
       "\n",
       "                                        feature_names  ci_bound   std_dev  \\\n",
       "1                                         (DISTANCE,)  0.153359  0.095671   \n",
       "2                                      (SW, DISTANCE)  0.086588  0.054017   \n",
       "3                            (VACATION, SW, DISTANCE)  0.048879  0.030493   \n",
       "4                        (VACATION, SW, HI, DISTANCE)  0.030297    0.0189   \n",
       "5                  (VACATION, SW, HI, GATE, DISTANCE)  0.037378  0.023318   \n",
       "6            (VACATION, SW, HI, SLOT, GATE, DISTANCE)  0.031561  0.019689   \n",
       "7       (VACATION, SW, HI, SLOT, GATE, DISTANCE, PAX)  0.036576  0.022818   \n",
       "8   (VACATION, SW, HI, E_POP, SLOT, GATE, DISTANCE...  0.031821  0.019851   \n",
       "9   (VACATION, SW, HI, S_POP, E_POP, SLOT, GATE, D...  0.026915  0.016791   \n",
       "10  (VACATION, SW, HI, E_INCOME, S_POP, E_POP, SLO...  0.025416  0.015856   \n",
       "11  (NEW, VACATION, SW, HI, E_INCOME, S_POP, E_POP...  0.027272  0.017014   \n",
       "12  (NEW, VACATION, SW, HI, S_INCOME, E_INCOME, S_...  0.027526  0.017172   \n",
       "13  (COUPON, NEW, VACATION, SW, HI, S_INCOME, E_IN...  0.027642  0.017244   \n",
       "\n",
       "     std_err  \n",
       "1   0.055236  \n",
       "2   0.031187  \n",
       "3   0.017605  \n",
       "4   0.010912  \n",
       "5   0.013463  \n",
       "6   0.011367  \n",
       "7   0.013174  \n",
       "8   0.011461  \n",
       "9   0.009694  \n",
       "10  0.009154  \n",
       "11  0.009823  \n",
       "12  0.009914  \n",
       "13  0.009956  "
      ]
     },
     "execution_count": 35,
     "metadata": {},
     "output_type": "execute_result"
    }
   ],
   "source": [
    "pd.DataFrame.from_dict(sfs.get_metric_dict()).T"
   ]
  },
  {
   "cell_type": "markdown",
   "id": "3312a765",
   "metadata": {},
   "source": [
    "Podemos apreciar el avg_score, empieza a disminuir, esto nos dice que, con 11 variables, el modelo de regresión lineal genera el mejor resultado."
   ]
  },
  {
   "cell_type": "markdown",
   "id": "ca67d49b",
   "metadata": {},
   "source": [
    "###  2. Sequential Forward Floating Selection (SFFS)"
   ]
  },
  {
   "cell_type": "code",
   "execution_count": 38,
   "id": "16f1361b",
   "metadata": {},
   "outputs": [
    {
     "name": "stderr",
     "output_type": "stream",
     "text": [
      "[Parallel(n_jobs=1)]: Using backend SequentialBackend with 1 concurrent workers.\n",
      "[Parallel(n_jobs=1)]: Done   1 out of   1 | elapsed:    0.0s remaining:    0.0s\n",
      "[Parallel(n_jobs=1)]: Done  13 out of  13 | elapsed:    0.0s finished\n",
      "\n",
      "[2022-07-14 13:13:51] Features: 1/13 -- score: 0.39221558013451296[Parallel(n_jobs=1)]: Using backend SequentialBackend with 1 concurrent workers.\n",
      "[Parallel(n_jobs=1)]: Done   1 out of   1 | elapsed:    0.0s remaining:    0.0s\n",
      "[Parallel(n_jobs=1)]: Done  12 out of  12 | elapsed:    0.0s finished\n",
      "[Parallel(n_jobs=1)]: Using backend SequentialBackend with 1 concurrent workers.\n",
      "[Parallel(n_jobs=1)]: Done   1 out of   1 | elapsed:    0.0s remaining:    0.0s\n",
      "[Parallel(n_jobs=1)]: Done   1 out of   1 | elapsed:    0.0s finished\n",
      "\n",
      "[2022-07-14 13:13:51] Features: 2/13 -- score: 0.5615418818258877[Parallel(n_jobs=1)]: Using backend SequentialBackend with 1 concurrent workers.\n",
      "[Parallel(n_jobs=1)]: Done   1 out of   1 | elapsed:    0.0s remaining:    0.0s\n",
      "[Parallel(n_jobs=1)]: Done  11 out of  11 | elapsed:    0.0s finished\n",
      "[Parallel(n_jobs=1)]: Using backend SequentialBackend with 1 concurrent workers.\n",
      "[Parallel(n_jobs=1)]: Done   1 out of   1 | elapsed:    0.0s remaining:    0.0s\n",
      "[Parallel(n_jobs=1)]: Done   2 out of   2 | elapsed:    0.0s finished\n",
      "\n",
      "[2022-07-14 13:13:51] Features: 3/13 -- score: 0.6834338015636586[Parallel(n_jobs=1)]: Using backend SequentialBackend with 1 concurrent workers.\n",
      "[Parallel(n_jobs=1)]: Done   1 out of   1 | elapsed:    0.0s remaining:    0.0s\n",
      "[Parallel(n_jobs=1)]: Done  10 out of  10 | elapsed:    0.0s finished\n",
      "[Parallel(n_jobs=1)]: Using backend SequentialBackend with 1 concurrent workers.\n",
      "[Parallel(n_jobs=1)]: Done   1 out of   1 | elapsed:    0.0s remaining:    0.0s\n",
      "[Parallel(n_jobs=1)]: Done   3 out of   3 | elapsed:    0.0s finished\n",
      "\n",
      "[2022-07-14 13:13:52] Features: 4/13 -- score: 0.7029179513238596[Parallel(n_jobs=1)]: Using backend SequentialBackend with 1 concurrent workers.\n",
      "[Parallel(n_jobs=1)]: Done   1 out of   1 | elapsed:    0.0s remaining:    0.0s\n",
      "[Parallel(n_jobs=1)]: Done   9 out of   9 | elapsed:    0.0s finished\n",
      "[Parallel(n_jobs=1)]: Using backend SequentialBackend with 1 concurrent workers.\n",
      "[Parallel(n_jobs=1)]: Done   1 out of   1 | elapsed:    0.0s remaining:    0.0s\n",
      "[Parallel(n_jobs=1)]: Done   4 out of   4 | elapsed:    0.0s finished\n",
      "\n",
      "[2022-07-14 13:13:52] Features: 5/13 -- score: 0.7187479392642937[Parallel(n_jobs=1)]: Using backend SequentialBackend with 1 concurrent workers.\n",
      "[Parallel(n_jobs=1)]: Done   1 out of   1 | elapsed:    0.0s remaining:    0.0s\n",
      "[Parallel(n_jobs=1)]: Done   8 out of   8 | elapsed:    0.0s finished\n",
      "[Parallel(n_jobs=1)]: Using backend SequentialBackend with 1 concurrent workers.\n",
      "[Parallel(n_jobs=1)]: Done   1 out of   1 | elapsed:    0.0s remaining:    0.0s\n",
      "[Parallel(n_jobs=1)]: Done   5 out of   5 | elapsed:    0.0s finished\n",
      "\n",
      "[2022-07-14 13:13:52] Features: 6/13 -- score: 0.7414222684005407[Parallel(n_jobs=1)]: Using backend SequentialBackend with 1 concurrent workers.\n",
      "[Parallel(n_jobs=1)]: Done   1 out of   1 | elapsed:    0.0s remaining:    0.0s\n",
      "[Parallel(n_jobs=1)]: Done   7 out of   7 | elapsed:    0.0s finished\n",
      "[Parallel(n_jobs=1)]: Using backend SequentialBackend with 1 concurrent workers.\n",
      "[Parallel(n_jobs=1)]: Done   1 out of   1 | elapsed:    0.0s remaining:    0.0s\n",
      "[Parallel(n_jobs=1)]: Done   6 out of   6 | elapsed:    0.0s finished\n",
      "\n",
      "[2022-07-14 13:13:52] Features: 7/13 -- score: 0.7442652495188229[Parallel(n_jobs=1)]: Using backend SequentialBackend with 1 concurrent workers.\n",
      "[Parallel(n_jobs=1)]: Done   1 out of   1 | elapsed:    0.0s remaining:    0.0s\n",
      "[Parallel(n_jobs=1)]: Done   6 out of   6 | elapsed:    0.0s finished\n",
      "[Parallel(n_jobs=1)]: Using backend SequentialBackend with 1 concurrent workers.\n",
      "[Parallel(n_jobs=1)]: Done   1 out of   1 | elapsed:    0.0s remaining:    0.0s\n",
      "[Parallel(n_jobs=1)]: Done   7 out of   7 | elapsed:    0.0s finished\n",
      "\n",
      "[2022-07-14 13:13:52] Features: 8/13 -- score: 0.7487000899258187[Parallel(n_jobs=1)]: Using backend SequentialBackend with 1 concurrent workers.\n",
      "[Parallel(n_jobs=1)]: Done   1 out of   1 | elapsed:    0.0s remaining:    0.0s\n",
      "[Parallel(n_jobs=1)]: Done   5 out of   5 | elapsed:    0.0s finished\n",
      "[Parallel(n_jobs=1)]: Using backend SequentialBackend with 1 concurrent workers.\n",
      "[Parallel(n_jobs=1)]: Done   1 out of   1 | elapsed:    0.0s remaining:    0.0s\n",
      "[Parallel(n_jobs=1)]: Done   8 out of   8 | elapsed:    0.0s finished\n",
      "\n",
      "[2022-07-14 13:13:52] Features: 9/13 -- score: 0.7597239384778413[Parallel(n_jobs=1)]: Using backend SequentialBackend with 1 concurrent workers.\n",
      "[Parallel(n_jobs=1)]: Done   1 out of   1 | elapsed:    0.0s remaining:    0.0s\n",
      "[Parallel(n_jobs=1)]: Done   4 out of   4 | elapsed:    0.0s finished\n",
      "[Parallel(n_jobs=1)]: Using backend SequentialBackend with 1 concurrent workers.\n",
      "[Parallel(n_jobs=1)]: Done   1 out of   1 | elapsed:    0.0s remaining:    0.0s\n",
      "[Parallel(n_jobs=1)]: Done   9 out of   9 | elapsed:    0.0s finished\n",
      "\n",
      "[2022-07-14 13:13:52] Features: 10/13 -- score: 0.7631813847633703[Parallel(n_jobs=1)]: Using backend SequentialBackend with 1 concurrent workers.\n",
      "[Parallel(n_jobs=1)]: Done   1 out of   1 | elapsed:    0.0s remaining:    0.0s\n",
      "[Parallel(n_jobs=1)]: Done   3 out of   3 | elapsed:    0.0s finished\n",
      "[Parallel(n_jobs=1)]: Using backend SequentialBackend with 1 concurrent workers.\n",
      "[Parallel(n_jobs=1)]: Done   1 out of   1 | elapsed:    0.0s remaining:    0.0s\n",
      "[Parallel(n_jobs=1)]: Done  10 out of  10 | elapsed:    0.0s finished\n",
      "\n",
      "[2022-07-14 13:13:52] Features: 11/13 -- score: 0.7651069427033197[Parallel(n_jobs=1)]: Using backend SequentialBackend with 1 concurrent workers.\n",
      "[Parallel(n_jobs=1)]: Done   1 out of   1 | elapsed:    0.0s remaining:    0.0s\n",
      "[Parallel(n_jobs=1)]: Done   2 out of   2 | elapsed:    0.0s finished\n",
      "[Parallel(n_jobs=1)]: Using backend SequentialBackend with 1 concurrent workers.\n",
      "[Parallel(n_jobs=1)]: Done   1 out of   1 | elapsed:    0.0s remaining:    0.0s\n",
      "[Parallel(n_jobs=1)]: Done  11 out of  11 | elapsed:    0.0s finished\n",
      "\n",
      "[2022-07-14 13:13:52] Features: 12/13 -- score: 0.7645429519306918[Parallel(n_jobs=1)]: Using backend SequentialBackend with 1 concurrent workers.\n",
      "[Parallel(n_jobs=1)]: Done   1 out of   1 | elapsed:    0.0s remaining:    0.0s\n",
      "[Parallel(n_jobs=1)]: Done   1 out of   1 | elapsed:    0.0s finished\n",
      "[Parallel(n_jobs=1)]: Using backend SequentialBackend with 1 concurrent workers.\n",
      "[Parallel(n_jobs=1)]: Done   1 out of   1 | elapsed:    0.0s remaining:    0.0s\n",
      "[Parallel(n_jobs=1)]: Done  12 out of  12 | elapsed:    0.0s finished\n",
      "\n",
      "[2022-07-14 13:13:52] Features: 13/13 -- score: 0.7638552771830744"
     ]
    }
   ],
   "source": [
    "sffs = SFS(LinearRegression(),\n",
    "         k_features = 13,\n",
    "         forward= True,\n",
    "         floating= True,\n",
    "         verbose= 2,\n",
    "         scoring='r2',\n",
    "         cv= 4, \n",
    "         n_jobs= 1\n",
    "         ).fit(X_train,y_train)"
   ]
  },
  {
   "cell_type": "code",
   "execution_count": 40,
   "id": "475accdc",
   "metadata": {},
   "outputs": [
    {
     "name": "stdout",
     "output_type": "stream",
     "text": [
      "CV Score:\n",
      "0.7638552771830744\n"
     ]
    }
   ],
   "source": [
    "print('CV Score:')\n",
    "print(sffs.k_score_)"
   ]
  },
  {
   "cell_type": "markdown",
   "id": "47e4cc7c",
   "metadata": {},
   "source": [
    "### Sequential Backward Floating Selection (SBFS)"
   ]
  },
  {
   "cell_type": "code",
   "execution_count": 41,
   "id": "585c481d",
   "metadata": {},
   "outputs": [
    {
     "name": "stderr",
     "output_type": "stream",
     "text": [
      "[Parallel(n_jobs=1)]: Using backend SequentialBackend with 1 concurrent workers.\n",
      "[Parallel(n_jobs=1)]: Done   1 out of   1 | elapsed:    0.0s remaining:    0.0s\n",
      "[Parallel(n_jobs=1)]: Done  13 out of  13 | elapsed:    0.0s finished\n",
      "\n",
      "[2022-07-14 13:14:39] Features: 1/13 -- score: 0.39221558013451296[Parallel(n_jobs=1)]: Using backend SequentialBackend with 1 concurrent workers.\n",
      "[Parallel(n_jobs=1)]: Done   1 out of   1 | elapsed:    0.0s remaining:    0.0s\n",
      "[Parallel(n_jobs=1)]: Done  12 out of  12 | elapsed:    0.0s finished\n",
      "[Parallel(n_jobs=1)]: Using backend SequentialBackend with 1 concurrent workers.\n",
      "[Parallel(n_jobs=1)]: Done   1 out of   1 | elapsed:    0.0s remaining:    0.0s\n",
      "[Parallel(n_jobs=1)]: Done   1 out of   1 | elapsed:    0.0s finished\n",
      "\n",
      "[2022-07-14 13:14:39] Features: 2/13 -- score: 0.5615418818258877[Parallel(n_jobs=1)]: Using backend SequentialBackend with 1 concurrent workers.\n",
      "[Parallel(n_jobs=1)]: Done   1 out of   1 | elapsed:    0.0s remaining:    0.0s\n",
      "[Parallel(n_jobs=1)]: Done  11 out of  11 | elapsed:    0.0s finished\n",
      "[Parallel(n_jobs=1)]: Using backend SequentialBackend with 1 concurrent workers.\n",
      "[Parallel(n_jobs=1)]: Done   1 out of   1 | elapsed:    0.0s remaining:    0.0s\n",
      "[Parallel(n_jobs=1)]: Done   2 out of   2 | elapsed:    0.0s finished\n",
      "\n",
      "[2022-07-14 13:14:39] Features: 3/13 -- score: 0.6834338015636586[Parallel(n_jobs=1)]: Using backend SequentialBackend with 1 concurrent workers.\n",
      "[Parallel(n_jobs=1)]: Done   1 out of   1 | elapsed:    0.0s remaining:    0.0s\n",
      "[Parallel(n_jobs=1)]: Done  10 out of  10 | elapsed:    0.0s finished\n",
      "[Parallel(n_jobs=1)]: Using backend SequentialBackend with 1 concurrent workers.\n",
      "[Parallel(n_jobs=1)]: Done   1 out of   1 | elapsed:    0.0s remaining:    0.0s\n",
      "[Parallel(n_jobs=1)]: Done   3 out of   3 | elapsed:    0.0s finished\n",
      "\n",
      "[2022-07-14 13:14:39] Features: 4/13 -- score: 0.7029179513238596[Parallel(n_jobs=1)]: Using backend SequentialBackend with 1 concurrent workers.\n",
      "[Parallel(n_jobs=1)]: Done   1 out of   1 | elapsed:    0.0s remaining:    0.0s\n",
      "[Parallel(n_jobs=1)]: Done   9 out of   9 | elapsed:    0.0s finished\n",
      "[Parallel(n_jobs=1)]: Using backend SequentialBackend with 1 concurrent workers.\n",
      "[Parallel(n_jobs=1)]: Done   1 out of   1 | elapsed:    0.0s remaining:    0.0s\n",
      "[Parallel(n_jobs=1)]: Done   4 out of   4 | elapsed:    0.0s finished\n",
      "\n",
      "[2022-07-14 13:14:40] Features: 5/13 -- score: 0.7187479392642937[Parallel(n_jobs=1)]: Using backend SequentialBackend with 1 concurrent workers.\n",
      "[Parallel(n_jobs=1)]: Done   1 out of   1 | elapsed:    0.0s remaining:    0.0s\n",
      "[Parallel(n_jobs=1)]: Done   8 out of   8 | elapsed:    0.0s finished\n",
      "[Parallel(n_jobs=1)]: Using backend SequentialBackend with 1 concurrent workers.\n",
      "[Parallel(n_jobs=1)]: Done   1 out of   1 | elapsed:    0.0s remaining:    0.0s\n",
      "[Parallel(n_jobs=1)]: Done   5 out of   5 | elapsed:    0.0s finished\n",
      "\n",
      "[2022-07-14 13:14:40] Features: 6/13 -- score: 0.7414222684005407[Parallel(n_jobs=1)]: Using backend SequentialBackend with 1 concurrent workers.\n",
      "[Parallel(n_jobs=1)]: Done   1 out of   1 | elapsed:    0.0s remaining:    0.0s\n",
      "[Parallel(n_jobs=1)]: Done   7 out of   7 | elapsed:    0.0s finished\n",
      "[Parallel(n_jobs=1)]: Using backend SequentialBackend with 1 concurrent workers.\n",
      "[Parallel(n_jobs=1)]: Done   1 out of   1 | elapsed:    0.0s remaining:    0.0s\n",
      "[Parallel(n_jobs=1)]: Done   6 out of   6 | elapsed:    0.0s finished\n",
      "\n",
      "[2022-07-14 13:14:40] Features: 7/13 -- score: 0.7442652495188229[Parallel(n_jobs=1)]: Using backend SequentialBackend with 1 concurrent workers.\n",
      "[Parallel(n_jobs=1)]: Done   1 out of   1 | elapsed:    0.0s remaining:    0.0s\n",
      "[Parallel(n_jobs=1)]: Done   6 out of   6 | elapsed:    0.0s finished\n",
      "[Parallel(n_jobs=1)]: Using backend SequentialBackend with 1 concurrent workers.\n",
      "[Parallel(n_jobs=1)]: Done   1 out of   1 | elapsed:    0.0s remaining:    0.0s\n",
      "[Parallel(n_jobs=1)]: Done   7 out of   7 | elapsed:    0.0s finished\n",
      "\n",
      "[2022-07-14 13:14:40] Features: 8/13 -- score: 0.7487000899258187[Parallel(n_jobs=1)]: Using backend SequentialBackend with 1 concurrent workers.\n",
      "[Parallel(n_jobs=1)]: Done   1 out of   1 | elapsed:    0.0s remaining:    0.0s\n",
      "[Parallel(n_jobs=1)]: Done   5 out of   5 | elapsed:    0.0s finished\n",
      "[Parallel(n_jobs=1)]: Using backend SequentialBackend with 1 concurrent workers.\n",
      "[Parallel(n_jobs=1)]: Done   1 out of   1 | elapsed:    0.0s remaining:    0.0s\n",
      "[Parallel(n_jobs=1)]: Done   8 out of   8 | elapsed:    0.0s finished\n",
      "\n",
      "[2022-07-14 13:14:40] Features: 9/13 -- score: 0.7597239384778413[Parallel(n_jobs=1)]: Using backend SequentialBackend with 1 concurrent workers.\n",
      "[Parallel(n_jobs=1)]: Done   1 out of   1 | elapsed:    0.0s remaining:    0.0s\n",
      "[Parallel(n_jobs=1)]: Done   4 out of   4 | elapsed:    0.0s finished\n",
      "[Parallel(n_jobs=1)]: Using backend SequentialBackend with 1 concurrent workers.\n",
      "[Parallel(n_jobs=1)]: Done   1 out of   1 | elapsed:    0.0s remaining:    0.0s\n",
      "[Parallel(n_jobs=1)]: Done   9 out of   9 | elapsed:    0.0s finished\n",
      "\n",
      "[2022-07-14 13:14:40] Features: 10/13 -- score: 0.7631813847633703[Parallel(n_jobs=1)]: Using backend SequentialBackend with 1 concurrent workers.\n",
      "[Parallel(n_jobs=1)]: Done   1 out of   1 | elapsed:    0.0s remaining:    0.0s\n",
      "[Parallel(n_jobs=1)]: Done   3 out of   3 | elapsed:    0.0s finished\n",
      "[Parallel(n_jobs=1)]: Using backend SequentialBackend with 1 concurrent workers.\n",
      "[Parallel(n_jobs=1)]: Done   1 out of   1 | elapsed:    0.0s remaining:    0.0s\n",
      "[Parallel(n_jobs=1)]: Done  10 out of  10 | elapsed:    0.0s finished\n",
      "\n",
      "[2022-07-14 13:14:40] Features: 11/13 -- score: 0.7651069427033197[Parallel(n_jobs=1)]: Using backend SequentialBackend with 1 concurrent workers.\n",
      "[Parallel(n_jobs=1)]: Done   1 out of   1 | elapsed:    0.0s remaining:    0.0s\n",
      "[Parallel(n_jobs=1)]: Done   2 out of   2 | elapsed:    0.0s finished\n",
      "[Parallel(n_jobs=1)]: Using backend SequentialBackend with 1 concurrent workers.\n",
      "[Parallel(n_jobs=1)]: Done   1 out of   1 | elapsed:    0.0s remaining:    0.0s\n",
      "[Parallel(n_jobs=1)]: Done  11 out of  11 | elapsed:    0.0s finished\n",
      "\n",
      "[2022-07-14 13:14:40] Features: 12/13 -- score: 0.7645429519306918[Parallel(n_jobs=1)]: Using backend SequentialBackend with 1 concurrent workers.\n",
      "[Parallel(n_jobs=1)]: Done   1 out of   1 | elapsed:    0.0s remaining:    0.0s\n",
      "[Parallel(n_jobs=1)]: Done   1 out of   1 | elapsed:    0.0s finished\n",
      "[Parallel(n_jobs=1)]: Using backend SequentialBackend with 1 concurrent workers.\n",
      "[Parallel(n_jobs=1)]: Done   1 out of   1 | elapsed:    0.0s remaining:    0.0s\n",
      "[Parallel(n_jobs=1)]: Done  12 out of  12 | elapsed:    0.0s finished\n",
      "\n",
      "[2022-07-14 13:14:40] Features: 13/13 -- score: 0.7638552771830744"
     ]
    }
   ],
   "source": [
    "sbfs = SFS(LinearRegression(),\n",
    "         k_features = 13,\n",
    "         forward= True,\n",
    "         floating= True,\n",
    "         verbose= 2,\n",
    "         scoring='r2',\n",
    "         cv= 4, \n",
    "         n_jobs= 1\n",
    "         ).fit(X_train,y_train)"
   ]
  },
  {
   "cell_type": "code",
   "execution_count": 43,
   "id": "9eb0a144",
   "metadata": {},
   "outputs": [
    {
     "name": "stdout",
     "output_type": "stream",
     "text": [
      "CV Score:\n",
      "0.7638552771830744\n"
     ]
    }
   ],
   "source": [
    "print('CV Score:')\n",
    "print(sbfs.k_score_)"
   ]
  },
  {
   "cell_type": "markdown",
   "id": "edef13a0",
   "metadata": {},
   "source": [
    "con los dos ultimos modelos obtenemos el mismo resultado"
   ]
  },
  {
   "cell_type": "markdown",
   "id": "6fa57368",
   "metadata": {},
   "source": [
    "### d)\tCompare el rendimiento de un modelo simple que incluya sólo los dos predictores identificados en las partes (a) y (b) con el modelo o modelos identificados en las partes c y d con respecto al error del conjunto de validación."
   ]
  },
  {
   "cell_type": "markdown",
   "id": "65528841",
   "metadata": {},
   "source": [
    "**MODELO Regresión Lineal**\n",
    "\n",
    "* Modelo simple que incluya sólo los dos predictores "
   ]
  },
  {
   "cell_type": "code",
   "execution_count": 44,
   "id": "8c4fa687",
   "metadata": {},
   "outputs": [],
   "source": [
    "from sklearn.metrics import mean_squared_error, r2_score\n",
    "from sklearn.metrics import mean_absolute_error\n",
    "from sklearn.metrics import classification_report"
   ]
  },
  {
   "cell_type": "code",
   "execution_count": 45,
   "id": "078b671a",
   "metadata": {},
   "outputs": [
    {
     "data": {
      "text/html": [
       "<div>\n",
       "<style scoped>\n",
       "    .dataframe tbody tr th:only-of-type {\n",
       "        vertical-align: middle;\n",
       "    }\n",
       "\n",
       "    .dataframe tbody tr th {\n",
       "        vertical-align: top;\n",
       "    }\n",
       "\n",
       "    .dataframe thead th {\n",
       "        text-align: right;\n",
       "    }\n",
       "</style>\n",
       "<table border=\"1\" class=\"dataframe\">\n",
       "  <thead>\n",
       "    <tr style=\"text-align: right;\">\n",
       "      <th></th>\n",
       "      <th>COUPON</th>\n",
       "      <th>NEW</th>\n",
       "      <th>VACATION</th>\n",
       "      <th>SW</th>\n",
       "      <th>HI</th>\n",
       "      <th>S_INCOME</th>\n",
       "      <th>E_INCOME</th>\n",
       "      <th>S_POP</th>\n",
       "      <th>E_POP</th>\n",
       "      <th>SLOT</th>\n",
       "      <th>GATE</th>\n",
       "      <th>DISTANCE</th>\n",
       "      <th>PAX</th>\n",
       "      <th>FARE</th>\n",
       "    </tr>\n",
       "  </thead>\n",
       "  <tbody>\n",
       "    <tr>\n",
       "      <th>0</th>\n",
       "      <td>1.00</td>\n",
       "      <td>3</td>\n",
       "      <td>0</td>\n",
       "      <td>1</td>\n",
       "      <td>5291.99</td>\n",
       "      <td>28637</td>\n",
       "      <td>21112</td>\n",
       "      <td>3036732</td>\n",
       "      <td>205711</td>\n",
       "      <td>1</td>\n",
       "      <td>1</td>\n",
       "      <td>312</td>\n",
       "      <td>7864</td>\n",
       "      <td>64.11</td>\n",
       "    </tr>\n",
       "    <tr>\n",
       "      <th>1</th>\n",
       "      <td>1.06</td>\n",
       "      <td>3</td>\n",
       "      <td>0</td>\n",
       "      <td>0</td>\n",
       "      <td>5419.16</td>\n",
       "      <td>26993</td>\n",
       "      <td>29838</td>\n",
       "      <td>3532657</td>\n",
       "      <td>7145897</td>\n",
       "      <td>1</td>\n",
       "      <td>1</td>\n",
       "      <td>576</td>\n",
       "      <td>8820</td>\n",
       "      <td>174.47</td>\n",
       "    </tr>\n",
       "    <tr>\n",
       "      <th>2</th>\n",
       "      <td>1.06</td>\n",
       "      <td>3</td>\n",
       "      <td>0</td>\n",
       "      <td>0</td>\n",
       "      <td>9185.28</td>\n",
       "      <td>30124</td>\n",
       "      <td>29838</td>\n",
       "      <td>5787293</td>\n",
       "      <td>7145897</td>\n",
       "      <td>1</td>\n",
       "      <td>1</td>\n",
       "      <td>364</td>\n",
       "      <td>6452</td>\n",
       "      <td>207.76</td>\n",
       "    </tr>\n",
       "    <tr>\n",
       "      <th>3</th>\n",
       "      <td>1.06</td>\n",
       "      <td>3</td>\n",
       "      <td>0</td>\n",
       "      <td>1</td>\n",
       "      <td>2657.35</td>\n",
       "      <td>29260</td>\n",
       "      <td>29838</td>\n",
       "      <td>7830332</td>\n",
       "      <td>7145897</td>\n",
       "      <td>0</td>\n",
       "      <td>1</td>\n",
       "      <td>612</td>\n",
       "      <td>25144</td>\n",
       "      <td>85.47</td>\n",
       "    </tr>\n",
       "    <tr>\n",
       "      <th>4</th>\n",
       "      <td>1.06</td>\n",
       "      <td>3</td>\n",
       "      <td>0</td>\n",
       "      <td>1</td>\n",
       "      <td>2657.35</td>\n",
       "      <td>29260</td>\n",
       "      <td>29838</td>\n",
       "      <td>7830332</td>\n",
       "      <td>7145897</td>\n",
       "      <td>1</td>\n",
       "      <td>1</td>\n",
       "      <td>612</td>\n",
       "      <td>25144</td>\n",
       "      <td>85.47</td>\n",
       "    </tr>\n",
       "    <tr>\n",
       "      <th>...</th>\n",
       "      <td>...</td>\n",
       "      <td>...</td>\n",
       "      <td>...</td>\n",
       "      <td>...</td>\n",
       "      <td>...</td>\n",
       "      <td>...</td>\n",
       "      <td>...</td>\n",
       "      <td>...</td>\n",
       "      <td>...</td>\n",
       "      <td>...</td>\n",
       "      <td>...</td>\n",
       "      <td>...</td>\n",
       "      <td>...</td>\n",
       "      <td>...</td>\n",
       "    </tr>\n",
       "    <tr>\n",
       "      <th>633</th>\n",
       "      <td>1.08</td>\n",
       "      <td>3</td>\n",
       "      <td>1</td>\n",
       "      <td>0</td>\n",
       "      <td>2216.70</td>\n",
       "      <td>32991</td>\n",
       "      <td>37375</td>\n",
       "      <td>8621121</td>\n",
       "      <td>991717</td>\n",
       "      <td>0</td>\n",
       "      <td>1</td>\n",
       "      <td>1030</td>\n",
       "      <td>34324</td>\n",
       "      <td>129.63</td>\n",
       "    </tr>\n",
       "    <tr>\n",
       "      <th>634</th>\n",
       "      <td>1.08</td>\n",
       "      <td>0</td>\n",
       "      <td>1</td>\n",
       "      <td>0</td>\n",
       "      <td>2216.70</td>\n",
       "      <td>32991</td>\n",
       "      <td>37375</td>\n",
       "      <td>8621121</td>\n",
       "      <td>991717</td>\n",
       "      <td>1</td>\n",
       "      <td>0</td>\n",
       "      <td>1030</td>\n",
       "      <td>34324</td>\n",
       "      <td>129.63</td>\n",
       "    </tr>\n",
       "    <tr>\n",
       "      <th>635</th>\n",
       "      <td>1.17</td>\n",
       "      <td>3</td>\n",
       "      <td>1</td>\n",
       "      <td>0</td>\n",
       "      <td>6797.80</td>\n",
       "      <td>27994</td>\n",
       "      <td>37375</td>\n",
       "      <td>4948339</td>\n",
       "      <td>991717</td>\n",
       "      <td>1</td>\n",
       "      <td>1</td>\n",
       "      <td>960</td>\n",
       "      <td>6016</td>\n",
       "      <td>124.87</td>\n",
       "    </tr>\n",
       "    <tr>\n",
       "      <th>636</th>\n",
       "      <td>1.28</td>\n",
       "      <td>3</td>\n",
       "      <td>1</td>\n",
       "      <td>0</td>\n",
       "      <td>5566.43</td>\n",
       "      <td>31981</td>\n",
       "      <td>37375</td>\n",
       "      <td>4549784</td>\n",
       "      <td>991717</td>\n",
       "      <td>1</td>\n",
       "      <td>1</td>\n",
       "      <td>858</td>\n",
       "      <td>4877</td>\n",
       "      <td>129.62</td>\n",
       "    </tr>\n",
       "    <tr>\n",
       "      <th>637</th>\n",
       "      <td>1.28</td>\n",
       "      <td>3</td>\n",
       "      <td>1</td>\n",
       "      <td>0</td>\n",
       "      <td>5566.43</td>\n",
       "      <td>31981</td>\n",
       "      <td>37375</td>\n",
       "      <td>4549784</td>\n",
       "      <td>991717</td>\n",
       "      <td>0</td>\n",
       "      <td>1</td>\n",
       "      <td>858</td>\n",
       "      <td>4877</td>\n",
       "      <td>129.62</td>\n",
       "    </tr>\n",
       "  </tbody>\n",
       "</table>\n",
       "<p>638 rows × 14 columns</p>\n",
       "</div>"
      ],
      "text/plain": [
       "     COUPON  NEW  VACATION  SW       HI  S_INCOME  E_INCOME    S_POP    E_POP  \\\n",
       "0      1.00    3         0   1  5291.99     28637     21112  3036732   205711   \n",
       "1      1.06    3         0   0  5419.16     26993     29838  3532657  7145897   \n",
       "2      1.06    3         0   0  9185.28     30124     29838  5787293  7145897   \n",
       "3      1.06    3         0   1  2657.35     29260     29838  7830332  7145897   \n",
       "4      1.06    3         0   1  2657.35     29260     29838  7830332  7145897   \n",
       "..      ...  ...       ...  ..      ...       ...       ...      ...      ...   \n",
       "633    1.08    3         1   0  2216.70     32991     37375  8621121   991717   \n",
       "634    1.08    0         1   0  2216.70     32991     37375  8621121   991717   \n",
       "635    1.17    3         1   0  6797.80     27994     37375  4948339   991717   \n",
       "636    1.28    3         1   0  5566.43     31981     37375  4549784   991717   \n",
       "637    1.28    3         1   0  5566.43     31981     37375  4549784   991717   \n",
       "\n",
       "     SLOT  GATE  DISTANCE    PAX    FARE  \n",
       "0       1     1       312   7864   64.11  \n",
       "1       1     1       576   8820  174.47  \n",
       "2       1     1       364   6452  207.76  \n",
       "3       0     1       612  25144   85.47  \n",
       "4       1     1       612  25144   85.47  \n",
       "..    ...   ...       ...    ...     ...  \n",
       "633     0     1      1030  34324  129.63  \n",
       "634     1     0      1030  34324  129.63  \n",
       "635     1     1       960   6016  124.87  \n",
       "636     1     1       858   4877  129.62  \n",
       "637     0     1       858   4877  129.62  \n",
       "\n",
       "[638 rows x 14 columns]"
      ]
     },
     "execution_count": 45,
     "metadata": {},
     "output_type": "execute_result"
    }
   ],
   "source": [
    "df_model"
   ]
  },
  {
   "cell_type": "code",
   "execution_count": 46,
   "id": "5de28e25",
   "metadata": {},
   "outputs": [],
   "source": [
    "X=df_model[['DISTANCE','SW']]\n",
    "y=df_model['FARE']"
   ]
  },
  {
   "cell_type": "code",
   "execution_count": 47,
   "id": "c34e7d4d",
   "metadata": {},
   "outputs": [
    {
     "data": {
      "text/plain": [
       "((382, 2), (256, 2))"
      ]
     },
     "execution_count": 47,
     "metadata": {},
     "output_type": "execute_result"
    }
   ],
   "source": [
    "X_train, X_test , y_train , y_test = train_test_split(X,y,test_size=0.4, random_state=42)\n",
    "X_train.shape,X_test.shape"
   ]
  },
  {
   "cell_type": "code",
   "execution_count": 48,
   "id": "9432e0c9",
   "metadata": {},
   "outputs": [],
   "source": [
    "model1 = LinearRegression()\n",
    "model1 = model1.fit(X_train, y_train)"
   ]
  },
  {
   "cell_type": "code",
   "execution_count": 49,
   "id": "aaf3f310",
   "metadata": {},
   "outputs": [
    {
     "name": "stdout",
     "output_type": "stream",
     "text": [
      "********************************************\n",
      "Para el conjunto de datos de entrenamiento\n",
      "Error absoluto (MAE):  39.14378753111987\n",
      "Error cuadrático medio:  49.77686317019353\n",
      "Puntaje R2 :  0.5726014774954075\n",
      "********************************************\n",
      "Para el conjunto de datos de validación\n",
      "Error absoluto (MAE):  34.760879096006484\n",
      "Error cuadrático medio:  44.76519421691505\n",
      "Puntaje R2 :  0.6471993039193833\n"
     ]
    }
   ],
   "source": [
    "y_pred = model1.predict(X_train)\n",
    "rmse = np.sqrt(mean_squared_error(y_train, y_pred))\n",
    "r2 = r2_score(y_train, y_pred)\n",
    "mean = mean_absolute_error(y_train, y_pred)\n",
    "print('********************************************')\n",
    "print('Para el conjunto de datos de entrenamiento')\n",
    "print('Error absoluto (MAE): ', mean)\n",
    "print('Error cuadrático medio: ', rmse)\n",
    "print('Puntaje R2 : ', r2)\n",
    "\n",
    "y_pred = model1.predict(X_test)\n",
    "rmse = np.sqrt(mean_squared_error(y_test, y_pred))\n",
    "r2 = r2_score(y_test, y_pred)\n",
    "mean = mean_absolute_error(y_test, y_pred)\n",
    "print('********************************************')\n",
    "print('Para el conjunto de datos de validación')\n",
    "print('Error absoluto (MAE): ', mean)\n",
    "print('Error cuadrático medio: ', rmse)\n",
    "print('Puntaje R2 : ', r2)"
   ]
  },
  {
   "cell_type": "code",
   "execution_count": 50,
   "id": "71d57a76",
   "metadata": {},
   "outputs": [
    {
     "data": {
      "text/plain": [
       "array([ 70.6520695 , 156.51651861, 142.95599967,  89.84148309,\n",
       "        89.84148309,  70.46017537, 197.70979312, 109.60657909,\n",
       "       130.58700462, 112.35706171, 185.27683335, 199.66889355,\n",
       "        88.24236529, 114.14807364, 131.25045738, 131.25045738,\n",
       "       131.25045738, 101.0992724 , 178.68846802, 170.05323191,\n",
       "       197.17426978, 276.64224769,  97.32535439, 104.80922569,\n",
       "        87.53875346,  87.53875346,  76.47285829, 179.73570906,\n",
       "       138.2865757 , 138.2865757 , 138.2865757 , 160.41836604,\n",
       "       160.41836604, 160.41836604, 134.19283413, 165.85536656,\n",
       "       157.34805987, 157.34805987, 179.79967377, 154.14982427,\n",
       "       154.14982427, 154.14982427, 157.73184814, 157.73184814,\n",
       "       112.99670883, 112.99670883, 174.29870854, 174.29870854,\n",
       "       135.91988136, 135.91988136, 143.40375266, 155.55704793,\n",
       "        70.90792835,  70.90792835, 157.539954  , 171.9320142 ,\n",
       "       158.17960112, 172.95544959, 224.3191133 , 224.3191133 ,\n",
       "       224.3191133 , 154.8534361 , 214.08475939, 214.08475939,\n",
       "       148.13714134, 160.16250719,  68.98898699,  68.98898699,\n",
       "        87.34685933, 166.6229431 ,  62.46458637, 219.39383048,\n",
       "       171.16443765, 171.16443765,  73.3385874 , 196.43049888,\n",
       "       231.93091403, 177.36901471, 177.36901471, 160.48233075,\n",
       "       158.0516717 , 159.07510709,  65.8547161 ,  65.8547161 ,\n",
       "       183.7015212 , 192.52865145,  85.74774153, 156.64444804,\n",
       "       198.28547553, 125.40586295, 125.40586295, 191.1853925 ,\n",
       "       191.82503962, 199.30891092, 190.54574538, 190.54574538,\n",
       "       189.26645114, 148.90471789, 148.90471789, 148.90471789,\n",
       "       174.29870854, 169.50135514, 169.50135514, 296.47130841,\n",
       "       283.1026836 , 273.25211796, 291.03430789, 164.51210761,\n",
       "        59.52220962, 222.33620723, 110.75794391, 110.75794391,\n",
       "       122.14366264,  62.46458637,  65.66282197, 175.06628508,\n",
       "       121.18419196, 147.17767066,  61.37718627,  61.37718627,\n",
       "        66.11057495, 179.99156791, 221.24880713, 235.76879674,\n",
       "       161.69766028, 161.69766028, 161.69766028, 103.65786088,\n",
       "       146.06646492, 243.82835045, 104.68129627, 137.58296387,\n",
       "       175.00232037, 175.00232037, 139.05415224, 163.48867222,\n",
       "        76.72871714,  76.72871714, 148.9686826 , 154.27775369,\n",
       "        91.56853032,  92.40007157, 123.61485101, 138.00691121,\n",
       "        81.3341764 , 231.22730219, 120.22472128, 271.39714131,\n",
       "        65.15110427, 147.85747685, 147.85747685, 167.81446699,\n",
       "       232.82641999, 186.96372151, 159.20303651, 231.99487874,\n",
       "       128.8599574 ,  65.91868082,  65.91868082,  70.39621065,\n",
       "        93.74333052, 244.14817401, 286.3009192 , 231.67505518,\n",
       "       231.67505518, 251.5680806 , 247.34640961, 198.60529909,\n",
       "       174.29870854, 246.83469192, 269.41423524, 138.90241718,\n",
       "       140.14155235,  82.35761179,  68.34933987,  68.34933987,\n",
       "        68.79709285, 140.84516418, 157.73184814, 200.20441689,\n",
       "       195.59895763, 195.59895763, 191.05746308, 193.296228  ,\n",
       "       269.09441168, 216.96317142, 166.75087253, 166.75087253,\n",
       "       166.75087253, 187.85922748, 213.12528871, 177.49694414,\n",
       "       190.92953365, 141.54877601, 141.54877601, 174.49060268,\n",
       "       164.00038991, 153.57414186, 145.32269402, 202.89093479,\n",
       "       218.11453624,  76.34492887,  76.34492887, 160.22647191,\n",
       "        80.50263514,  93.6154011 , 165.70363149, 168.28602561,\n",
       "       168.28602561, 168.28602561,  90.03337723, 146.47405883,\n",
       "       103.72182559, 103.72182559,  79.79902331,  71.09982248,\n",
       "       158.02786605, 236.21654973, 236.21654973, 236.21654973,\n",
       "       168.03016677, 168.03016677, 168.03016677, 216.57938315,\n",
       "       216.57938315, 216.57938315, 131.37838681, 131.37838681,\n",
       "       131.37838681, 165.91933127, 165.91933127, 165.91933127,\n",
       "       165.91933127, 165.91933127, 165.91933127, 156.90030688,\n",
       "       156.90030688, 156.90030688, 145.770447  , 145.770447  ,\n",
       "       145.770447  , 150.0560827 , 150.0560827 , 150.0560827 ,\n",
       "       208.51982944, 208.51982944, 208.51982944, 223.55153676,\n",
       "       223.55153676, 223.55153676, 151.14348281, 151.14348281,\n",
       "       151.14348281, 187.9871569 , 187.9871569 , 187.9871569 ,\n",
       "       188.4988746 , 188.4988746 , 188.4988746 , 158.88321295,\n",
       "       158.88321295, 158.88321295, 210.88652379, 210.88652379,\n",
       "       210.88652379, 173.531132  , 173.531132  , 173.531132  ,\n",
       "       190.22592182, 190.22592182, 190.22592182, 262.7619052 ,\n",
       "       262.7619052 , 262.7619052 , 277.47378895, 277.47378895,\n",
       "       277.47378895, 180.5032856 , 180.5032856 , 180.5032856 ,\n",
       "       189.84213355, 189.84213355, 189.84213355, 184.59702717,\n",
       "       184.59702717, 184.59702717, 194.70345166, 194.70345166,\n",
       "       194.70345166, 138.2865757 , 138.2865757 , 138.2865757 ,\n",
       "        71.48361076,  76.72871714,  72.05929316,  62.20872752,\n",
       "        76.92061127,  78.07197609,  78.07197609, 149.99211799,\n",
       "       145.51458815, 191.24935721, 114.33996778, 114.33996778,\n",
       "       168.03016677, 177.36901471, 101.99477837, 182.6141211 ,\n",
       "       218.49832451, 181.27086214,  61.82493925, 186.51596853,\n",
       "       105.44887281, 118.7535329 , 249.84103338, 261.41864625,\n",
       "       131.95406921, 131.95406921, 203.33868777,  85.29998854,\n",
       "       180.24742675, 180.24742675, 180.24742675, 162.78506038,\n",
       "       136.62349319, 162.72109567, 162.72109567, 203.72247605,\n",
       "       219.96951289, 148.4569649 , 183.44566235, 205.83331154,\n",
       "       259.0519519 , 273.63590623, 185.300639  , 182.29429754,\n",
       "       175.45007336,  71.61154018, 221.44070126, 106.72816705,\n",
       "       266.47185849,  73.91426981, 143.18805288, 143.18805288,\n",
       "       162.5693606 , 157.70804249, 175.32214393, 157.41202458,\n",
       "       158.2837249 ,  73.27462269, 115.55529731, 117.60216809,\n",
       "        66.55832793,  74.10616395, 201.48371113, 257.06904583,\n",
       "       257.06904583, 257.06904583,  91.5045656 , 116.64269741,\n",
       "       169.09376123, 252.91133955, 153.2543183 , 150.5678004 ,\n",
       "       146.02630585, 146.02630585, 140.46137591, 140.46137591,\n",
       "       140.46137591, 140.46137591, 172.82752016, 136.55952848,\n",
       "        72.69894028, 231.54712575, 231.54712575, 183.12583879,\n",
       "       286.17298978,  99.30826046, 103.84975501, 276.00260057,\n",
       "       276.00260057, 276.00260057,  85.42791797, 114.72375605,\n",
       "        81.71796467,  91.18474204, 110.37415564, 154.3417184 ,\n",
       "        87.09100048, 128.30808063,  68.66916343, 140.65327004,\n",
       "       173.531132  , 173.531132  , 129.07565718, 129.07565718,\n",
       "       129.07565718, 188.43490989, 142.44428198, 158.43545997,\n",
       "       160.35440133, 160.35440133, 187.79526277, 146.92181182,\n",
       "       146.92181182, 146.92181182, 141.80463486, 134.06490471,\n",
       "       134.06490471, 227.13356063, 227.13356063,  72.69894028,\n",
       "        75.51338761,  62.20872752,  88.56218885,  79.09541148,\n",
       "        81.90985881,  62.72044522,  87.09100048, 138.03071685,\n",
       "       138.03071685, 138.03071685, 135.91988136, 135.91988136,\n",
       "       135.91988136,  73.01876384,  75.4494229 ,  73.78634039,\n",
       "        90.9288832 ,  80.88642342,  90.22527136, 221.24880713,\n",
       "       131.22665174, 131.22665174, 144.49115276,  73.65841096,\n",
       "        88.05047116, 246.45090364, 246.45090364, 246.45090364,\n",
       "        88.17840058,  82.35761179,  84.27655315,  90.16130665,\n",
       "       157.60391872,  95.2145189 , 117.09045039, 117.09045039,\n",
       "        66.17453966,  62.01683338, 119.39318002, 128.60409855,\n",
       "       220.5451953 , 220.5451953 , 220.5451953 , 116.70666212,\n",
       "       240.31029129, 284.44594256, 160.97024281, 160.97024281,\n",
       "       194.06380454, 173.40320257,  67.19797505, 126.96482168,\n",
       "       126.96482168, 217.66678326, 275.29898874, 275.29898874,\n",
       "       275.29898874,  79.35127033,  69.5646694 ,  79.79902331,\n",
       "       118.24181521, 256.365434  , 291.99377857, 140.90912889,\n",
       "       238.07152638, 238.07152638, 213.25321813, 181.07896801,\n",
       "       252.97530427, 155.40531286, 215.61991247,  77.30439955,\n",
       "       141.4848113 , 284.63783669, 221.31277184, 284.31801313,\n",
       "       284.31801313, 284.31801313, 275.93863586, 281.05581282,\n",
       "        92.0162833 , 162.91298981, 144.9151001 , 291.22620202,\n",
       "        69.62863411, 237.17602041, 237.17602041, 211.52617091,\n",
       "       179.99156791,  75.4494229 ,  70.20431652,  89.96941252,\n",
       "        77.49629368,  95.59830717, 186.32407439, 186.32407439,\n",
       "       186.32407439, 211.97392389, 259.24384604, 278.88101261,\n",
       "       111.01380276, 230.39576094, 230.39576094, 225.98219581,\n",
       "       185.42856842, 243.25266805, 106.28041407, 111.90930872,\n",
       "       209.3513707 , 273.89176508, 273.89176508, 273.89176508,\n",
       "        93.99918937, 282.97475418, 121.24815667,  65.08713956,\n",
       "       149.80022385,  67.13401034,  67.13401034,  82.16571766,\n",
       "       155.23722437, 169.88514341,  79.28730562,  94.31901293,\n",
       "        66.30246909, 138.90241718, 153.16654794, 148.90471789,\n",
       "       175.76989692, 175.76989692, 175.76989692, 106.28041407,\n",
       "       132.05819299, 132.4018222 , 132.4018222 , 132.4018222 ,\n",
       "       187.09165093, 145.19476459, 146.15423527, 195.34309878,\n",
       "       115.17150903, 115.17150903, 104.04164915, 179.54381492,\n",
       "       183.25376822,  62.6564805 , 190.54574538, 177.92089148,\n",
       "       258.09248122, 132.08199864, 184.2132389 , 184.2132389 ,\n",
       "       184.2132389 , 179.28795607, 175.57800278, 106.02455522,\n",
       "        73.53048154,  79.28730562,  73.59444625,  65.98264553,\n",
       "        79.09541148, 224.76686629, 224.76686629, 154.14982427,\n",
       "       154.14982427, 145.2587293 , 145.2587293 , 157.47598929,\n",
       "       157.47598929, 157.47598929, 157.47598929, 139.50190523,\n",
       "       139.50190523, 195.4710282 , 195.4710282 , 213.70097111,\n",
       "       213.70097111, 144.6830469 , 144.6830469 , 176.98522644,\n",
       "       176.98522644, 139.82172879, 139.82172879, 197.26204014,\n",
       "       197.26204014, 179.47985021, 179.47985021, 266.79168205,\n",
       "       266.79168205, 178.77623838, 178.77623838, 178.26452068,\n",
       "       178.26452068, 180.82310916, 180.82310916, 133.55318701,\n",
       "       133.55318701, 133.55318701, 133.55318701, 133.55318701,\n",
       "       133.55318701, 168.28602561, 168.28602561, 245.6833271 ,\n",
       "       245.6833271 , 264.16912886, 264.16912886, 274.97916518,\n",
       "       274.97916518, 267.87908215, 267.87908215, 164.38417818,\n",
       "       164.38417818, 171.80408477, 171.80408477, 154.59757725,\n",
       "       195.9827459 , 192.20882789, 192.20882789, 191.63314548,\n",
       "       185.55649785, 185.55649785, 185.55649785, 181.07896801,\n",
       "       174.55456739, 174.55456739])"
      ]
     },
     "execution_count": 50,
     "metadata": {},
     "output_type": "execute_result"
    }
   ],
   "source": [
    "pred = model1.predict(X)\n",
    "pred"
   ]
  },
  {
   "cell_type": "code",
   "execution_count": 51,
   "id": "53591255",
   "metadata": {},
   "outputs": [
    {
     "name": "stdout",
     "output_type": "stream",
     "text": [
      "RSS = 1459499.3818977121\n"
     ]
    }
   ],
   "source": [
    "from sklearn import metrics\n",
    "rss = len(pred)*metrics.mean_squared_error(y,pred)\n",
    "print('RSS = {}'.format(rss))"
   ]
  },
  {
   "cell_type": "markdown",
   "id": "d4e43593",
   "metadata": {},
   "source": [
    "MODELO Regresion Linear"
   ]
  },
  {
   "cell_type": "code",
   "execution_count": 52,
   "id": "fb53120c",
   "metadata": {},
   "outputs": [
    {
     "data": {
      "image/png": "[encoded data removed]",
      "text/plain": [
       "<Figure size 432x288 with 1 Axes>"
      ]
     },
     "metadata": {
      "needs_background": "light"
     },
     "output_type": "display_data"
    }
   ],
   "source": [
    "plt.scatter(y_test, y_pred, c='r')\n",
    "plt.plot(y_test, y_test, c='blue')\n",
    "plt.show()"
   ]
  },
  {
   "cell_type": "markdown",
   "id": "55b926c3",
   "metadata": {},
   "source": [
    "* Modelo de regresion lineal para 10 variables predictoras"
   ]
  },
  {
   "cell_type": "code",
   "execution_count": 58,
   "id": "59c28ce8",
   "metadata": {},
   "outputs": [],
   "source": [
    "X=df_model[['HI','E_INCOME','S_POP','E_POP','DISTANCE','PAX','SW','VACATION','SLOT','GATE']]\n",
    "y=df_model['FARE']"
   ]
  },
  {
   "cell_type": "code",
   "execution_count": 59,
   "id": "7d6a6011",
   "metadata": {},
   "outputs": [
    {
     "data": {
      "text/plain": [
       "((382, 10), (256, 2))"
      ]
     },
     "execution_count": 59,
     "metadata": {},
     "output_type": "execute_result"
    }
   ],
   "source": [
    "X_train,x_test, y_train, y_test = train_test_split(X,y,test_size=0.4,random_state=42)\n",
    "X_train.shape,X_test.shape"
   ]
  },
  {
   "cell_type": "code",
   "execution_count": 60,
   "id": "e24f87c7",
   "metadata": {},
   "outputs": [],
   "source": [
    "model2= LinearRegression()\n",
    "model2= model2.fit(X_train,y_train)"
   ]
  },
  {
   "cell_type": "code",
   "execution_count": 61,
   "id": "30702280",
   "metadata": {},
   "outputs": [
    {
     "name": "stdout",
     "output_type": "stream",
     "text": [
      "********************************************\n",
      "Para el conjunto de datos de entrenamiento\n",
      "Error absoluto (MAE):  28.25497119686369\n",
      "Error cuadrático medio:  35.79890819676804\n",
      "Puntaje R2 :  0.7789362514198697\n"
     ]
    }
   ],
   "source": [
    "y_pred = model2.predict(X_train)\n",
    "rmse = np.sqrt(mean_squared_error(y_train, y_pred))\n",
    "r2 = r2_score(y_train, y_pred)\n",
    "mean = mean_absolute_error(y_train, y_pred)\n",
    "print('********************************************')\n",
    "print('Para el conjunto de datos de entrenamiento')\n",
    "print('Error absoluto (MAE): ', mean)\n",
    "print('Error cuadrático medio: ', rmse)\n",
    "print('Puntaje R2 : ', r2)"
   ]
  },
  {
   "cell_type": "markdown",
   "id": "1d8af496",
   "metadata": {},
   "source": [
    "Como estamos evaluando con la metrica de R2 , esta nos dice que mientras el valor se acerque a 1 , la predicción es mejor. Por lo tanto, el modelo con 10 variables predictoras nos esta arrojando mejores resultados a comparación del modelo con 2 variables predictoras"
   ]
  },
  {
   "cell_type": "markdown",
   "id": "455f1061",
   "metadata": {},
   "source": [
    "### e)\tUtilizando los modelos de las partes (c) y (d), prediga la tarifa media en una ruta con las siguientes características: \n",
    "COUPON = 1.202, NEW = 3, VACATION = No, SW = No, HI = 4442.141, S_INCOME = 28,760, E_INCOME = 27,664, S_POP = 4,557,004, E_POP = 3,195,503, SLOT = Free, GATE = Free, PAX = 12782, DISTANCE = 1976 miles.\n",
    "\n",
    "Además, prediga la reducción de la tarifa media en la ruta si Southwest decide cubrir esta ruta."
   ]
  },
  {
   "cell_type": "code",
   "execution_count": 69,
   "id": "6c4e5e51",
   "metadata": {},
   "outputs": [],
   "source": [
    "datos=np.array([[4442.141, 27.664, 4557.004, 3195.503, 1976, 12782, 0, 0, 1, 1]])"
   ]
  },
  {
   "cell_type": "code",
   "execution_count": 70,
   "id": "6b26e9c4",
   "metadata": {},
   "outputs": [
    {
     "data": {
      "text/plain": [
       "array([172.9389486])"
      ]
     },
     "execution_count": 70,
     "metadata": {},
     "output_type": "execute_result"
    }
   ],
   "source": [
    "prediccion=model2.predict(datos)\n",
    "prediccion"
   ]
  },
  {
   "cell_type": "markdown",
   "id": "e559fe71",
   "metadata": {},
   "source": [
    "**tarifa media en la ruta si Southwest decide cubrir esta ruta**"
   ]
  },
  {
   "cell_type": "code",
   "execution_count": 71,
   "id": "f0ed1af7",
   "metadata": {},
   "outputs": [
    {
     "data": {
      "text/plain": [
       "array([131.74210958])"
      ]
     },
     "execution_count": 71,
     "metadata": {},
     "output_type": "execute_result"
    }
   ],
   "source": [
    "dato_SW=np.array([[4442.141, 27.664, 4557.004, 3195.503, 1976, 12782, 1, 0, 1, 1]])\n",
    "prediccion_sw=model2.predict(dato_SW)\n",
    "prediccion_sw"
   ]
  },
  {
   "cell_type": "code",
   "execution_count": 72,
   "id": "67e5eae5",
   "metadata": {},
   "outputs": [
    {
     "name": "stdout",
     "output_type": "stream",
     "text": [
      "La reduccion de tarifa si SouthWest cubre la ruta es de :  [41.19683902]\n"
     ]
    }
   ],
   "source": [
    "reduccion_SW = prediccion-prediccion_sw\n",
    "print('La reduccion de tarifa si SouthWest cubre la ruta es de : ', reduccion_SW )"
   ]
  },
  {
   "cell_type": "markdown",
   "id": "7f0360ca",
   "metadata": {},
   "source": [
    "### g)\tConstruya un modelo que incluya sólo los factores que están disponibles antes de que los vuelos comiencen a operar en la nueva ruta, y evalúe el rendimiento de este modelo en relación con el modelo construido en la parte (c). "
   ]
  },
  {
   "cell_type": "code",
   "execution_count": 74,
   "id": "17e7120a",
   "metadata": {},
   "outputs": [],
   "source": [
    "X=df_model[['HI','NEW','S_INCOME','E_INCOME','S_POP','E_POP','DISTANCE','PAX','SLOT','GATE']]\n",
    "y=df_model['FARE']"
   ]
  },
  {
   "cell_type": "code",
   "execution_count": 78,
   "id": "3cc412ed",
   "metadata": {},
   "outputs": [
    {
     "data": {
      "text/plain": [
       "((382, 10), (256, 10))"
      ]
     },
     "execution_count": 78,
     "metadata": {},
     "output_type": "execute_result"
    }
   ],
   "source": [
    "X_train,X_test, y_train, y_test = train_test_split(X,y,test_size=0.4,random_state=42)\n",
    "X_train.shape,X_test.shape"
   ]
  },
  {
   "cell_type": "code",
   "execution_count": 83,
   "id": "2c4d200d",
   "metadata": {},
   "outputs": [],
   "source": [
    "model3= LinearRegression()\n",
    "model3.fit(X_train,y_train)\n",
    "y_pred = model3.predict(X_test)"
   ]
  },
  {
   "cell_type": "code",
   "execution_count": 89,
   "id": "e77b826d",
   "metadata": {},
   "outputs": [
    {
     "name": "stdout",
     "output_type": "stream",
     "text": [
      "r2: 0.7074090912014295\n"
     ]
    }
   ],
   "source": [
    "r2 = r2_score(y_test, y_pred)\n",
    "print('r2:', r2)"
   ]
  },
  {
   "cell_type": "markdown",
   "id": "d2e1105a",
   "metadata": {},
   "source": [
    "Gráfica entre y_test e y_pred"
   ]
  },
  {
   "cell_type": "code",
   "execution_count": 101,
   "id": "cb551e38",
   "metadata": {},
   "outputs": [
    {
     "data": {
      "text/plain": [
       "<matplotlib.collections.PathCollection at 0x1bb83d89af0>"
      ]
     },
     "execution_count": 101,
     "metadata": {},
     "output_type": "execute_result"
    },
    {
     "data": {
      "image/png": "[encoded data removed]",
      "text/plain": [
       "<Figure size 432x288 with 1 Axes>"
      ]
     },
     "metadata": {
      "needs_background": "light"
     },
     "output_type": "display_data"
    }
   ],
   "source": [
    "plt.scatter(y_test,y_pred)"
   ]
  },
  {
   "cell_type": "markdown",
   "id": "0bb5a99d",
   "metadata": {},
   "source": [
    "El modelo evaluado muestra un r2 de 0.70, mientras que el modelo desarrollado en el apartado C (modelo con 10 variables predictoras) cuenta con un r2 de 0.76. Se nota una clara diferencia entre ellos, siendo el mejor modelo de predicción el evaluado en el apartado C "
   ]
  },
  {
   "cell_type": "markdown",
   "id": "82bfb486",
   "metadata": {},
   "source": [
    "Hemos obtenido según las métricas, que el modelo realizado en el apartado C genera una predicción con menor error a comparación de las demás, por tal motivo nos quedaremos con ese modelo como nuestro resultado final"
   ]
  },
  {
   "cell_type": "code",
   "execution_count": 102,
   "id": "e053c8fc",
   "metadata": {},
   "outputs": [],
   "source": [
    "X=df_model[['HI','E_INCOME','S_POP','E_POP','DISTANCE','PAX','SW','VACATION','SLOT','GATE']]\n",
    "y=df_model['FARE']"
   ]
  },
  {
   "cell_type": "code",
   "execution_count": 103,
   "id": "508980c7",
   "metadata": {},
   "outputs": [
    {
     "data": {
      "text/plain": [
       "((510, 10), (128, 10))"
      ]
     },
     "execution_count": 103,
     "metadata": {},
     "output_type": "execute_result"
    }
   ],
   "source": [
    "X_train,X_test, y_train, y_test = train_test_split(X,y,test_size=0.2,random_state=0)\n",
    "X_train.shape,X_test.shape"
   ]
  },
  {
   "cell_type": "code",
   "execution_count": 104,
   "id": "99e7b33c",
   "metadata": {},
   "outputs": [],
   "source": [
    "model_f= LinearRegression()\n",
    "model_f.fit(X_train,y_train)\n",
    "y_pred = model_f.predict(X_test)"
   ]
  },
  {
   "cell_type": "code",
   "execution_count": 105,
   "id": "4c4a8f76",
   "metadata": {},
   "outputs": [
    {
     "data": {
      "text/plain": [
       "0.7811767167830942"
      ]
     },
     "execution_count": 105,
     "metadata": {},
     "output_type": "execute_result"
    }
   ],
   "source": [
    "r2 = r2_score(y_test, y_pred)\n",
    "r2"
   ]
  },
  {
   "cell_type": "code",
   "execution_count": 106,
   "id": "327bedb4",
   "metadata": {},
   "outputs": [
    {
     "data": {
      "text/html": [
       "<div>\n",
       "<style scoped>\n",
       "    .dataframe tbody tr th:only-of-type {\n",
       "        vertical-align: middle;\n",
       "    }\n",
       "\n",
       "    .dataframe tbody tr th {\n",
       "        vertical-align: top;\n",
       "    }\n",
       "\n",
       "    .dataframe thead th {\n",
       "        text-align: right;\n",
       "    }\n",
       "</style>\n",
       "<table border=\"1\" class=\"dataframe\">\n",
       "  <thead>\n",
       "    <tr style=\"text-align: right;\">\n",
       "      <th></th>\n",
       "      <th>Coeficiente</th>\n",
       "    </tr>\n",
       "  </thead>\n",
       "  <tbody>\n",
       "    <tr>\n",
       "      <th>HI</th>\n",
       "      <td>0.008726</td>\n",
       "    </tr>\n",
       "    <tr>\n",
       "      <th>E_INCOME</th>\n",
       "      <td>0.001260</td>\n",
       "    </tr>\n",
       "    <tr>\n",
       "      <th>S_POP</th>\n",
       "      <td>0.000004</td>\n",
       "    </tr>\n",
       "    <tr>\n",
       "      <th>E_POP</th>\n",
       "      <td>0.000004</td>\n",
       "    </tr>\n",
       "    <tr>\n",
       "      <th>DISTANCE</th>\n",
       "      <td>0.077031</td>\n",
       "    </tr>\n",
       "    <tr>\n",
       "      <th>PAX</th>\n",
       "      <td>-0.000852</td>\n",
       "    </tr>\n",
       "    <tr>\n",
       "      <th>SW</th>\n",
       "      <td>-45.020402</td>\n",
       "    </tr>\n",
       "    <tr>\n",
       "      <th>VACATION</th>\n",
       "      <td>-37.380633</td>\n",
       "    </tr>\n",
       "    <tr>\n",
       "      <th>SLOT</th>\n",
       "      <td>-16.494202</td>\n",
       "    </tr>\n",
       "    <tr>\n",
       "      <th>GATE</th>\n",
       "      <td>-20.597440</td>\n",
       "    </tr>\n",
       "  </tbody>\n",
       "</table>\n",
       "</div>"
      ],
      "text/plain": [
       "          Coeficiente\n",
       "HI           0.008726\n",
       "E_INCOME     0.001260\n",
       "S_POP        0.000004\n",
       "E_POP        0.000004\n",
       "DISTANCE     0.077031\n",
       "PAX         -0.000852\n",
       "SW         -45.020402\n",
       "VACATION   -37.380633\n",
       "SLOT       -16.494202\n",
       "GATE       -20.597440"
      ]
     },
     "execution_count": 106,
     "metadata": {},
     "output_type": "execute_result"
    }
   ],
   "source": [
    "coeficientes_df=pd.DataFrame(model_f.coef_,X.columns,columns=['Coeficiente'])\n",
    "coeficientes_df"
   ]
  },
  {
   "cell_type": "code",
   "execution_count": 107,
   "id": "053a401c",
   "metadata": {},
   "outputs": [
    {
     "data": {
      "text/plain": [
       "<matplotlib.collections.PathCollection at 0x1bb83ddfd00>"
      ]
     },
     "execution_count": 107,
     "metadata": {},
     "output_type": "execute_result"
    },
    {
     "data": {
      "image/png": "[encoded data removed]",
      "text/plain": [
       "<Figure size 432x288 with 1 Axes>"
      ]
     },
     "metadata": {
      "needs_background": "light"
     },
     "output_type": "display_data"
    }
   ],
   "source": [
    "#Grafica entre y_test e y_pred\n",
    "plt.scatter(y_test,y_pred)"
   ]
  },
  {
   "cell_type": "markdown",
   "id": "46992209",
   "metadata": {},
   "source": [
    "### h)\tEn los sectores competitivos, un nuevo participante con un plan de negocio novedoso puede tener un efecto disruptivo en las empresas existentes. Si el modelo de negocio de un nuevo participante es sostenible, los demás actores se ven obligados a responder cambiando sus prácticas empresariales. Si el objetivo del análisis fuera evaluar el efecto de la presencia de Southwest Airlines en la industria aérea en lugar de predecir las tarifas de las nuevas rutas, ¿en qué se diferenciaría el análisis?"
   ]
  },
  {
   "cell_type": "code",
   "execution_count": 110,
   "id": "c6107bc2",
   "metadata": {},
   "outputs": [],
   "source": [
    "from matplotlib import style\n",
    "from scipy.stats import pearsonr\n",
    "from sklearn.metrics import r2_score\n",
    "from sklearn.metrics import mean_squared_error"
   ]
  },
  {
   "cell_type": "code",
   "execution_count": 117,
   "id": "3de71c8f",
   "metadata": {},
   "outputs": [],
   "source": [
    "#ajustamos los parámetros de matplotlib\n",
    "plt.rcParams['image.cmap'] = 'bwr'\n",
    "plt.rcParams['savefig.bbox'] = 'tight'\n",
    "style.use('ggplot') or plt.style.use('ggplot')"
   ]
  },
  {
   "cell_type": "code",
   "execution_count": 118,
   "id": "900e54ec",
   "metadata": {},
   "outputs": [
    {
     "data": {
      "text/html": [
       "<div>\n",
       "<style scoped>\n",
       "    .dataframe tbody tr th:only-of-type {\n",
       "        vertical-align: middle;\n",
       "    }\n",
       "\n",
       "    .dataframe tbody tr th {\n",
       "        vertical-align: top;\n",
       "    }\n",
       "\n",
       "    .dataframe thead th {\n",
       "        text-align: right;\n",
       "    }\n",
       "</style>\n",
       "<table border=\"1\" class=\"dataframe\">\n",
       "  <thead>\n",
       "    <tr style=\"text-align: right;\">\n",
       "      <th></th>\n",
       "      <th>S_CODE</th>\n",
       "      <th>S_CITY</th>\n",
       "      <th>E_CODE</th>\n",
       "      <th>E_CITY</th>\n",
       "      <th>COUPON</th>\n",
       "      <th>NEW</th>\n",
       "      <th>VACATION</th>\n",
       "      <th>SW</th>\n",
       "      <th>HI</th>\n",
       "      <th>S_INCOME</th>\n",
       "      <th>E_INCOME</th>\n",
       "      <th>S_POP</th>\n",
       "      <th>E_POP</th>\n",
       "      <th>SLOT</th>\n",
       "      <th>GATE</th>\n",
       "      <th>DISTANCE</th>\n",
       "      <th>PAX</th>\n",
       "      <th>FARE</th>\n",
       "    </tr>\n",
       "  </thead>\n",
       "  <tbody>\n",
       "    <tr>\n",
       "      <th>0</th>\n",
       "      <td>*</td>\n",
       "      <td>Dallas/Fort Worth   TX</td>\n",
       "      <td>*</td>\n",
       "      <td>Amarillo            TX</td>\n",
       "      <td>1.00</td>\n",
       "      <td>3</td>\n",
       "      <td>No</td>\n",
       "      <td>Yes</td>\n",
       "      <td>5291.99</td>\n",
       "      <td>28637</td>\n",
       "      <td>21112</td>\n",
       "      <td>3036732</td>\n",
       "      <td>205711</td>\n",
       "      <td>Free</td>\n",
       "      <td>Free</td>\n",
       "      <td>312</td>\n",
       "      <td>7864</td>\n",
       "      <td>64.11</td>\n",
       "    </tr>\n",
       "    <tr>\n",
       "      <th>1</th>\n",
       "      <td>*</td>\n",
       "      <td>Atlanta             GA</td>\n",
       "      <td>*</td>\n",
       "      <td>Baltimore/Wash Intl MD</td>\n",
       "      <td>1.06</td>\n",
       "      <td>3</td>\n",
       "      <td>No</td>\n",
       "      <td>No</td>\n",
       "      <td>5419.16</td>\n",
       "      <td>26993</td>\n",
       "      <td>29838</td>\n",
       "      <td>3532657</td>\n",
       "      <td>7145897</td>\n",
       "      <td>Free</td>\n",
       "      <td>Free</td>\n",
       "      <td>576</td>\n",
       "      <td>8820</td>\n",
       "      <td>174.47</td>\n",
       "    </tr>\n",
       "    <tr>\n",
       "      <th>2</th>\n",
       "      <td>*</td>\n",
       "      <td>Boston              MA</td>\n",
       "      <td>*</td>\n",
       "      <td>Baltimore/Wash Intl MD</td>\n",
       "      <td>1.06</td>\n",
       "      <td>3</td>\n",
       "      <td>No</td>\n",
       "      <td>No</td>\n",
       "      <td>9185.28</td>\n",
       "      <td>30124</td>\n",
       "      <td>29838</td>\n",
       "      <td>5787293</td>\n",
       "      <td>7145897</td>\n",
       "      <td>Free</td>\n",
       "      <td>Free</td>\n",
       "      <td>364</td>\n",
       "      <td>6452</td>\n",
       "      <td>207.76</td>\n",
       "    </tr>\n",
       "    <tr>\n",
       "      <th>3</th>\n",
       "      <td>ORD</td>\n",
       "      <td>Chicago             IL</td>\n",
       "      <td>*</td>\n",
       "      <td>Baltimore/Wash Intl MD</td>\n",
       "      <td>1.06</td>\n",
       "      <td>3</td>\n",
       "      <td>No</td>\n",
       "      <td>Yes</td>\n",
       "      <td>2657.35</td>\n",
       "      <td>29260</td>\n",
       "      <td>29838</td>\n",
       "      <td>7830332</td>\n",
       "      <td>7145897</td>\n",
       "      <td>Controlled</td>\n",
       "      <td>Free</td>\n",
       "      <td>612</td>\n",
       "      <td>25144</td>\n",
       "      <td>85.47</td>\n",
       "    </tr>\n",
       "    <tr>\n",
       "      <th>4</th>\n",
       "      <td>MDW</td>\n",
       "      <td>Chicago             IL</td>\n",
       "      <td>*</td>\n",
       "      <td>Baltimore/Wash Intl MD</td>\n",
       "      <td>1.06</td>\n",
       "      <td>3</td>\n",
       "      <td>No</td>\n",
       "      <td>Yes</td>\n",
       "      <td>2657.35</td>\n",
       "      <td>29260</td>\n",
       "      <td>29838</td>\n",
       "      <td>7830332</td>\n",
       "      <td>7145897</td>\n",
       "      <td>Free</td>\n",
       "      <td>Free</td>\n",
       "      <td>612</td>\n",
       "      <td>25144</td>\n",
       "      <td>85.47</td>\n",
       "    </tr>\n",
       "  </tbody>\n",
       "</table>\n",
       "</div>"
      ],
      "text/plain": [
       "  S_CODE                  S_CITY E_CODE                  E_CITY  COUPON  NEW  \\\n",
       "0      *  Dallas/Fort Worth   TX      *  Amarillo            TX    1.00    3   \n",
       "1      *  Atlanta             GA      *  Baltimore/Wash Intl MD    1.06    3   \n",
       "2      *  Boston              MA      *  Baltimore/Wash Intl MD    1.06    3   \n",
       "3    ORD  Chicago             IL      *  Baltimore/Wash Intl MD    1.06    3   \n",
       "4    MDW  Chicago             IL      *  Baltimore/Wash Intl MD    1.06    3   \n",
       "\n",
       "  VACATION   SW       HI  S_INCOME  E_INCOME    S_POP    E_POP        SLOT  \\\n",
       "0       No  Yes  5291.99     28637     21112  3036732   205711        Free   \n",
       "1       No   No  5419.16     26993     29838  3532657  7145897        Free   \n",
       "2       No   No  9185.28     30124     29838  5787293  7145897        Free   \n",
       "3       No  Yes  2657.35     29260     29838  7830332  7145897  Controlled   \n",
       "4       No  Yes  2657.35     29260     29838  7830332  7145897        Free   \n",
       "\n",
       "   GATE  DISTANCE    PAX    FARE  \n",
       "0  Free       312   7864   64.11  \n",
       "1  Free       576   8820  174.47  \n",
       "2  Free       364   6452  207.76  \n",
       "3  Free       612  25144   85.47  \n",
       "4  Free       612  25144   85.47  "
      ]
     },
     "execution_count": 118,
     "metadata": {},
     "output_type": "execute_result"
    }
   ],
   "source": [
    "df.head(5)"
   ]
  },
  {
   "cell_type": "markdown",
   "id": "7670a494",
   "metadata": {},
   "source": [
    "graficamos la cantidad de personas por precio de los vuelos"
   ]
  },
  {
   "cell_type": "code",
   "execution_count": 122,
   "id": "b6da1aa8",
   "metadata": {},
   "outputs": [
    {
     "data": {
      "text/plain": [
       "Text(0.5, 1.0, 'Distribución de cantidad de personas y vuelos')"
      ]
     },
     "execution_count": 122,
     "metadata": {},
     "output_type": "execute_result"
    },
    {
     "data": {
      "image/png": "[encoded data removed]",
      "text/plain": [
       "<Figure size 432x276.48 with 1 Axes>"
      ]
     },
     "metadata": {},
     "output_type": "display_data"
    }
   ],
   "source": [
    "fig, ax = plt.subplots(figsize=(6,3.84))\n",
    "\n",
    "df.plot(\n",
    "    x = 'PAX',\n",
    "    y = 'FARE',\n",
    "    c = 'firebrick',\n",
    "    kind = 'scatter',\n",
    "    ax = ax\n",
    ")\n",
    "ax.set_title('Distribución de cantidad de personas y vuelos')"
   ]
  },
  {
   "cell_type": "code",
   "execution_count": 123,
   "id": "a0b38e57",
   "metadata": {},
   "outputs": [
    {
     "name": "stdout",
     "output_type": "stream",
     "text": [
      "Coeficiente de correlación de Pearson: -0.09070540931076154\n",
      "P-value: 0.02194437371703266\n"
     ]
    }
   ],
   "source": [
    "#hallamos la correlación\n",
    "\n",
    "corr_test = pearsonr(x=df['PAX'], y=df['FARE'])\n",
    "print('Coeficiente de correlación de Pearson:', corr_test[0])\n",
    "print('P-value:', corr_test[1])"
   ]
  },
  {
   "cell_type": "code",
   "execution_count": 124,
   "id": "63544863",
   "metadata": {},
   "outputs": [],
   "source": [
    "y=df['FARE']"
   ]
  },
  {
   "cell_type": "markdown",
   "id": "00f51372",
   "metadata": {},
   "source": [
    "Debido a que en este caso se busca realizar una predicción de la influencia de la presencia de la empresa southwest en la industria, se utiliza como parámetro SW, esta es una variable categórica, por lo que es necesario aplicar dummies. El objetivo de usar dummies es expresar esta variable categórica en valores numéricos esto permite que al ser valores numéricos se pueda aplicar un modelo predictivo como lo es la regresión "
   ]
  },
  {
   "cell_type": "code",
   "execution_count": 125,
   "id": "fa03e334",
   "metadata": {},
   "outputs": [],
   "source": [
    "sw = pd.get_dummies(df['SW'], drop_first=True)\n",
    "df.drop(['SW'],axis=1,inplace=True)\n",
    "df= pd.concat([df,sw],axis=1)"
   ]
  },
  {
   "cell_type": "code",
   "execution_count": 127,
   "id": "cb10320c",
   "metadata": {},
   "outputs": [
    {
     "data": {
      "text/html": [
       "<div>\n",
       "<style scoped>\n",
       "    .dataframe tbody tr th:only-of-type {\n",
       "        vertical-align: middle;\n",
       "    }\n",
       "\n",
       "    .dataframe tbody tr th {\n",
       "        vertical-align: top;\n",
       "    }\n",
       "\n",
       "    .dataframe thead th {\n",
       "        text-align: right;\n",
       "    }\n",
       "</style>\n",
       "<table border=\"1\" class=\"dataframe\">\n",
       "  <thead>\n",
       "    <tr style=\"text-align: right;\">\n",
       "      <th></th>\n",
       "      <th>S_CODE</th>\n",
       "      <th>S_CITY</th>\n",
       "      <th>E_CODE</th>\n",
       "      <th>E_CITY</th>\n",
       "      <th>COUPON</th>\n",
       "      <th>NEW</th>\n",
       "      <th>VACATION</th>\n",
       "      <th>HI</th>\n",
       "      <th>S_INCOME</th>\n",
       "      <th>E_INCOME</th>\n",
       "      <th>S_POP</th>\n",
       "      <th>E_POP</th>\n",
       "      <th>SLOT</th>\n",
       "      <th>GATE</th>\n",
       "      <th>DISTANCE</th>\n",
       "      <th>PAX</th>\n",
       "      <th>FARE</th>\n",
       "      <th>Yes</th>\n",
       "    </tr>\n",
       "  </thead>\n",
       "  <tbody>\n",
       "    <tr>\n",
       "      <th>0</th>\n",
       "      <td>*</td>\n",
       "      <td>Dallas/Fort Worth   TX</td>\n",
       "      <td>*</td>\n",
       "      <td>Amarillo            TX</td>\n",
       "      <td>1.00</td>\n",
       "      <td>3</td>\n",
       "      <td>No</td>\n",
       "      <td>5291.99</td>\n",
       "      <td>28637</td>\n",
       "      <td>21112</td>\n",
       "      <td>3036732</td>\n",
       "      <td>205711</td>\n",
       "      <td>Free</td>\n",
       "      <td>Free</td>\n",
       "      <td>312</td>\n",
       "      <td>7864</td>\n",
       "      <td>64.11</td>\n",
       "      <td>1</td>\n",
       "    </tr>\n",
       "    <tr>\n",
       "      <th>1</th>\n",
       "      <td>*</td>\n",
       "      <td>Atlanta             GA</td>\n",
       "      <td>*</td>\n",
       "      <td>Baltimore/Wash Intl MD</td>\n",
       "      <td>1.06</td>\n",
       "      <td>3</td>\n",
       "      <td>No</td>\n",
       "      <td>5419.16</td>\n",
       "      <td>26993</td>\n",
       "      <td>29838</td>\n",
       "      <td>3532657</td>\n",
       "      <td>7145897</td>\n",
       "      <td>Free</td>\n",
       "      <td>Free</td>\n",
       "      <td>576</td>\n",
       "      <td>8820</td>\n",
       "      <td>174.47</td>\n",
       "      <td>0</td>\n",
       "    </tr>\n",
       "    <tr>\n",
       "      <th>2</th>\n",
       "      <td>*</td>\n",
       "      <td>Boston              MA</td>\n",
       "      <td>*</td>\n",
       "      <td>Baltimore/Wash Intl MD</td>\n",
       "      <td>1.06</td>\n",
       "      <td>3</td>\n",
       "      <td>No</td>\n",
       "      <td>9185.28</td>\n",
       "      <td>30124</td>\n",
       "      <td>29838</td>\n",
       "      <td>5787293</td>\n",
       "      <td>7145897</td>\n",
       "      <td>Free</td>\n",
       "      <td>Free</td>\n",
       "      <td>364</td>\n",
       "      <td>6452</td>\n",
       "      <td>207.76</td>\n",
       "      <td>0</td>\n",
       "    </tr>\n",
       "    <tr>\n",
       "      <th>3</th>\n",
       "      <td>ORD</td>\n",
       "      <td>Chicago             IL</td>\n",
       "      <td>*</td>\n",
       "      <td>Baltimore/Wash Intl MD</td>\n",
       "      <td>1.06</td>\n",
       "      <td>3</td>\n",
       "      <td>No</td>\n",
       "      <td>2657.35</td>\n",
       "      <td>29260</td>\n",
       "      <td>29838</td>\n",
       "      <td>7830332</td>\n",
       "      <td>7145897</td>\n",
       "      <td>Controlled</td>\n",
       "      <td>Free</td>\n",
       "      <td>612</td>\n",
       "      <td>25144</td>\n",
       "      <td>85.47</td>\n",
       "      <td>1</td>\n",
       "    </tr>\n",
       "    <tr>\n",
       "      <th>4</th>\n",
       "      <td>MDW</td>\n",
       "      <td>Chicago             IL</td>\n",
       "      <td>*</td>\n",
       "      <td>Baltimore/Wash Intl MD</td>\n",
       "      <td>1.06</td>\n",
       "      <td>3</td>\n",
       "      <td>No</td>\n",
       "      <td>2657.35</td>\n",
       "      <td>29260</td>\n",
       "      <td>29838</td>\n",
       "      <td>7830332</td>\n",
       "      <td>7145897</td>\n",
       "      <td>Free</td>\n",
       "      <td>Free</td>\n",
       "      <td>612</td>\n",
       "      <td>25144</td>\n",
       "      <td>85.47</td>\n",
       "      <td>1</td>\n",
       "    </tr>\n",
       "  </tbody>\n",
       "</table>\n",
       "</div>"
      ],
      "text/plain": [
       "  S_CODE                  S_CITY E_CODE                  E_CITY  COUPON  NEW  \\\n",
       "0      *  Dallas/Fort Worth   TX      *  Amarillo            TX    1.00    3   \n",
       "1      *  Atlanta             GA      *  Baltimore/Wash Intl MD    1.06    3   \n",
       "2      *  Boston              MA      *  Baltimore/Wash Intl MD    1.06    3   \n",
       "3    ORD  Chicago             IL      *  Baltimore/Wash Intl MD    1.06    3   \n",
       "4    MDW  Chicago             IL      *  Baltimore/Wash Intl MD    1.06    3   \n",
       "\n",
       "  VACATION       HI  S_INCOME  E_INCOME    S_POP    E_POP        SLOT  GATE  \\\n",
       "0       No  5291.99     28637     21112  3036732   205711        Free  Free   \n",
       "1       No  5419.16     26993     29838  3532657  7145897        Free  Free   \n",
       "2       No  9185.28     30124     29838  5787293  7145897        Free  Free   \n",
       "3       No  2657.35     29260     29838  7830332  7145897  Controlled  Free   \n",
       "4       No  2657.35     29260     29838  7830332  7145897        Free  Free   \n",
       "\n",
       "   DISTANCE    PAX    FARE  Yes  \n",
       "0       312   7864   64.11    1  \n",
       "1       576   8820  174.47    0  \n",
       "2       364   6452  207.76    0  \n",
       "3       612  25144   85.47    1  \n",
       "4       612  25144   85.47    1  "
      ]
     },
     "execution_count": 127,
     "metadata": {},
     "output_type": "execute_result"
    }
   ],
   "source": [
    "df.head()"
   ]
  },
  {
   "cell_type": "code",
   "execution_count": 128,
   "id": "73a9117d",
   "metadata": {},
   "outputs": [],
   "source": [
    "X_train, X_test , y_train , y_test = train_test_split(\n",
    "                                                sw.values.reshape(-1,1),\n",
    "                                                y.values.reshape(-1,1),\n",
    "                                                train_size=0.8,\n",
    "                                                random_state=1234,\n",
    "                                                shuffle=True)"
   ]
  },
  {
   "cell_type": "code",
   "execution_count": 129,
   "id": "1229f81e",
   "metadata": {},
   "outputs": [
    {
     "data": {
      "text/plain": [
       "LinearRegression()"
      ]
     },
     "execution_count": 129,
     "metadata": {},
     "output_type": "execute_result"
    }
   ],
   "source": [
    "modelo = LinearRegression()\n",
    "modelo.fit(X = X_train.reshape(-1,1), y = y_train) "
   ]
  },
  {
   "cell_type": "code",
   "execution_count": 142,
   "id": "9b8e9524",
   "metadata": {},
   "outputs": [
    {
     "name": "stdout",
     "output_type": "stream",
     "text": [
      "Intercept [188.52988604]\n",
      "Coeficiente: [('HI', -90.73655270655274)]\n"
     ]
    }
   ],
   "source": [
    "print('Intercept', modelo.intercept_)\n",
    "print('Coeficiente:', list(zip(X.columns, modelo.coef_.flatten())))"
   ]
  },
  {
   "cell_type": "markdown",
   "id": "db79d852",
   "metadata": {},
   "source": [
    "En este punto la predicción de los precios ya no se basa en las nuevas rutas, ahora se basa en la existencia o no, de la empresa Southwest Airlines en dicha zona."
   ]
  },
  {
   "cell_type": "code",
   "execution_count": 147,
   "id": "6c8879c1",
   "metadata": {},
   "outputs": [
    {
     "name": "stdout",
     "output_type": "stream",
     "text": [
      "Predicciones: [[188.52988604]\n",
      " [188.52988604]\n",
      " [188.52988604]\n",
      " [ 97.79333333]\n",
      " [188.52988604]]\n",
      "El error (rmse) de test es: 66.60919591498119\n"
     ]
    }
   ],
   "source": [
    "predicciones=modelo.predict(X_test)\n",
    "print('Predicciones:', predicciones[0:5,])\n",
    "\n",
    "rmse = mean_squared_error(\n",
    "                    y_true = y_test,\n",
    "                    y_pred = predicciones,\n",
    "                    squared = False\n",
    "                    )\n",
    "print(f'El error (rmse) de test es: {rmse}')"
   ]
  },
  {
   "cell_type": "code",
   "execution_count": null,
   "id": "51aa6b51",
   "metadata": {},
   "outputs": [],
   "source": []
  }
 ],
 "metadata": {
  "kernelspec": {
   "display_name": "Python 3 (ipykernel)",
   "language": "python",
   "name": "python3"
  },
  "language_info": {
   "codemirror_mode": {
    "name": "ipython",
    "version": 3
   },
   "file_extension": ".py",
   "mimetype": "text/x-python",
   "name": "python",
   "nbconvert_exporter": "python",
   "pygments_lexer": "ipython3",
   "version": "3.9.12"
  }
 },
 "nbformat": 4,
 "nbformat_minor": 5
}
